{
  "nbformat": 4,
  "nbformat_minor": 0,
  "metadata": {
    "colab": {
      "provenance": []
    },
    "kernelspec": {
      "name": "python3",
      "display_name": "Python 3"
    },
    "language_info": {
      "name": "python"
    }
  },
  "cells": [
    {
      "cell_type": "code",
      "source": [
        "!echo \"# ts_myfin\" >> README.md\n",
        "!git init\n",
        "!git add README.md\n",
        "!git commit -m \"first commit\"\n",
        "!git branch -M main\n",
        "!git remote add origin https://github.com/prrm4k/ts_myfin.git\n",
        "!git push -u origin main"
      ],
      "metadata": {
        "colab": {
          "base_uri": "https://localhost:8080/",
          "height": 0
        },
        "id": "iQn5qrYjkdJu",
        "outputId": "38b8d85f-2be8-4c98-d697-5e8ed3eef031"
      },
      "execution_count": 2,
      "outputs": [
        {
          "output_type": "stream",
          "name": "stdout",
          "text": [
            "Initialized empty Git repository in /content/.git/\n",
            "\n",
            "*** Please tell me who you are.\n",
            "\n",
            "Run\n",
            "\n",
            "  git config --global user.email \"you@example.com\"\n",
            "  git config --global user.name \"Your Name\"\n",
            "\n",
            "to set your account's default identity.\n",
            "Omit --global to set the identity only in this repository.\n",
            "\n",
            "fatal: unable to auto-detect email address (got 'root@94bf5b0843ef.(none)')\n",
            "error: refname refs/heads/master not found\n",
            "fatal: Branch rename failed\n",
            "error: src refspec main does not match any\n",
            "\u001b[31merror: failed to push some refs to 'https://github.com/prrm4k/ts_myfin.git'\n",
            "\u001b[m"
          ]
        }
      ]
    },
    {
      "cell_type": "markdown",
      "source": [
        "## **Тестовое задание на позицию аналитика в MyFin**"
      ],
      "metadata": {
        "id": "m1tKTf8hThBY"
      }
    },
    {
      "cell_type": "code",
      "execution_count": null,
      "metadata": {
        "id": "9c6Tw2PPqXNo"
      },
      "outputs": [],
      "source": [
        "import pandas as pd\n",
        "import matplotlib.pyplot as plt\n",
        "import seaborn as sns\n",
        "danform=pd.read_excel('/content/ТЗ Данные формы — копия.xlsx')\n",
        "status=pd.read_excel('/content/ТЗ статусы по заявкам — копия.xlsx')"
      ]
    },
    {
      "cell_type": "markdown",
      "source": [
        "Уточнение по поводу файла \"Данные формы\": загружать в ноутбук следует мой отредактированный файл. В нем в одной строчке двойные кавычки были заменены на одинарные, ввиду того, что у модуля json возникал с ними конфликт"
      ],
      "metadata": {
        "id": "T2O5FGUFbUZJ"
      }
    },
    {
      "cell_type": "code",
      "source": [
        "print(danform.shape)\n",
        "print(status.shape)"
      ],
      "metadata": {
        "colab": {
          "base_uri": "https://localhost:8080/"
        },
        "id": "L5igaxSHrcXu",
        "outputId": "5df1afce-6c85-42f2-f14c-c7bebc075675"
      },
      "execution_count": null,
      "outputs": [
        {
          "output_type": "stream",
          "name": "stdout",
          "text": [
            "(503, 3)\n",
            "(506, 2)\n"
          ]
        }
      ]
    },
    {
      "cell_type": "markdown",
      "source": [
        "В таблице \"Статусы по заявкам\" заявок больше, чем в таблице \"Данные формы\"\n",
        "Проверим, являются ли эти \"лишиние заявки\" дубликатами, либо же мы к ним не сможем подобрать соответствий из другой таблицы и их допустимо удалить:\n"
      ],
      "metadata": {
        "id": "JUnzSjsfUWWq"
      }
    },
    {
      "cell_type": "code",
      "source": [
        "list_1=list(danform['Id заявки банка'])\n",
        "list_2=list(status['Id заявки банка'])\n",
        "list_3 = set(list_2) - set(list_1)\n",
        "list_3"
      ],
      "metadata": {
        "colab": {
          "base_uri": "https://localhost:8080/"
        },
        "id": "g-Ln0Po8T3tQ",
        "outputId": "98e320bd-e9e9-4a9c-ea5c-cb62686008a0"
      },
      "execution_count": null,
      "outputs": [
        {
          "output_type": "execute_result",
          "data": {
            "text/plain": [
              "{'85070000-56b4-0050-aa7f-08dafe1588b6',\n",
              " '85070000-56b4-0050-dce1-08dafe157917',\n",
              " 'eaab0000-5692-0050-8d18-08dafe157978'}"
            ]
          },
          "metadata": {},
          "execution_count": 4
        }
      ]
    },
    {
      "cell_type": "markdown",
      "source": [
        "Да, гипотеза подтвердилась, есть 3 \"лишних\" заявки, поэтому соединение таблиц будет производиться по принципу INNER JOIN"
      ],
      "metadata": {
        "id": "y6kMKX4jU3eM"
      }
    },
    {
      "cell_type": "code",
      "source": [
        "full=status.merge(danform, how='inner')\n",
        "full.shape"
      ],
      "metadata": {
        "colab": {
          "base_uri": "https://localhost:8080/"
        },
        "id": "PQ93MPXGruy-",
        "outputId": "4b1e80ec-05f2-4eb7-cf97-4234e3a1e627"
      },
      "execution_count": null,
      "outputs": [
        {
          "output_type": "execute_result",
          "data": {
            "text/plain": [
              "(503, 4)"
            ]
          },
          "metadata": {},
          "execution_count": 5
        }
      ]
    },
    {
      "cell_type": "code",
      "source": [
        "full.head()"
      ],
      "metadata": {
        "colab": {
          "base_uri": "https://localhost:8080/",
          "height": 206
        },
        "id": "FhhSjEngVQrL",
        "outputId": "22bbe2f1-e4dd-4625-d396-ec5c0c1602f8"
      },
      "execution_count": null,
      "outputs": [
        {
          "output_type": "execute_result",
          "data": {
            "text/plain": [
              "                        Id заявки банка                   Статус        id  \\\n",
              "0  cfd30000-5692-0050-d657-08dafddef146                    Отказ  12500019   \n",
              "1  11920000-56b4-0050-0086-08dafe00e25f                    Отказ  12501889   \n",
              "2  1c640000-56b4-0050-75c3-08dafe0d59de                    Отказ  12502721   \n",
              "3  1c640000-56b4-0050-b29d-08dafe153f0a  Предварительно одобрено  12500131   \n",
              "4  1c640000-56b4-0050-9d55-08dafe154e6f                    Отказ  12500592   \n",
              "\n",
              "                                        данные формы  \n",
              "0  {\"amount\":\"200000\",\"credit_term_id\":\"36\",\"cred...  \n",
              "1  {\"amount\":\"150000\",\"credit_term_id\":\"36\",\"cred...  \n",
              "2  {\"amount\":\"5000000\",\"credit_term_id\":\"84\",\"cre...  \n",
              "3  {\"amount\":\"200000\",\"credit_term_id\":\"60\",\"cred...  \n",
              "4  {\"amount\":\"300000\",\"credit_term_id\":\"36\",\"cred...  "
            ],
            "text/html": [
              "\n",
              "  <div id=\"df-4858ec0a-9e27-4c7f-bd80-f5e32b36c264\">\n",
              "    <div class=\"colab-df-container\">\n",
              "      <div>\n",
              "<style scoped>\n",
              "    .dataframe tbody tr th:only-of-type {\n",
              "        vertical-align: middle;\n",
              "    }\n",
              "\n",
              "    .dataframe tbody tr th {\n",
              "        vertical-align: top;\n",
              "    }\n",
              "\n",
              "    .dataframe thead th {\n",
              "        text-align: right;\n",
              "    }\n",
              "</style>\n",
              "<table border=\"1\" class=\"dataframe\">\n",
              "  <thead>\n",
              "    <tr style=\"text-align: right;\">\n",
              "      <th></th>\n",
              "      <th>Id заявки банка</th>\n",
              "      <th>Статус</th>\n",
              "      <th>id</th>\n",
              "      <th>данные формы</th>\n",
              "    </tr>\n",
              "  </thead>\n",
              "  <tbody>\n",
              "    <tr>\n",
              "      <th>0</th>\n",
              "      <td>cfd30000-5692-0050-d657-08dafddef146</td>\n",
              "      <td>Отказ</td>\n",
              "      <td>12500019</td>\n",
              "      <td>{\"amount\":\"200000\",\"credit_term_id\":\"36\",\"cred...</td>\n",
              "    </tr>\n",
              "    <tr>\n",
              "      <th>1</th>\n",
              "      <td>11920000-56b4-0050-0086-08dafe00e25f</td>\n",
              "      <td>Отказ</td>\n",
              "      <td>12501889</td>\n",
              "      <td>{\"amount\":\"150000\",\"credit_term_id\":\"36\",\"cred...</td>\n",
              "    </tr>\n",
              "    <tr>\n",
              "      <th>2</th>\n",
              "      <td>1c640000-56b4-0050-75c3-08dafe0d59de</td>\n",
              "      <td>Отказ</td>\n",
              "      <td>12502721</td>\n",
              "      <td>{\"amount\":\"5000000\",\"credit_term_id\":\"84\",\"cre...</td>\n",
              "    </tr>\n",
              "    <tr>\n",
              "      <th>3</th>\n",
              "      <td>1c640000-56b4-0050-b29d-08dafe153f0a</td>\n",
              "      <td>Предварительно одобрено</td>\n",
              "      <td>12500131</td>\n",
              "      <td>{\"amount\":\"200000\",\"credit_term_id\":\"60\",\"cred...</td>\n",
              "    </tr>\n",
              "    <tr>\n",
              "      <th>4</th>\n",
              "      <td>1c640000-56b4-0050-9d55-08dafe154e6f</td>\n",
              "      <td>Отказ</td>\n",
              "      <td>12500592</td>\n",
              "      <td>{\"amount\":\"300000\",\"credit_term_id\":\"36\",\"cred...</td>\n",
              "    </tr>\n",
              "  </tbody>\n",
              "</table>\n",
              "</div>\n",
              "      <button class=\"colab-df-convert\" onclick=\"convertToInteractive('df-4858ec0a-9e27-4c7f-bd80-f5e32b36c264')\"\n",
              "              title=\"Convert this dataframe to an interactive table.\"\n",
              "              style=\"display:none;\">\n",
              "        \n",
              "  <svg xmlns=\"http://www.w3.org/2000/svg\" height=\"24px\"viewBox=\"0 0 24 24\"\n",
              "       width=\"24px\">\n",
              "    <path d=\"M0 0h24v24H0V0z\" fill=\"none\"/>\n",
              "    <path d=\"M18.56 5.44l.94 2.06.94-2.06 2.06-.94-2.06-.94-.94-2.06-.94 2.06-2.06.94zm-11 1L8.5 8.5l.94-2.06 2.06-.94-2.06-.94L8.5 2.5l-.94 2.06-2.06.94zm10 10l.94 2.06.94-2.06 2.06-.94-2.06-.94-.94-2.06-.94 2.06-2.06.94z\"/><path d=\"M17.41 7.96l-1.37-1.37c-.4-.4-.92-.59-1.43-.59-.52 0-1.04.2-1.43.59L10.3 9.45l-7.72 7.72c-.78.78-.78 2.05 0 2.83L4 21.41c.39.39.9.59 1.41.59.51 0 1.02-.2 1.41-.59l7.78-7.78 2.81-2.81c.8-.78.8-2.07 0-2.86zM5.41 20L4 18.59l7.72-7.72 1.47 1.35L5.41 20z\"/>\n",
              "  </svg>\n",
              "      </button>\n",
              "      \n",
              "  <style>\n",
              "    .colab-df-container {\n",
              "      display:flex;\n",
              "      flex-wrap:wrap;\n",
              "      gap: 12px;\n",
              "    }\n",
              "\n",
              "    .colab-df-convert {\n",
              "      background-color: #E8F0FE;\n",
              "      border: none;\n",
              "      border-radius: 50%;\n",
              "      cursor: pointer;\n",
              "      display: none;\n",
              "      fill: #1967D2;\n",
              "      height: 32px;\n",
              "      padding: 0 0 0 0;\n",
              "      width: 32px;\n",
              "    }\n",
              "\n",
              "    .colab-df-convert:hover {\n",
              "      background-color: #E2EBFA;\n",
              "      box-shadow: 0px 1px 2px rgba(60, 64, 67, 0.3), 0px 1px 3px 1px rgba(60, 64, 67, 0.15);\n",
              "      fill: #174EA6;\n",
              "    }\n",
              "\n",
              "    [theme=dark] .colab-df-convert {\n",
              "      background-color: #3B4455;\n",
              "      fill: #D2E3FC;\n",
              "    }\n",
              "\n",
              "    [theme=dark] .colab-df-convert:hover {\n",
              "      background-color: #434B5C;\n",
              "      box-shadow: 0px 1px 3px 1px rgba(0, 0, 0, 0.15);\n",
              "      filter: drop-shadow(0px 1px 2px rgba(0, 0, 0, 0.3));\n",
              "      fill: #FFFFFF;\n",
              "    }\n",
              "  </style>\n",
              "\n",
              "      <script>\n",
              "        const buttonEl =\n",
              "          document.querySelector('#df-4858ec0a-9e27-4c7f-bd80-f5e32b36c264 button.colab-df-convert');\n",
              "        buttonEl.style.display =\n",
              "          google.colab.kernel.accessAllowed ? 'block' : 'none';\n",
              "\n",
              "        async function convertToInteractive(key) {\n",
              "          const element = document.querySelector('#df-4858ec0a-9e27-4c7f-bd80-f5e32b36c264');\n",
              "          const dataTable =\n",
              "            await google.colab.kernel.invokeFunction('convertToInteractive',\n",
              "                                                     [key], {});\n",
              "          if (!dataTable) return;\n",
              "\n",
              "          const docLinkHtml = 'Like what you see? Visit the ' +\n",
              "            '<a target=\"_blank\" href=https://colab.research.google.com/notebooks/data_table.ipynb>data table notebook</a>'\n",
              "            + ' to learn more about interactive tables.';\n",
              "          element.innerHTML = '';\n",
              "          dataTable['output_type'] = 'display_data';\n",
              "          await google.colab.output.renderOutput(dataTable, element);\n",
              "          const docLink = document.createElement('div');\n",
              "          docLink.innerHTML = docLinkHtml;\n",
              "          element.appendChild(docLink);\n",
              "        }\n",
              "      </script>\n",
              "    </div>\n",
              "  </div>\n",
              "  "
            ]
          },
          "metadata": {},
          "execution_count": 6
        }
      ]
    },
    {
      "cell_type": "code",
      "source": [
        "full['Статус'].unique()"
      ],
      "metadata": {
        "colab": {
          "base_uri": "https://localhost:8080/"
        },
        "id": "b0Qsg36Sxzt1",
        "outputId": "b77b19c3-93fe-49f5-c2e1-4ef49d3ff04a"
      },
      "execution_count": null,
      "outputs": [
        {
          "output_type": "execute_result",
          "data": {
            "text/plain": [
              "array(['Отказ', 'Предварительно одобрено', 'Обработка завершена',\n",
              "       'Выдано', 'Заявка принята'], dtype=object)"
            ]
          },
          "metadata": {},
          "execution_count": 7
        }
      ]
    },
    {
      "cell_type": "markdown",
      "source": [
        "Соответсвенно последовательность операций будет следующая:\n",
        "Заявка принята - Обработка завершена - ***Предварительно  одобрено/***Отказ - Выдано\n",
        "\n",
        "\n"
      ],
      "metadata": {
        "id": "1LSnrlBMCyel"
      }
    },
    {
      "cell_type": "markdown",
      "source": [
        "Столбец получившейся таблицы \"данные формы\" содержит данные, которые можно преобразовать и разнести по новым столбцам в таблице и удобно их извлекать и использовать\n",
        "\n",
        "Применим функцию json_normalize"
      ],
      "metadata": {
        "id": "wTXQqXOjVPOK"
      }
    },
    {
      "cell_type": "code",
      "source": [
        "from pandas.io.json import json_normalize\n",
        "list1=list(full['данные формы'])\n",
        "list2=[]\n",
        "import ast\n",
        "for i in range(len(list1)):\n",
        "  list2.append(ast.literal_eval(list1[i]))\n",
        "forma=json_normalize(list2)\n",
        "forma.head()"
      ],
      "metadata": {
        "colab": {
          "base_uri": "https://localhost:8080/",
          "height": 304
        },
        "id": "7b97et7_sCMZ",
        "outputId": "7b926573-381a-4bb5-8ac7-23e485822397"
      },
      "execution_count": null,
      "outputs": [
        {
          "output_type": "stream",
          "name": "stderr",
          "text": [
            "<ipython-input-8-7d3831b605c7>:7: FutureWarning: pandas.io.json.json_normalize is deprecated, use pandas.json_normalize instead.\n",
            "  forma=json_normalize(list2)\n"
          ]
        },
        {
          "output_type": "execute_result",
          "data": {
            "text/plain": [
              "    amount credit_term_id                 credit_city_id education_id  \\\n",
              "0   200000             36                       г Самара           40   \n",
              "1   150000             36  Волгоградская обл, г Волжский           30   \n",
              "2  5000000             84                        г Пермь           30   \n",
              "3   200000             60                      г Грозный           30   \n",
              "4   300000             36                          г Уфа           30   \n",
              "\n",
              "  date_of_birth type_of_employment gender registration_address_city  \\\n",
              "0    09-02-1998         unemployed      М                    Самара   \n",
              "1    18-11-1967             employ      М                  Волжский   \n",
              "2    18-05-1978             employ      М                     Пермь   \n",
              "3    13-05-1996             employ      Ж                 Мекен-Юрт   \n",
              "4    25-10-1985             employ      Ж                    Мелеуз   \n",
              "\n",
              "  living_address_postal_code  \n",
              "0                     443031  \n",
              "1                     404130  \n",
              "2                     614000  \n",
              "3                     366811  \n",
              "4                     453856  "
            ],
            "text/html": [
              "\n",
              "  <div id=\"df-1fa34edb-688d-41dc-8c3b-9e710cc93a11\">\n",
              "    <div class=\"colab-df-container\">\n",
              "      <div>\n",
              "<style scoped>\n",
              "    .dataframe tbody tr th:only-of-type {\n",
              "        vertical-align: middle;\n",
              "    }\n",
              "\n",
              "    .dataframe tbody tr th {\n",
              "        vertical-align: top;\n",
              "    }\n",
              "\n",
              "    .dataframe thead th {\n",
              "        text-align: right;\n",
              "    }\n",
              "</style>\n",
              "<table border=\"1\" class=\"dataframe\">\n",
              "  <thead>\n",
              "    <tr style=\"text-align: right;\">\n",
              "      <th></th>\n",
              "      <th>amount</th>\n",
              "      <th>credit_term_id</th>\n",
              "      <th>credit_city_id</th>\n",
              "      <th>education_id</th>\n",
              "      <th>date_of_birth</th>\n",
              "      <th>type_of_employment</th>\n",
              "      <th>gender</th>\n",
              "      <th>registration_address_city</th>\n",
              "      <th>living_address_postal_code</th>\n",
              "    </tr>\n",
              "  </thead>\n",
              "  <tbody>\n",
              "    <tr>\n",
              "      <th>0</th>\n",
              "      <td>200000</td>\n",
              "      <td>36</td>\n",
              "      <td>г Самара</td>\n",
              "      <td>40</td>\n",
              "      <td>09-02-1998</td>\n",
              "      <td>unemployed</td>\n",
              "      <td>М</td>\n",
              "      <td>Самара</td>\n",
              "      <td>443031</td>\n",
              "    </tr>\n",
              "    <tr>\n",
              "      <th>1</th>\n",
              "      <td>150000</td>\n",
              "      <td>36</td>\n",
              "      <td>Волгоградская обл, г Волжский</td>\n",
              "      <td>30</td>\n",
              "      <td>18-11-1967</td>\n",
              "      <td>employ</td>\n",
              "      <td>М</td>\n",
              "      <td>Волжский</td>\n",
              "      <td>404130</td>\n",
              "    </tr>\n",
              "    <tr>\n",
              "      <th>2</th>\n",
              "      <td>5000000</td>\n",
              "      <td>84</td>\n",
              "      <td>г Пермь</td>\n",
              "      <td>30</td>\n",
              "      <td>18-05-1978</td>\n",
              "      <td>employ</td>\n",
              "      <td>М</td>\n",
              "      <td>Пермь</td>\n",
              "      <td>614000</td>\n",
              "    </tr>\n",
              "    <tr>\n",
              "      <th>3</th>\n",
              "      <td>200000</td>\n",
              "      <td>60</td>\n",
              "      <td>г Грозный</td>\n",
              "      <td>30</td>\n",
              "      <td>13-05-1996</td>\n",
              "      <td>employ</td>\n",
              "      <td>Ж</td>\n",
              "      <td>Мекен-Юрт</td>\n",
              "      <td>366811</td>\n",
              "    </tr>\n",
              "    <tr>\n",
              "      <th>4</th>\n",
              "      <td>300000</td>\n",
              "      <td>36</td>\n",
              "      <td>г Уфа</td>\n",
              "      <td>30</td>\n",
              "      <td>25-10-1985</td>\n",
              "      <td>employ</td>\n",
              "      <td>Ж</td>\n",
              "      <td>Мелеуз</td>\n",
              "      <td>453856</td>\n",
              "    </tr>\n",
              "  </tbody>\n",
              "</table>\n",
              "</div>\n",
              "      <button class=\"colab-df-convert\" onclick=\"convertToInteractive('df-1fa34edb-688d-41dc-8c3b-9e710cc93a11')\"\n",
              "              title=\"Convert this dataframe to an interactive table.\"\n",
              "              style=\"display:none;\">\n",
              "        \n",
              "  <svg xmlns=\"http://www.w3.org/2000/svg\" height=\"24px\"viewBox=\"0 0 24 24\"\n",
              "       width=\"24px\">\n",
              "    <path d=\"M0 0h24v24H0V0z\" fill=\"none\"/>\n",
              "    <path d=\"M18.56 5.44l.94 2.06.94-2.06 2.06-.94-2.06-.94-.94-2.06-.94 2.06-2.06.94zm-11 1L8.5 8.5l.94-2.06 2.06-.94-2.06-.94L8.5 2.5l-.94 2.06-2.06.94zm10 10l.94 2.06.94-2.06 2.06-.94-2.06-.94-.94-2.06-.94 2.06-2.06.94z\"/><path d=\"M17.41 7.96l-1.37-1.37c-.4-.4-.92-.59-1.43-.59-.52 0-1.04.2-1.43.59L10.3 9.45l-7.72 7.72c-.78.78-.78 2.05 0 2.83L4 21.41c.39.39.9.59 1.41.59.51 0 1.02-.2 1.41-.59l7.78-7.78 2.81-2.81c.8-.78.8-2.07 0-2.86zM5.41 20L4 18.59l7.72-7.72 1.47 1.35L5.41 20z\"/>\n",
              "  </svg>\n",
              "      </button>\n",
              "      \n",
              "  <style>\n",
              "    .colab-df-container {\n",
              "      display:flex;\n",
              "      flex-wrap:wrap;\n",
              "      gap: 12px;\n",
              "    }\n",
              "\n",
              "    .colab-df-convert {\n",
              "      background-color: #E8F0FE;\n",
              "      border: none;\n",
              "      border-radius: 50%;\n",
              "      cursor: pointer;\n",
              "      display: none;\n",
              "      fill: #1967D2;\n",
              "      height: 32px;\n",
              "      padding: 0 0 0 0;\n",
              "      width: 32px;\n",
              "    }\n",
              "\n",
              "    .colab-df-convert:hover {\n",
              "      background-color: #E2EBFA;\n",
              "      box-shadow: 0px 1px 2px rgba(60, 64, 67, 0.3), 0px 1px 3px 1px rgba(60, 64, 67, 0.15);\n",
              "      fill: #174EA6;\n",
              "    }\n",
              "\n",
              "    [theme=dark] .colab-df-convert {\n",
              "      background-color: #3B4455;\n",
              "      fill: #D2E3FC;\n",
              "    }\n",
              "\n",
              "    [theme=dark] .colab-df-convert:hover {\n",
              "      background-color: #434B5C;\n",
              "      box-shadow: 0px 1px 3px 1px rgba(0, 0, 0, 0.15);\n",
              "      filter: drop-shadow(0px 1px 2px rgba(0, 0, 0, 0.3));\n",
              "      fill: #FFFFFF;\n",
              "    }\n",
              "  </style>\n",
              "\n",
              "      <script>\n",
              "        const buttonEl =\n",
              "          document.querySelector('#df-1fa34edb-688d-41dc-8c3b-9e710cc93a11 button.colab-df-convert');\n",
              "        buttonEl.style.display =\n",
              "          google.colab.kernel.accessAllowed ? 'block' : 'none';\n",
              "\n",
              "        async function convertToInteractive(key) {\n",
              "          const element = document.querySelector('#df-1fa34edb-688d-41dc-8c3b-9e710cc93a11');\n",
              "          const dataTable =\n",
              "            await google.colab.kernel.invokeFunction('convertToInteractive',\n",
              "                                                     [key], {});\n",
              "          if (!dataTable) return;\n",
              "\n",
              "          const docLinkHtml = 'Like what you see? Visit the ' +\n",
              "            '<a target=\"_blank\" href=https://colab.research.google.com/notebooks/data_table.ipynb>data table notebook</a>'\n",
              "            + ' to learn more about interactive tables.';\n",
              "          element.innerHTML = '';\n",
              "          dataTable['output_type'] = 'display_data';\n",
              "          await google.colab.output.renderOutput(dataTable, element);\n",
              "          const docLink = document.createElement('div');\n",
              "          docLink.innerHTML = docLinkHtml;\n",
              "          element.appendChild(docLink);\n",
              "        }\n",
              "      </script>\n",
              "    </div>\n",
              "  </div>\n",
              "  "
            ]
          },
          "metadata": {},
          "execution_count": 8
        }
      ]
    },
    {
      "cell_type": "markdown",
      "source": [
        "Сделаем финальную таблицу из двух имеющихся"
      ],
      "metadata": {
        "id": "3PXZWamdV-J7"
      }
    },
    {
      "cell_type": "code",
      "source": [
        "full1=full[['Id заявки банка','Статус','id']]\n",
        "finalfull=full1.merge(forma, left_index=True, right_index=True)\n",
        "finalfull.head()"
      ],
      "metadata": {
        "colab": {
          "base_uri": "https://localhost:8080/",
          "height": 548
        },
        "id": "3Hp_Fac3B6Rg",
        "outputId": "1fe1248d-307f-426a-ce23-87fad3ba982f"
      },
      "execution_count": null,
      "outputs": [
        {
          "output_type": "execute_result",
          "data": {
            "text/plain": [
              "                        Id заявки банка                   Статус        id  \\\n",
              "0  cfd30000-5692-0050-d657-08dafddef146                    Отказ  12500019   \n",
              "1  11920000-56b4-0050-0086-08dafe00e25f                    Отказ  12501889   \n",
              "2  1c640000-56b4-0050-75c3-08dafe0d59de                    Отказ  12502721   \n",
              "3  1c640000-56b4-0050-b29d-08dafe153f0a  Предварительно одобрено  12500131   \n",
              "4  1c640000-56b4-0050-9d55-08dafe154e6f                    Отказ  12500592   \n",
              "\n",
              "    amount credit_term_id                 credit_city_id education_id  \\\n",
              "0   200000             36                       г Самара           40   \n",
              "1   150000             36  Волгоградская обл, г Волжский           30   \n",
              "2  5000000             84                        г Пермь           30   \n",
              "3   200000             60                      г Грозный           30   \n",
              "4   300000             36                          г Уфа           30   \n",
              "\n",
              "  date_of_birth type_of_employment gender registration_address_city  \\\n",
              "0    09-02-1998         unemployed      М                    Самара   \n",
              "1    18-11-1967             employ      М                  Волжский   \n",
              "2    18-05-1978             employ      М                     Пермь   \n",
              "3    13-05-1996             employ      Ж                 Мекен-Юрт   \n",
              "4    25-10-1985             employ      Ж                    Мелеуз   \n",
              "\n",
              "  living_address_postal_code  \n",
              "0                     443031  \n",
              "1                     404130  \n",
              "2                     614000  \n",
              "3                     366811  \n",
              "4                     453856  "
            ],
            "text/html": [
              "\n",
              "  <div id=\"df-5d4707a9-bf02-4ee8-8a28-dbf1ccf86ba2\">\n",
              "    <div class=\"colab-df-container\">\n",
              "      <div>\n",
              "<style scoped>\n",
              "    .dataframe tbody tr th:only-of-type {\n",
              "        vertical-align: middle;\n",
              "    }\n",
              "\n",
              "    .dataframe tbody tr th {\n",
              "        vertical-align: top;\n",
              "    }\n",
              "\n",
              "    .dataframe thead th {\n",
              "        text-align: right;\n",
              "    }\n",
              "</style>\n",
              "<table border=\"1\" class=\"dataframe\">\n",
              "  <thead>\n",
              "    <tr style=\"text-align: right;\">\n",
              "      <th></th>\n",
              "      <th>Id заявки банка</th>\n",
              "      <th>Статус</th>\n",
              "      <th>id</th>\n",
              "      <th>amount</th>\n",
              "      <th>credit_term_id</th>\n",
              "      <th>credit_city_id</th>\n",
              "      <th>education_id</th>\n",
              "      <th>date_of_birth</th>\n",
              "      <th>type_of_employment</th>\n",
              "      <th>gender</th>\n",
              "      <th>registration_address_city</th>\n",
              "      <th>living_address_postal_code</th>\n",
              "    </tr>\n",
              "  </thead>\n",
              "  <tbody>\n",
              "    <tr>\n",
              "      <th>0</th>\n",
              "      <td>cfd30000-5692-0050-d657-08dafddef146</td>\n",
              "      <td>Отказ</td>\n",
              "      <td>12500019</td>\n",
              "      <td>200000</td>\n",
              "      <td>36</td>\n",
              "      <td>г Самара</td>\n",
              "      <td>40</td>\n",
              "      <td>09-02-1998</td>\n",
              "      <td>unemployed</td>\n",
              "      <td>М</td>\n",
              "      <td>Самара</td>\n",
              "      <td>443031</td>\n",
              "    </tr>\n",
              "    <tr>\n",
              "      <th>1</th>\n",
              "      <td>11920000-56b4-0050-0086-08dafe00e25f</td>\n",
              "      <td>Отказ</td>\n",
              "      <td>12501889</td>\n",
              "      <td>150000</td>\n",
              "      <td>36</td>\n",
              "      <td>Волгоградская обл, г Волжский</td>\n",
              "      <td>30</td>\n",
              "      <td>18-11-1967</td>\n",
              "      <td>employ</td>\n",
              "      <td>М</td>\n",
              "      <td>Волжский</td>\n",
              "      <td>404130</td>\n",
              "    </tr>\n",
              "    <tr>\n",
              "      <th>2</th>\n",
              "      <td>1c640000-56b4-0050-75c3-08dafe0d59de</td>\n",
              "      <td>Отказ</td>\n",
              "      <td>12502721</td>\n",
              "      <td>5000000</td>\n",
              "      <td>84</td>\n",
              "      <td>г Пермь</td>\n",
              "      <td>30</td>\n",
              "      <td>18-05-1978</td>\n",
              "      <td>employ</td>\n",
              "      <td>М</td>\n",
              "      <td>Пермь</td>\n",
              "      <td>614000</td>\n",
              "    </tr>\n",
              "    <tr>\n",
              "      <th>3</th>\n",
              "      <td>1c640000-56b4-0050-b29d-08dafe153f0a</td>\n",
              "      <td>Предварительно одобрено</td>\n",
              "      <td>12500131</td>\n",
              "      <td>200000</td>\n",
              "      <td>60</td>\n",
              "      <td>г Грозный</td>\n",
              "      <td>30</td>\n",
              "      <td>13-05-1996</td>\n",
              "      <td>employ</td>\n",
              "      <td>Ж</td>\n",
              "      <td>Мекен-Юрт</td>\n",
              "      <td>366811</td>\n",
              "    </tr>\n",
              "    <tr>\n",
              "      <th>4</th>\n",
              "      <td>1c640000-56b4-0050-9d55-08dafe154e6f</td>\n",
              "      <td>Отказ</td>\n",
              "      <td>12500592</td>\n",
              "      <td>300000</td>\n",
              "      <td>36</td>\n",
              "      <td>г Уфа</td>\n",
              "      <td>30</td>\n",
              "      <td>25-10-1985</td>\n",
              "      <td>employ</td>\n",
              "      <td>Ж</td>\n",
              "      <td>Мелеуз</td>\n",
              "      <td>453856</td>\n",
              "    </tr>\n",
              "  </tbody>\n",
              "</table>\n",
              "</div>\n",
              "      <button class=\"colab-df-convert\" onclick=\"convertToInteractive('df-5d4707a9-bf02-4ee8-8a28-dbf1ccf86ba2')\"\n",
              "              title=\"Convert this dataframe to an interactive table.\"\n",
              "              style=\"display:none;\">\n",
              "        \n",
              "  <svg xmlns=\"http://www.w3.org/2000/svg\" height=\"24px\"viewBox=\"0 0 24 24\"\n",
              "       width=\"24px\">\n",
              "    <path d=\"M0 0h24v24H0V0z\" fill=\"none\"/>\n",
              "    <path d=\"M18.56 5.44l.94 2.06.94-2.06 2.06-.94-2.06-.94-.94-2.06-.94 2.06-2.06.94zm-11 1L8.5 8.5l.94-2.06 2.06-.94-2.06-.94L8.5 2.5l-.94 2.06-2.06.94zm10 10l.94 2.06.94-2.06 2.06-.94-2.06-.94-.94-2.06-.94 2.06-2.06.94z\"/><path d=\"M17.41 7.96l-1.37-1.37c-.4-.4-.92-.59-1.43-.59-.52 0-1.04.2-1.43.59L10.3 9.45l-7.72 7.72c-.78.78-.78 2.05 0 2.83L4 21.41c.39.39.9.59 1.41.59.51 0 1.02-.2 1.41-.59l7.78-7.78 2.81-2.81c.8-.78.8-2.07 0-2.86zM5.41 20L4 18.59l7.72-7.72 1.47 1.35L5.41 20z\"/>\n",
              "  </svg>\n",
              "      </button>\n",
              "      \n",
              "  <style>\n",
              "    .colab-df-container {\n",
              "      display:flex;\n",
              "      flex-wrap:wrap;\n",
              "      gap: 12px;\n",
              "    }\n",
              "\n",
              "    .colab-df-convert {\n",
              "      background-color: #E8F0FE;\n",
              "      border: none;\n",
              "      border-radius: 50%;\n",
              "      cursor: pointer;\n",
              "      display: none;\n",
              "      fill: #1967D2;\n",
              "      height: 32px;\n",
              "      padding: 0 0 0 0;\n",
              "      width: 32px;\n",
              "    }\n",
              "\n",
              "    .colab-df-convert:hover {\n",
              "      background-color: #E2EBFA;\n",
              "      box-shadow: 0px 1px 2px rgba(60, 64, 67, 0.3), 0px 1px 3px 1px rgba(60, 64, 67, 0.15);\n",
              "      fill: #174EA6;\n",
              "    }\n",
              "\n",
              "    [theme=dark] .colab-df-convert {\n",
              "      background-color: #3B4455;\n",
              "      fill: #D2E3FC;\n",
              "    }\n",
              "\n",
              "    [theme=dark] .colab-df-convert:hover {\n",
              "      background-color: #434B5C;\n",
              "      box-shadow: 0px 1px 3px 1px rgba(0, 0, 0, 0.15);\n",
              "      filter: drop-shadow(0px 1px 2px rgba(0, 0, 0, 0.3));\n",
              "      fill: #FFFFFF;\n",
              "    }\n",
              "  </style>\n",
              "\n",
              "      <script>\n",
              "        const buttonEl =\n",
              "          document.querySelector('#df-5d4707a9-bf02-4ee8-8a28-dbf1ccf86ba2 button.colab-df-convert');\n",
              "        buttonEl.style.display =\n",
              "          google.colab.kernel.accessAllowed ? 'block' : 'none';\n",
              "\n",
              "        async function convertToInteractive(key) {\n",
              "          const element = document.querySelector('#df-5d4707a9-bf02-4ee8-8a28-dbf1ccf86ba2');\n",
              "          const dataTable =\n",
              "            await google.colab.kernel.invokeFunction('convertToInteractive',\n",
              "                                                     [key], {});\n",
              "          if (!dataTable) return;\n",
              "\n",
              "          const docLinkHtml = 'Like what you see? Visit the ' +\n",
              "            '<a target=\"_blank\" href=https://colab.research.google.com/notebooks/data_table.ipynb>data table notebook</a>'\n",
              "            + ' to learn more about interactive tables.';\n",
              "          element.innerHTML = '';\n",
              "          dataTable['output_type'] = 'display_data';\n",
              "          await google.colab.output.renderOutput(dataTable, element);\n",
              "          const docLink = document.createElement('div');\n",
              "          docLink.innerHTML = docLinkHtml;\n",
              "          element.appendChild(docLink);\n",
              "        }\n",
              "      </script>\n",
              "    </div>\n",
              "  </div>\n",
              "  "
            ]
          },
          "metadata": {},
          "execution_count": 9
        }
      ]
    },
    {
      "cell_type": "markdown",
      "source": [
        "## Общий заработок с партнера будет рассчитываться как стоимость целевого действия умноженную на количество целевых действий"
      ],
      "metadata": {
        "id": "fYsUVwDTluJ7"
      }
    },
    {
      "cell_type": "code",
      "source": [
        "  total_earning = 350 * len(finalfull.loc[(finalfull['Статус'] == 'Предварительно одобрено') | (finalfull['Статус']=='Выдано'), 'Статус'])\n",
        "  total_earning"
      ],
      "metadata": {
        "colab": {
          "base_uri": "https://localhost:8080/"
        },
        "id": "C5UQGZJnlt5c",
        "outputId": "abf8f71f-c4bf-4ee0-d540-8731a0b7bcfe"
      },
      "execution_count": null,
      "outputs": [
        {
          "output_type": "execute_result",
          "data": {
            "text/plain": [
              "19250"
            ]
          },
          "metadata": {},
          "execution_count": 10
        }
      ]
    },
    {
      "cell_type": "markdown",
      "source": [
        "## **Стоимость одной заявки**=(CPA*Количество целевых действий)/Количество заявок\n",
        "\n",
        "\n",
        "\n"
      ],
      "metadata": {
        "id": "Bm4MrCR6Cjbm"
      }
    },
    {
      "cell_type": "code",
      "source": [
        "(350*finalfull.loc[(finalfull['Статус'] == 'Предварительно одобрено') | (finalfull['Статус']=='Выдано'), 'Статус'].count()/finalfull.shape[0]).round(2)"
      ],
      "metadata": {
        "colab": {
          "base_uri": "https://localhost:8080/"
        },
        "id": "CfcEhuJSBm3e",
        "outputId": "d7564b0a-4148-4263-f1fa-59ccdf080822"
      },
      "execution_count": null,
      "outputs": [
        {
          "output_type": "execute_result",
          "data": {
            "text/plain": [
              "38.27"
            ]
          },
          "metadata": {},
          "execution_count": 11
        }
      ]
    },
    {
      "cell_type": "markdown",
      "source": [
        "## **AR(approve rate)** рассчитывается как отношение количества целевых действий к общему количеству заявок"
      ],
      "metadata": {
        "id": "xj-iqRMsFF4R"
      }
    },
    {
      "cell_type": "code",
      "source": [
        "(finalfull.loc[(finalfull['Статус'] == 'Предварительно одобрено') | (finalfull['Статус']=='Выдано'), 'Статус'].count()/finalfull.shape[0]*100).round(2)"
      ],
      "metadata": {
        "colab": {
          "base_uri": "https://localhost:8080/"
        },
        "id": "OFDLSea1FTSl",
        "outputId": "9192c163-c28c-404b-d5b4-80d5da1df179"
      },
      "execution_count": null,
      "outputs": [
        {
          "output_type": "execute_result",
          "data": {
            "text/plain": [
              "10.93"
            ]
          },
          "metadata": {},
          "execution_count": 12
        }
      ]
    },
    {
      "cell_type": "markdown",
      "source": [
        "## **Рекомендации касательно отправляемых партнеру заявок, для увеличения процента AR**"
      ],
      "metadata": {
        "id": "nU4YHL5rWUxC"
      }
    },
    {
      "cell_type": "markdown",
      "source": [
        "Чтобы предложить идею для повышения количества отправляемых заявок и количества действий, нужно провести анализ\n",
        "\n",
        "В финальной таблице мы получили следующие столбцы: Id заявки банка,\tСтатус,\tid,\tamount,\tcredit_term_id,\tcredit_city_id,\teducation_id,\tdate_of_birth,type_of_employment,\tgender,\tregistration_address_city,\tliving_address_postal_code\n",
        "\n",
        "Очевидно, что не все эти показатели влияют на вероятность одобрения кредита. Так, можно отбросить Id заявки банка; id клиента(хотя с другой стороны id клиента может быть присвоен с того момента, как клиент впервые начал работу с банком, поэтому меньшие(более старые) id могут свидетельстовать о том, что клиент проверенный и \"знаком\" банку); credit_city_id(город, в котором находится отделение банка, который будет выдавать кредит), город регистрации и индекс тоже большой роли не играют, хотя можно классифицировать города по обеспеченности и по уровню заработных плат регионов, в которых они находятся, но эта гипотеза в случае, если она подтвердится не будет иметь большого веса; пол кредитуемого лица имеет право на участие в модели, так как в интернете достаточно споров о том, кто является более надежным заемщиком.\n",
        "\n",
        "Так, создадим таблицу для анализа:"
      ],
      "metadata": {
        "id": "bgspGVp5WdCY"
      }
    },
    {
      "cell_type": "code",
      "source": [
        "finalfull.registration_address_city.nunique()"
      ],
      "metadata": {
        "colab": {
          "base_uri": "https://localhost:8080/"
        },
        "id": "4CrMo2-SpDYl",
        "outputId": "6e22f1fc-cb6a-4522-bd8b-223e78a0c933"
      },
      "execution_count": null,
      "outputs": [
        {
          "output_type": "execute_result",
          "data": {
            "text/plain": [
              "141"
            ]
          },
          "metadata": {},
          "execution_count": 13
        }
      ]
    },
    {
      "cell_type": "code",
      "source": [
        "import requests\n",
        "\n",
        "json1 = requests.get('https://raw.githubusercontent.com/Photon74/russian-cities-python/master/russian-cities.json')"
      ],
      "metadata": {
        "id": "K8sMV3OLsMfY"
      },
      "execution_count": null,
      "outputs": []
    },
    {
      "cell_type": "code",
      "source": [
        "import numpy as np\n",
        "import json"
      ],
      "metadata": {
        "id": "ExyrwwSNakZ1"
      },
      "execution_count": null,
      "outputs": []
    },
    {
      "cell_type": "code",
      "source": [
        "extracted = pd.io.json.json_normalize(json1.json())"
      ],
      "metadata": {
        "colab": {
          "base_uri": "https://localhost:8080/"
        },
        "id": "wnpy6_nKsU3a",
        "outputId": "6b05ef11-faad-4e30-f5ff-82fd8e4c33d6"
      },
      "execution_count": null,
      "outputs": [
        {
          "output_type": "stream",
          "name": "stderr",
          "text": [
            "<ipython-input-16-6189ad3762d6>:1: FutureWarning: pandas.io.json.json_normalize is deprecated, use pandas.json_normalize instead.\n",
            "  extracted = pd.io.json.json_normalize(json1.json())\n"
          ]
        }
      ]
    },
    {
      "cell_type": "code",
      "source": [
        "extracted = extracted[['name', 'subject']]\n",
        "extracted.head()"
      ],
      "metadata": {
        "colab": {
          "base_uri": "https://localhost:8080/",
          "height": 206
        },
        "id": "pRQP_5s2b5yc",
        "outputId": "2cfc2817-63f7-4ae9-f5e4-f5ee5be5495f"
      },
      "execution_count": null,
      "outputs": [
        {
          "output_type": "execute_result",
          "data": {
            "text/plain": [
              "       name               subject\n",
              "0     Абаза               Хакасия\n",
              "1    Абакан               Хакасия\n",
              "2  Абдулино  Оренбургская область\n",
              "3    Абинск    Краснодарский край\n",
              "4   Агидель          Башкортостан"
            ],
            "text/html": [
              "\n",
              "  <div id=\"df-eee6d4dd-f4cd-47ca-ba02-d5e11d8cc309\">\n",
              "    <div class=\"colab-df-container\">\n",
              "      <div>\n",
              "<style scoped>\n",
              "    .dataframe tbody tr th:only-of-type {\n",
              "        vertical-align: middle;\n",
              "    }\n",
              "\n",
              "    .dataframe tbody tr th {\n",
              "        vertical-align: top;\n",
              "    }\n",
              "\n",
              "    .dataframe thead th {\n",
              "        text-align: right;\n",
              "    }\n",
              "</style>\n",
              "<table border=\"1\" class=\"dataframe\">\n",
              "  <thead>\n",
              "    <tr style=\"text-align: right;\">\n",
              "      <th></th>\n",
              "      <th>name</th>\n",
              "      <th>subject</th>\n",
              "    </tr>\n",
              "  </thead>\n",
              "  <tbody>\n",
              "    <tr>\n",
              "      <th>0</th>\n",
              "      <td>Абаза</td>\n",
              "      <td>Хакасия</td>\n",
              "    </tr>\n",
              "    <tr>\n",
              "      <th>1</th>\n",
              "      <td>Абакан</td>\n",
              "      <td>Хакасия</td>\n",
              "    </tr>\n",
              "    <tr>\n",
              "      <th>2</th>\n",
              "      <td>Абдулино</td>\n",
              "      <td>Оренбургская область</td>\n",
              "    </tr>\n",
              "    <tr>\n",
              "      <th>3</th>\n",
              "      <td>Абинск</td>\n",
              "      <td>Краснодарский край</td>\n",
              "    </tr>\n",
              "    <tr>\n",
              "      <th>4</th>\n",
              "      <td>Агидель</td>\n",
              "      <td>Башкортостан</td>\n",
              "    </tr>\n",
              "  </tbody>\n",
              "</table>\n",
              "</div>\n",
              "      <button class=\"colab-df-convert\" onclick=\"convertToInteractive('df-eee6d4dd-f4cd-47ca-ba02-d5e11d8cc309')\"\n",
              "              title=\"Convert this dataframe to an interactive table.\"\n",
              "              style=\"display:none;\">\n",
              "        \n",
              "  <svg xmlns=\"http://www.w3.org/2000/svg\" height=\"24px\"viewBox=\"0 0 24 24\"\n",
              "       width=\"24px\">\n",
              "    <path d=\"M0 0h24v24H0V0z\" fill=\"none\"/>\n",
              "    <path d=\"M18.56 5.44l.94 2.06.94-2.06 2.06-.94-2.06-.94-.94-2.06-.94 2.06-2.06.94zm-11 1L8.5 8.5l.94-2.06 2.06-.94-2.06-.94L8.5 2.5l-.94 2.06-2.06.94zm10 10l.94 2.06.94-2.06 2.06-.94-2.06-.94-.94-2.06-.94 2.06-2.06.94z\"/><path d=\"M17.41 7.96l-1.37-1.37c-.4-.4-.92-.59-1.43-.59-.52 0-1.04.2-1.43.59L10.3 9.45l-7.72 7.72c-.78.78-.78 2.05 0 2.83L4 21.41c.39.39.9.59 1.41.59.51 0 1.02-.2 1.41-.59l7.78-7.78 2.81-2.81c.8-.78.8-2.07 0-2.86zM5.41 20L4 18.59l7.72-7.72 1.47 1.35L5.41 20z\"/>\n",
              "  </svg>\n",
              "      </button>\n",
              "      \n",
              "  <style>\n",
              "    .colab-df-container {\n",
              "      display:flex;\n",
              "      flex-wrap:wrap;\n",
              "      gap: 12px;\n",
              "    }\n",
              "\n",
              "    .colab-df-convert {\n",
              "      background-color: #E8F0FE;\n",
              "      border: none;\n",
              "      border-radius: 50%;\n",
              "      cursor: pointer;\n",
              "      display: none;\n",
              "      fill: #1967D2;\n",
              "      height: 32px;\n",
              "      padding: 0 0 0 0;\n",
              "      width: 32px;\n",
              "    }\n",
              "\n",
              "    .colab-df-convert:hover {\n",
              "      background-color: #E2EBFA;\n",
              "      box-shadow: 0px 1px 2px rgba(60, 64, 67, 0.3), 0px 1px 3px 1px rgba(60, 64, 67, 0.15);\n",
              "      fill: #174EA6;\n",
              "    }\n",
              "\n",
              "    [theme=dark] .colab-df-convert {\n",
              "      background-color: #3B4455;\n",
              "      fill: #D2E3FC;\n",
              "    }\n",
              "\n",
              "    [theme=dark] .colab-df-convert:hover {\n",
              "      background-color: #434B5C;\n",
              "      box-shadow: 0px 1px 3px 1px rgba(0, 0, 0, 0.15);\n",
              "      filter: drop-shadow(0px 1px 2px rgba(0, 0, 0, 0.3));\n",
              "      fill: #FFFFFF;\n",
              "    }\n",
              "  </style>\n",
              "\n",
              "      <script>\n",
              "        const buttonEl =\n",
              "          document.querySelector('#df-eee6d4dd-f4cd-47ca-ba02-d5e11d8cc309 button.colab-df-convert');\n",
              "        buttonEl.style.display =\n",
              "          google.colab.kernel.accessAllowed ? 'block' : 'none';\n",
              "\n",
              "        async function convertToInteractive(key) {\n",
              "          const element = document.querySelector('#df-eee6d4dd-f4cd-47ca-ba02-d5e11d8cc309');\n",
              "          const dataTable =\n",
              "            await google.colab.kernel.invokeFunction('convertToInteractive',\n",
              "                                                     [key], {});\n",
              "          if (!dataTable) return;\n",
              "\n",
              "          const docLinkHtml = 'Like what you see? Visit the ' +\n",
              "            '<a target=\"_blank\" href=https://colab.research.google.com/notebooks/data_table.ipynb>data table notebook</a>'\n",
              "            + ' to learn more about interactive tables.';\n",
              "          element.innerHTML = '';\n",
              "          dataTable['output_type'] = 'display_data';\n",
              "          await google.colab.output.renderOutput(dataTable, element);\n",
              "          const docLink = document.createElement('div');\n",
              "          docLink.innerHTML = docLinkHtml;\n",
              "          element.appendChild(docLink);\n",
              "        }\n",
              "      </script>\n",
              "    </div>\n",
              "  </div>\n",
              "  "
            ]
          },
          "metadata": {},
          "execution_count": 17
        }
      ]
    },
    {
      "cell_type": "code",
      "source": [
        "len(set(extracted.name) & set(finalfull.registration_address_city))"
      ],
      "metadata": {
        "colab": {
          "base_uri": "https://localhost:8080/"
        },
        "id": "eakFUf9kcO4U",
        "outputId": "3f652bce-2215-4fda-f280-7a289ecdac99"
      },
      "execution_count": null,
      "outputs": [
        {
          "output_type": "execute_result",
          "data": {
            "text/plain": [
              "101"
            ]
          },
          "metadata": {},
          "execution_count": 18
        }
      ]
    },
    {
      "cell_type": "code",
      "source": [
        "sublist = list(extracted.name)"
      ],
      "metadata": {
        "id": "RQ2TDJEEfDSh"
      },
      "execution_count": null,
      "outputs": []
    },
    {
      "cell_type": "code",
      "source": [
        "analysis_df = finalfull[['Статус', 'amount', 'credit_term_id', 'education_id', 'date_of_birth', 'type_of_employment', 'gender', 'registration_address_city']]\n",
        "analysis_df.head()"
      ],
      "metadata": {
        "colab": {
          "base_uri": "https://localhost:8080/",
          "height": 206
        },
        "id": "UXTeSYd6cDSX",
        "outputId": "50da1834-68a3-499f-a5f3-3cf394a7ebaf"
      },
      "execution_count": null,
      "outputs": [
        {
          "output_type": "execute_result",
          "data": {
            "text/plain": [
              "                    Статус   amount credit_term_id education_id date_of_birth  \\\n",
              "0                    Отказ   200000             36           40    09-02-1998   \n",
              "1                    Отказ   150000             36           30    18-11-1967   \n",
              "2                    Отказ  5000000             84           30    18-05-1978   \n",
              "3  Предварительно одобрено   200000             60           30    13-05-1996   \n",
              "4                    Отказ   300000             36           30    25-10-1985   \n",
              "\n",
              "  type_of_employment gender registration_address_city  \n",
              "0         unemployed      М                    Самара  \n",
              "1             employ      М                  Волжский  \n",
              "2             employ      М                     Пермь  \n",
              "3             employ      Ж                 Мекен-Юрт  \n",
              "4             employ      Ж                    Мелеуз  "
            ],
            "text/html": [
              "\n",
              "  <div id=\"df-e39c8296-8f7e-4f04-81d5-b875df294fd6\">\n",
              "    <div class=\"colab-df-container\">\n",
              "      <div>\n",
              "<style scoped>\n",
              "    .dataframe tbody tr th:only-of-type {\n",
              "        vertical-align: middle;\n",
              "    }\n",
              "\n",
              "    .dataframe tbody tr th {\n",
              "        vertical-align: top;\n",
              "    }\n",
              "\n",
              "    .dataframe thead th {\n",
              "        text-align: right;\n",
              "    }\n",
              "</style>\n",
              "<table border=\"1\" class=\"dataframe\">\n",
              "  <thead>\n",
              "    <tr style=\"text-align: right;\">\n",
              "      <th></th>\n",
              "      <th>Статус</th>\n",
              "      <th>amount</th>\n",
              "      <th>credit_term_id</th>\n",
              "      <th>education_id</th>\n",
              "      <th>date_of_birth</th>\n",
              "      <th>type_of_employment</th>\n",
              "      <th>gender</th>\n",
              "      <th>registration_address_city</th>\n",
              "    </tr>\n",
              "  </thead>\n",
              "  <tbody>\n",
              "    <tr>\n",
              "      <th>0</th>\n",
              "      <td>Отказ</td>\n",
              "      <td>200000</td>\n",
              "      <td>36</td>\n",
              "      <td>40</td>\n",
              "      <td>09-02-1998</td>\n",
              "      <td>unemployed</td>\n",
              "      <td>М</td>\n",
              "      <td>Самара</td>\n",
              "    </tr>\n",
              "    <tr>\n",
              "      <th>1</th>\n",
              "      <td>Отказ</td>\n",
              "      <td>150000</td>\n",
              "      <td>36</td>\n",
              "      <td>30</td>\n",
              "      <td>18-11-1967</td>\n",
              "      <td>employ</td>\n",
              "      <td>М</td>\n",
              "      <td>Волжский</td>\n",
              "    </tr>\n",
              "    <tr>\n",
              "      <th>2</th>\n",
              "      <td>Отказ</td>\n",
              "      <td>5000000</td>\n",
              "      <td>84</td>\n",
              "      <td>30</td>\n",
              "      <td>18-05-1978</td>\n",
              "      <td>employ</td>\n",
              "      <td>М</td>\n",
              "      <td>Пермь</td>\n",
              "    </tr>\n",
              "    <tr>\n",
              "      <th>3</th>\n",
              "      <td>Предварительно одобрено</td>\n",
              "      <td>200000</td>\n",
              "      <td>60</td>\n",
              "      <td>30</td>\n",
              "      <td>13-05-1996</td>\n",
              "      <td>employ</td>\n",
              "      <td>Ж</td>\n",
              "      <td>Мекен-Юрт</td>\n",
              "    </tr>\n",
              "    <tr>\n",
              "      <th>4</th>\n",
              "      <td>Отказ</td>\n",
              "      <td>300000</td>\n",
              "      <td>36</td>\n",
              "      <td>30</td>\n",
              "      <td>25-10-1985</td>\n",
              "      <td>employ</td>\n",
              "      <td>Ж</td>\n",
              "      <td>Мелеуз</td>\n",
              "    </tr>\n",
              "  </tbody>\n",
              "</table>\n",
              "</div>\n",
              "      <button class=\"colab-df-convert\" onclick=\"convertToInteractive('df-e39c8296-8f7e-4f04-81d5-b875df294fd6')\"\n",
              "              title=\"Convert this dataframe to an interactive table.\"\n",
              "              style=\"display:none;\">\n",
              "        \n",
              "  <svg xmlns=\"http://www.w3.org/2000/svg\" height=\"24px\"viewBox=\"0 0 24 24\"\n",
              "       width=\"24px\">\n",
              "    <path d=\"M0 0h24v24H0V0z\" fill=\"none\"/>\n",
              "    <path d=\"M18.56 5.44l.94 2.06.94-2.06 2.06-.94-2.06-.94-.94-2.06-.94 2.06-2.06.94zm-11 1L8.5 8.5l.94-2.06 2.06-.94-2.06-.94L8.5 2.5l-.94 2.06-2.06.94zm10 10l.94 2.06.94-2.06 2.06-.94-2.06-.94-.94-2.06-.94 2.06-2.06.94z\"/><path d=\"M17.41 7.96l-1.37-1.37c-.4-.4-.92-.59-1.43-.59-.52 0-1.04.2-1.43.59L10.3 9.45l-7.72 7.72c-.78.78-.78 2.05 0 2.83L4 21.41c.39.39.9.59 1.41.59.51 0 1.02-.2 1.41-.59l7.78-7.78 2.81-2.81c.8-.78.8-2.07 0-2.86zM5.41 20L4 18.59l7.72-7.72 1.47 1.35L5.41 20z\"/>\n",
              "  </svg>\n",
              "      </button>\n",
              "      \n",
              "  <style>\n",
              "    .colab-df-container {\n",
              "      display:flex;\n",
              "      flex-wrap:wrap;\n",
              "      gap: 12px;\n",
              "    }\n",
              "\n",
              "    .colab-df-convert {\n",
              "      background-color: #E8F0FE;\n",
              "      border: none;\n",
              "      border-radius: 50%;\n",
              "      cursor: pointer;\n",
              "      display: none;\n",
              "      fill: #1967D2;\n",
              "      height: 32px;\n",
              "      padding: 0 0 0 0;\n",
              "      width: 32px;\n",
              "    }\n",
              "\n",
              "    .colab-df-convert:hover {\n",
              "      background-color: #E2EBFA;\n",
              "      box-shadow: 0px 1px 2px rgba(60, 64, 67, 0.3), 0px 1px 3px 1px rgba(60, 64, 67, 0.15);\n",
              "      fill: #174EA6;\n",
              "    }\n",
              "\n",
              "    [theme=dark] .colab-df-convert {\n",
              "      background-color: #3B4455;\n",
              "      fill: #D2E3FC;\n",
              "    }\n",
              "\n",
              "    [theme=dark] .colab-df-convert:hover {\n",
              "      background-color: #434B5C;\n",
              "      box-shadow: 0px 1px 3px 1px rgba(0, 0, 0, 0.15);\n",
              "      filter: drop-shadow(0px 1px 2px rgba(0, 0, 0, 0.3));\n",
              "      fill: #FFFFFF;\n",
              "    }\n",
              "  </style>\n",
              "\n",
              "      <script>\n",
              "        const buttonEl =\n",
              "          document.querySelector('#df-e39c8296-8f7e-4f04-81d5-b875df294fd6 button.colab-df-convert');\n",
              "        buttonEl.style.display =\n",
              "          google.colab.kernel.accessAllowed ? 'block' : 'none';\n",
              "\n",
              "        async function convertToInteractive(key) {\n",
              "          const element = document.querySelector('#df-e39c8296-8f7e-4f04-81d5-b875df294fd6');\n",
              "          const dataTable =\n",
              "            await google.colab.kernel.invokeFunction('convertToInteractive',\n",
              "                                                     [key], {});\n",
              "          if (!dataTable) return;\n",
              "\n",
              "          const docLinkHtml = 'Like what you see? Visit the ' +\n",
              "            '<a target=\"_blank\" href=https://colab.research.google.com/notebooks/data_table.ipynb>data table notebook</a>'\n",
              "            + ' to learn more about interactive tables.';\n",
              "          element.innerHTML = '';\n",
              "          dataTable['output_type'] = 'display_data';\n",
              "          await google.colab.output.renderOutput(dataTable, element);\n",
              "          const docLink = document.createElement('div');\n",
              "          docLink.innerHTML = docLinkHtml;\n",
              "          element.appendChild(docLink);\n",
              "        }\n",
              "      </script>\n",
              "    </div>\n",
              "  </div>\n",
              "  "
            ]
          },
          "metadata": {},
          "execution_count": 20
        }
      ]
    },
    {
      "cell_type": "code",
      "source": [
        "subjects = []\n",
        "non_subjects =[]\n",
        "for i in analysis_df.registration_address_city:\n",
        "  if i in sublist:\n",
        "    subjects.append(extracted.loc[extracted.name==i].iloc[0,1])\n",
        "  else:\n",
        "    subjects.append('village')\n",
        "    non_subjects.append(i)"
      ],
      "metadata": {
        "id": "XocK5M7meLyH"
      },
      "execution_count": null,
      "outputs": []
    },
    {
      "cell_type": "code",
      "source": [
        "len(subjects)"
      ],
      "metadata": {
        "colab": {
          "base_uri": "https://localhost:8080/"
        },
        "id": "KIrc93EzZSfU",
        "outputId": "13c2bc63-c566-421a-c1a5-48903d166660"
      },
      "execution_count": null,
      "outputs": [
        {
          "output_type": "execute_result",
          "data": {
            "text/plain": [
              "503"
            ]
          },
          "metadata": {},
          "execution_count": 22
        }
      ]
    },
    {
      "cell_type": "code",
      "source": [
        "analysis_df['city'] = subjects"
      ],
      "metadata": {
        "colab": {
          "base_uri": "https://localhost:8080/"
        },
        "id": "09ouy0s6gggB",
        "outputId": "730c4cdb-438d-4bc0-d672-4059bd78fb34"
      },
      "execution_count": null,
      "outputs": [
        {
          "output_type": "stream",
          "name": "stderr",
          "text": [
            "<ipython-input-23-a297de8ba4d8>:1: SettingWithCopyWarning: \n",
            "A value is trying to be set on a copy of a slice from a DataFrame.\n",
            "Try using .loc[row_indexer,col_indexer] = value instead\n",
            "\n",
            "See the caveats in the documentation: https://pandas.pydata.org/pandas-docs/stable/user_guide/indexing.html#returning-a-view-versus-a-copy\n",
            "  analysis_df['city'] = subjects\n"
          ]
        }
      ]
    },
    {
      "cell_type": "code",
      "source": [
        "analysis_df.info()"
      ],
      "metadata": {
        "colab": {
          "base_uri": "https://localhost:8080/"
        },
        "id": "yhVtR-f7iFRR",
        "outputId": "a46eff46-0e63-4f36-c8bb-eb6700e568a4"
      },
      "execution_count": null,
      "outputs": [
        {
          "output_type": "stream",
          "name": "stdout",
          "text": [
            "<class 'pandas.core.frame.DataFrame'>\n",
            "Int64Index: 503 entries, 0 to 502\n",
            "Data columns (total 9 columns):\n",
            " #   Column                     Non-Null Count  Dtype \n",
            "---  ------                     --------------  ----- \n",
            " 0   Статус                     503 non-null    object\n",
            " 1   amount                     503 non-null    object\n",
            " 2   credit_term_id             503 non-null    object\n",
            " 3   education_id               503 non-null    object\n",
            " 4   date_of_birth              503 non-null    object\n",
            " 5   type_of_employment         503 non-null    object\n",
            " 6   gender                     503 non-null    object\n",
            " 7   registration_address_city  503 non-null    object\n",
            " 8   city                       503 non-null    object\n",
            "dtypes: object(9)\n",
            "memory usage: 55.5+ KB\n"
          ]
        }
      ]
    },
    {
      "cell_type": "code",
      "source": [
        "analysis_df.city = analysis_df.city.astype(str)"
      ],
      "metadata": {
        "colab": {
          "base_uri": "https://localhost:8080/"
        },
        "id": "1vrxhDbViEoo",
        "outputId": "cb30d85c-0a24-441b-deec-bc26ea5421af"
      },
      "execution_count": null,
      "outputs": [
        {
          "output_type": "stream",
          "name": "stderr",
          "text": [
            "<ipython-input-25-60fc30eb9a5e>:1: SettingWithCopyWarning: \n",
            "A value is trying to be set on a copy of a slice from a DataFrame.\n",
            "Try using .loc[row_indexer,col_indexer] = value instead\n",
            "\n",
            "See the caveats in the documentation: https://pandas.pydata.org/pandas-docs/stable/user_guide/indexing.html#returning-a-view-versus-a-copy\n",
            "  analysis_df.city = analysis_df.city.astype(str)\n"
          ]
        }
      ]
    },
    {
      "cell_type": "code",
      "source": [
        "analysis_df[['city']]=analysis_df[['city']].replace(' ', '_', regex=True)"
      ],
      "metadata": {
        "colab": {
          "base_uri": "https://localhost:8080/"
        },
        "id": "56piM7VP9zUj",
        "outputId": "6200daf0-699c-485e-e05c-458cc6d03956"
      },
      "execution_count": null,
      "outputs": [
        {
          "output_type": "stream",
          "name": "stderr",
          "text": [
            "<ipython-input-26-f9e75e024668>:1: SettingWithCopyWarning: \n",
            "A value is trying to be set on a copy of a slice from a DataFrame.\n",
            "Try using .loc[row_indexer,col_indexer] = value instead\n",
            "\n",
            "See the caveats in the documentation: https://pandas.pydata.org/pandas-docs/stable/user_guide/indexing.html#returning-a-view-versus-a-copy\n",
            "  analysis_df[['city']]=analysis_df[['city']].replace(' ', '_', regex=True)\n"
          ]
        }
      ]
    },
    {
      "cell_type": "code",
      "source": [
        "analysis_df.city.unique()"
      ],
      "metadata": {
        "colab": {
          "base_uri": "https://localhost:8080/"
        },
        "id": "9CbkJKqogezv",
        "outputId": "70d96b8d-437f-4d4e-89a7-14151f8b16e2"
      },
      "execution_count": null,
      "outputs": [
        {
          "output_type": "execute_result",
          "data": {
            "text/plain": [
              "array(['Самарская_область', 'Волгоградская_область', 'Пермский_край',\n",
              "       'village', 'Башкортостан', 'Свердловская_область',\n",
              "       'Новосибирская_область', 'Тульская_область', 'Москва',\n",
              "       'Забайкальский_край', 'Тамбовская_область', 'Челябинская_область',\n",
              "       'Ростовская_область', 'Омская_область', 'Тюменская_область',\n",
              "       'Ханты-Мансийский_АО', 'Курская_область', 'Московская_область',\n",
              "       'Новгородская_область', 'Чечня', 'Пензенская_область', 'Марий_Эл',\n",
              "       'Приморский_край', 'Санкт-Петербург', 'Карелия',\n",
              "       'Краснодарский_край', 'Иркутская_область', 'Ульяновская_область',\n",
              "       'Калининградская_область', 'Орловская_область', 'Липецкая_область',\n",
              "       'Северная_Осетия', 'Хакасия', 'Калужская_область',\n",
              "       'Астраханская_область', 'Адыгея', 'Татарстан', 'Хабаровский_край',\n",
              "       'Вологодская_область', 'Нижегородская_область',\n",
              "       'Саратовская_область', 'Ярославская_область', 'Ивановская_область',\n",
              "       'Ямало-Ненецкий_АО', 'Ставропольский_край', 'Рязанская_область',\n",
              "       'Алтайский_край', 'Чувашия', 'Псковская_область', 'Севастополь',\n",
              "       'Оренбургская_область', 'Белгородская_область',\n",
              "       'Владимирская_область', 'Бурятия', 'Удмуртия', 'Тыва',\n",
              "       'Карачаево-Черкесия'], dtype=object)"
            ]
          },
          "metadata": {},
          "execution_count": 27
        }
      ]
    },
    {
      "cell_type": "code",
      "source": [
        "from sklearn.preprocessing import OneHotEncoder\n",
        "ohe= OneHotEncoder()\n",
        "enc = ohe.fit_transform(analysis_df[['city']])"
      ],
      "metadata": {
        "id": "0wKF-I07kROP"
      },
      "execution_count": null,
      "outputs": []
    },
    {
      "cell_type": "code",
      "source": [
        "a22= pd.DataFrame(enc.toarray(), columns= ohe.categories_)\n",
        "a22.columns = a22.columns.map(''.join)\n",
        "a22.columns"
      ],
      "metadata": {
        "colab": {
          "base_uri": "https://localhost:8080/"
        },
        "id": "DdSd-6kKBrcw",
        "outputId": "52063b59-cf41-499f-c19b-675254aa3272"
      },
      "execution_count": null,
      "outputs": [
        {
          "output_type": "execute_result",
          "data": {
            "text/plain": [
              "Index(['village', 'Адыгея', 'Алтайский_край', 'Астраханская_область',\n",
              "       'Башкортостан', 'Белгородская_область', 'Бурятия',\n",
              "       'Владимирская_область', 'Волгоградская_область', 'Вологодская_область',\n",
              "       'Забайкальский_край', 'Ивановская_область', 'Иркутская_область',\n",
              "       'Калининградская_область', 'Калужская_область', 'Карачаево-Черкесия',\n",
              "       'Карелия', 'Краснодарский_край', 'Курская_область', 'Липецкая_область',\n",
              "       'Марий_Эл', 'Москва', 'Московская_область', 'Нижегородская_область',\n",
              "       'Новгородская_область', 'Новосибирская_область', 'Омская_область',\n",
              "       'Оренбургская_область', 'Орловская_область', 'Пензенская_область',\n",
              "       'Пермский_край', 'Приморский_край', 'Псковская_область',\n",
              "       'Ростовская_область', 'Рязанская_область', 'Самарская_область',\n",
              "       'Санкт-Петербург', 'Саратовская_область', 'Свердловская_область',\n",
              "       'Севастополь', 'Северная_Осетия', 'Ставропольский_край',\n",
              "       'Тамбовская_область', 'Татарстан', 'Тульская_область', 'Тыва',\n",
              "       'Тюменская_область', 'Удмуртия', 'Ульяновская_область',\n",
              "       'Хабаровский_край', 'Хакасия', 'Ханты-Мансийский_АО',\n",
              "       'Челябинская_область', 'Чечня', 'Чувашия', 'Ямало-Ненецкий_АО',\n",
              "       'Ярославская_область'],\n",
              "      dtype='object')"
            ]
          },
          "metadata": {},
          "execution_count": 29
        }
      ]
    },
    {
      "cell_type": "code",
      "source": [
        "analysis_df = analysis_df.join(a22)"
      ],
      "metadata": {
        "id": "BGnLz5dMdKrT"
      },
      "execution_count": null,
      "outputs": []
    },
    {
      "cell_type": "code",
      "source": [
        "analysis_df.education_id.unique()"
      ],
      "metadata": {
        "colab": {
          "base_uri": "https://localhost:8080/"
        },
        "id": "FAjA4RRtdD8-",
        "outputId": "174c0c31-b994-45f0-aca5-993fd02d0295"
      },
      "execution_count": null,
      "outputs": [
        {
          "output_type": "execute_result",
          "data": {
            "text/plain": [
              "array(['40', '30', '50', '60'], dtype=object)"
            ]
          },
          "metadata": {},
          "execution_count": 31
        }
      ]
    },
    {
      "cell_type": "code",
      "source": [
        "analysis_df.head()"
      ],
      "metadata": {
        "colab": {
          "base_uri": "https://localhost:8080/",
          "height": 334
        },
        "id": "6Y9eDi5_dt89",
        "outputId": "d66c1ef7-2a29-4567-e264-c32b402de9b5"
      },
      "execution_count": null,
      "outputs": [
        {
          "output_type": "execute_result",
          "data": {
            "text/plain": [
              "                    Статус   amount credit_term_id education_id date_of_birth  \\\n",
              "0                    Отказ   200000             36           40    09-02-1998   \n",
              "1                    Отказ   150000             36           30    18-11-1967   \n",
              "2                    Отказ  5000000             84           30    18-05-1978   \n",
              "3  Предварительно одобрено   200000             60           30    13-05-1996   \n",
              "4                    Отказ   300000             36           30    25-10-1985   \n",
              "\n",
              "  type_of_employment gender registration_address_city                   city  \\\n",
              "0         unemployed      М                    Самара      Самарская_область   \n",
              "1             employ      М                  Волжский  Волгоградская_область   \n",
              "2             employ      М                     Пермь          Пермский_край   \n",
              "3             employ      Ж                 Мекен-Юрт                village   \n",
              "4             employ      Ж                    Мелеуз           Башкортостан   \n",
              "\n",
              "   village  ...  Удмуртия  Ульяновская_область  Хабаровский_край  Хакасия  \\\n",
              "0      0.0  ...       0.0                  0.0               0.0      0.0   \n",
              "1      0.0  ...       0.0                  0.0               0.0      0.0   \n",
              "2      0.0  ...       0.0                  0.0               0.0      0.0   \n",
              "3      1.0  ...       0.0                  0.0               0.0      0.0   \n",
              "4      0.0  ...       0.0                  0.0               0.0      0.0   \n",
              "\n",
              "   Ханты-Мансийский_АО  Челябинская_область  Чечня  Чувашия  \\\n",
              "0                  0.0                  0.0    0.0      0.0   \n",
              "1                  0.0                  0.0    0.0      0.0   \n",
              "2                  0.0                  0.0    0.0      0.0   \n",
              "3                  0.0                  0.0    0.0      0.0   \n",
              "4                  0.0                  0.0    0.0      0.0   \n",
              "\n",
              "   Ямало-Ненецкий_АО  Ярославская_область  \n",
              "0                0.0                  0.0  \n",
              "1                0.0                  0.0  \n",
              "2                0.0                  0.0  \n",
              "3                0.0                  0.0  \n",
              "4                0.0                  0.0  \n",
              "\n",
              "[5 rows x 66 columns]"
            ],
            "text/html": [
              "\n",
              "  <div id=\"df-c3ab8b18-90ff-4a37-ab95-c55f588de632\">\n",
              "    <div class=\"colab-df-container\">\n",
              "      <div>\n",
              "<style scoped>\n",
              "    .dataframe tbody tr th:only-of-type {\n",
              "        vertical-align: middle;\n",
              "    }\n",
              "\n",
              "    .dataframe tbody tr th {\n",
              "        vertical-align: top;\n",
              "    }\n",
              "\n",
              "    .dataframe thead th {\n",
              "        text-align: right;\n",
              "    }\n",
              "</style>\n",
              "<table border=\"1\" class=\"dataframe\">\n",
              "  <thead>\n",
              "    <tr style=\"text-align: right;\">\n",
              "      <th></th>\n",
              "      <th>Статус</th>\n",
              "      <th>amount</th>\n",
              "      <th>credit_term_id</th>\n",
              "      <th>education_id</th>\n",
              "      <th>date_of_birth</th>\n",
              "      <th>type_of_employment</th>\n",
              "      <th>gender</th>\n",
              "      <th>registration_address_city</th>\n",
              "      <th>city</th>\n",
              "      <th>village</th>\n",
              "      <th>...</th>\n",
              "      <th>Удмуртия</th>\n",
              "      <th>Ульяновская_область</th>\n",
              "      <th>Хабаровский_край</th>\n",
              "      <th>Хакасия</th>\n",
              "      <th>Ханты-Мансийский_АО</th>\n",
              "      <th>Челябинская_область</th>\n",
              "      <th>Чечня</th>\n",
              "      <th>Чувашия</th>\n",
              "      <th>Ямало-Ненецкий_АО</th>\n",
              "      <th>Ярославская_область</th>\n",
              "    </tr>\n",
              "  </thead>\n",
              "  <tbody>\n",
              "    <tr>\n",
              "      <th>0</th>\n",
              "      <td>Отказ</td>\n",
              "      <td>200000</td>\n",
              "      <td>36</td>\n",
              "      <td>40</td>\n",
              "      <td>09-02-1998</td>\n",
              "      <td>unemployed</td>\n",
              "      <td>М</td>\n",
              "      <td>Самара</td>\n",
              "      <td>Самарская_область</td>\n",
              "      <td>0.0</td>\n",
              "      <td>...</td>\n",
              "      <td>0.0</td>\n",
              "      <td>0.0</td>\n",
              "      <td>0.0</td>\n",
              "      <td>0.0</td>\n",
              "      <td>0.0</td>\n",
              "      <td>0.0</td>\n",
              "      <td>0.0</td>\n",
              "      <td>0.0</td>\n",
              "      <td>0.0</td>\n",
              "      <td>0.0</td>\n",
              "    </tr>\n",
              "    <tr>\n",
              "      <th>1</th>\n",
              "      <td>Отказ</td>\n",
              "      <td>150000</td>\n",
              "      <td>36</td>\n",
              "      <td>30</td>\n",
              "      <td>18-11-1967</td>\n",
              "      <td>employ</td>\n",
              "      <td>М</td>\n",
              "      <td>Волжский</td>\n",
              "      <td>Волгоградская_область</td>\n",
              "      <td>0.0</td>\n",
              "      <td>...</td>\n",
              "      <td>0.0</td>\n",
              "      <td>0.0</td>\n",
              "      <td>0.0</td>\n",
              "      <td>0.0</td>\n",
              "      <td>0.0</td>\n",
              "      <td>0.0</td>\n",
              "      <td>0.0</td>\n",
              "      <td>0.0</td>\n",
              "      <td>0.0</td>\n",
              "      <td>0.0</td>\n",
              "    </tr>\n",
              "    <tr>\n",
              "      <th>2</th>\n",
              "      <td>Отказ</td>\n",
              "      <td>5000000</td>\n",
              "      <td>84</td>\n",
              "      <td>30</td>\n",
              "      <td>18-05-1978</td>\n",
              "      <td>employ</td>\n",
              "      <td>М</td>\n",
              "      <td>Пермь</td>\n",
              "      <td>Пермский_край</td>\n",
              "      <td>0.0</td>\n",
              "      <td>...</td>\n",
              "      <td>0.0</td>\n",
              "      <td>0.0</td>\n",
              "      <td>0.0</td>\n",
              "      <td>0.0</td>\n",
              "      <td>0.0</td>\n",
              "      <td>0.0</td>\n",
              "      <td>0.0</td>\n",
              "      <td>0.0</td>\n",
              "      <td>0.0</td>\n",
              "      <td>0.0</td>\n",
              "    </tr>\n",
              "    <tr>\n",
              "      <th>3</th>\n",
              "      <td>Предварительно одобрено</td>\n",
              "      <td>200000</td>\n",
              "      <td>60</td>\n",
              "      <td>30</td>\n",
              "      <td>13-05-1996</td>\n",
              "      <td>employ</td>\n",
              "      <td>Ж</td>\n",
              "      <td>Мекен-Юрт</td>\n",
              "      <td>village</td>\n",
              "      <td>1.0</td>\n",
              "      <td>...</td>\n",
              "      <td>0.0</td>\n",
              "      <td>0.0</td>\n",
              "      <td>0.0</td>\n",
              "      <td>0.0</td>\n",
              "      <td>0.0</td>\n",
              "      <td>0.0</td>\n",
              "      <td>0.0</td>\n",
              "      <td>0.0</td>\n",
              "      <td>0.0</td>\n",
              "      <td>0.0</td>\n",
              "    </tr>\n",
              "    <tr>\n",
              "      <th>4</th>\n",
              "      <td>Отказ</td>\n",
              "      <td>300000</td>\n",
              "      <td>36</td>\n",
              "      <td>30</td>\n",
              "      <td>25-10-1985</td>\n",
              "      <td>employ</td>\n",
              "      <td>Ж</td>\n",
              "      <td>Мелеуз</td>\n",
              "      <td>Башкортостан</td>\n",
              "      <td>0.0</td>\n",
              "      <td>...</td>\n",
              "      <td>0.0</td>\n",
              "      <td>0.0</td>\n",
              "      <td>0.0</td>\n",
              "      <td>0.0</td>\n",
              "      <td>0.0</td>\n",
              "      <td>0.0</td>\n",
              "      <td>0.0</td>\n",
              "      <td>0.0</td>\n",
              "      <td>0.0</td>\n",
              "      <td>0.0</td>\n",
              "    </tr>\n",
              "  </tbody>\n",
              "</table>\n",
              "<p>5 rows × 66 columns</p>\n",
              "</div>\n",
              "      <button class=\"colab-df-convert\" onclick=\"convertToInteractive('df-c3ab8b18-90ff-4a37-ab95-c55f588de632')\"\n",
              "              title=\"Convert this dataframe to an interactive table.\"\n",
              "              style=\"display:none;\">\n",
              "        \n",
              "  <svg xmlns=\"http://www.w3.org/2000/svg\" height=\"24px\"viewBox=\"0 0 24 24\"\n",
              "       width=\"24px\">\n",
              "    <path d=\"M0 0h24v24H0V0z\" fill=\"none\"/>\n",
              "    <path d=\"M18.56 5.44l.94 2.06.94-2.06 2.06-.94-2.06-.94-.94-2.06-.94 2.06-2.06.94zm-11 1L8.5 8.5l.94-2.06 2.06-.94-2.06-.94L8.5 2.5l-.94 2.06-2.06.94zm10 10l.94 2.06.94-2.06 2.06-.94-2.06-.94-.94-2.06-.94 2.06-2.06.94z\"/><path d=\"M17.41 7.96l-1.37-1.37c-.4-.4-.92-.59-1.43-.59-.52 0-1.04.2-1.43.59L10.3 9.45l-7.72 7.72c-.78.78-.78 2.05 0 2.83L4 21.41c.39.39.9.59 1.41.59.51 0 1.02-.2 1.41-.59l7.78-7.78 2.81-2.81c.8-.78.8-2.07 0-2.86zM5.41 20L4 18.59l7.72-7.72 1.47 1.35L5.41 20z\"/>\n",
              "  </svg>\n",
              "      </button>\n",
              "      \n",
              "  <style>\n",
              "    .colab-df-container {\n",
              "      display:flex;\n",
              "      flex-wrap:wrap;\n",
              "      gap: 12px;\n",
              "    }\n",
              "\n",
              "    .colab-df-convert {\n",
              "      background-color: #E8F0FE;\n",
              "      border: none;\n",
              "      border-radius: 50%;\n",
              "      cursor: pointer;\n",
              "      display: none;\n",
              "      fill: #1967D2;\n",
              "      height: 32px;\n",
              "      padding: 0 0 0 0;\n",
              "      width: 32px;\n",
              "    }\n",
              "\n",
              "    .colab-df-convert:hover {\n",
              "      background-color: #E2EBFA;\n",
              "      box-shadow: 0px 1px 2px rgba(60, 64, 67, 0.3), 0px 1px 3px 1px rgba(60, 64, 67, 0.15);\n",
              "      fill: #174EA6;\n",
              "    }\n",
              "\n",
              "    [theme=dark] .colab-df-convert {\n",
              "      background-color: #3B4455;\n",
              "      fill: #D2E3FC;\n",
              "    }\n",
              "\n",
              "    [theme=dark] .colab-df-convert:hover {\n",
              "      background-color: #434B5C;\n",
              "      box-shadow: 0px 1px 3px 1px rgba(0, 0, 0, 0.15);\n",
              "      filter: drop-shadow(0px 1px 2px rgba(0, 0, 0, 0.3));\n",
              "      fill: #FFFFFF;\n",
              "    }\n",
              "  </style>\n",
              "\n",
              "      <script>\n",
              "        const buttonEl =\n",
              "          document.querySelector('#df-c3ab8b18-90ff-4a37-ab95-c55f588de632 button.colab-df-convert');\n",
              "        buttonEl.style.display =\n",
              "          google.colab.kernel.accessAllowed ? 'block' : 'none';\n",
              "\n",
              "        async function convertToInteractive(key) {\n",
              "          const element = document.querySelector('#df-c3ab8b18-90ff-4a37-ab95-c55f588de632');\n",
              "          const dataTable =\n",
              "            await google.colab.kernel.invokeFunction('convertToInteractive',\n",
              "                                                     [key], {});\n",
              "          if (!dataTable) return;\n",
              "\n",
              "          const docLinkHtml = 'Like what you see? Visit the ' +\n",
              "            '<a target=\"_blank\" href=https://colab.research.google.com/notebooks/data_table.ipynb>data table notebook</a>'\n",
              "            + ' to learn more about interactive tables.';\n",
              "          element.innerHTML = '';\n",
              "          dataTable['output_type'] = 'display_data';\n",
              "          await google.colab.output.renderOutput(dataTable, element);\n",
              "          const docLink = document.createElement('div');\n",
              "          docLink.innerHTML = docLinkHtml;\n",
              "          element.appendChild(docLink);\n",
              "        }\n",
              "      </script>\n",
              "    </div>\n",
              "  </div>\n",
              "  "
            ]
          },
          "metadata": {},
          "execution_count": 32
        }
      ]
    },
    {
      "cell_type": "markdown",
      "source": [
        "Условимся, что 30 - среднее специальное, 40 - общее среднее образование, 50 - высшее, 60 - магистратура, аспирантура и т.д.\n",
        "Люди"
      ],
      "metadata": {
        "id": "ljkBlt9QdOQ3"
      }
    },
    {
      "cell_type": "code",
      "source": [
        "#educ_dict = {'30' : 0, '40' : 1, '50' : 2, '60' : 3}\n",
        "#analysis_df['education_id'] = analysis_df['education_id'].apply(lambda x: educ_dict[x])\n"
      ],
      "metadata": {
        "id": "Q7itIgQjd7QP"
      },
      "execution_count": null,
      "outputs": []
    },
    {
      "cell_type": "markdown",
      "source": [
        "Дату рождения можно заменить на число полных лет, тип занятости тоже ранжировать, а пол сделать бинарным признаком"
      ],
      "metadata": {
        "id": "J-AIRN8KgBh1"
      }
    },
    {
      "cell_type": "code",
      "source": [
        "import datetime\n",
        "analysis_df['date_of_birth'] = analysis_df['date_of_birth'].replace('-', '', regex=True)\n"
      ],
      "metadata": {
        "id": "VOUimBSUgNvO"
      },
      "execution_count": null,
      "outputs": []
    },
    {
      "cell_type": "code",
      "source": [
        "import numpy as np\n",
        "analysis_df['years_old'] = (pd.to_datetime(analysis_df['date_of_birth'], format='%d%m%Y') - datetime.datetime.now())/ np.timedelta64 ( -1 , 'Y')\n",
        "analysis_df['years_old'] = analysis_df['years_old'].round()"
      ],
      "metadata": {
        "id": "Lqm_yam4icRP"
      },
      "execution_count": null,
      "outputs": []
    },
    {
      "cell_type": "code",
      "source": [
        "plt.figure(figsize=(10,5))\n",
        "plt.hist(analysis_df['Статус'], orientation = 'horizontal')"
      ],
      "metadata": {
        "colab": {
          "base_uri": "https://localhost:8080/",
          "height": 500
        },
        "id": "zhyNvUGH8Wip",
        "outputId": "6b416fbe-85d7-4158-b6e2-dea4f556b38d"
      },
      "execution_count": null,
      "outputs": [
        {
          "output_type": "execute_result",
          "data": {
            "text/plain": [
              "(array([413.,   0.,  54.,   0.,   0.,  33.,   0.,   1.,   0.,   2.]),\n",
              " array([0. , 0.4, 0.8, 1.2, 1.6, 2. , 2.4, 2.8, 3.2, 3.6, 4. ]),\n",
              " <BarContainer object of 10 artists>)"
            ]
          },
          "metadata": {},
          "execution_count": 36
        },
        {
          "output_type": "display_data",
          "data": {
            "text/plain": [
              "<Figure size 1000x500 with 1 Axes>"
            ],
            "image/png": "[encoded data removed]"
          },
          "metadata": {}
        }
      ]
    },
    {
      "cell_type": "code",
      "source": [
        "bins = 5\n",
        "plt.hist(analysis_df.loc[analysis_df['Статус'] == 'Отказ', 'years_old'], bins, label = 'Неодобренные')\n",
        "plt.hist(analysis_df.loc[(analysis_df['Статус'] == 'Выдано') |(analysis_df['Статус'] == \"Предварительно одобрено\"), 'years_old'], bins = 4,  label = 'Одобренные')\n",
        "\n",
        "plt.legend(loc = 'upper right')\n",
        "plt.xlabel('Количество лет', fontsize = 16)\n",
        "plt.ylabel('Количество наблюдений', fontsize = 16)\n",
        "plt.title('Распределение возраста для двух типов статуса', fontsize = 16)"
      ],
      "metadata": {
        "colab": {
          "base_uri": "https://localhost:8080/",
          "height": 498
        },
        "id": "IFYrRdVm-ShC",
        "outputId": "4e7d4f00-f8c5-4225-e399-e30829decdae"
      },
      "execution_count": null,
      "outputs": [
        {
          "output_type": "execute_result",
          "data": {
            "text/plain": [
              "Text(0.5, 1.0, 'Распределение возраста для двух типов статуса')"
            ]
          },
          "metadata": {},
          "execution_count": 37
        },
        {
          "output_type": "display_data",
          "data": {
            "text/plain": [
              "<Figure size 640x480 with 1 Axes>"
            ],
            "image/png": "[encoded data removed]"
          },
          "metadata": {}
        }
      ]
    },
    {
      "cell_type": "code",
      "source": [
        "plt.hist(analysis_df.loc[analysis_df['Статус'] == 'Отказ', 'type_of_employment'], label = 'Неодобренные')\n",
        "plt.hist(analysis_df.loc[(analysis_df['Статус'] == 'Выдано') |(analysis_df['Статус'] == \"Предварительно одобрено\"), 'type_of_employment'],  label = 'Одобренные')\n",
        "\n",
        "plt.ylim([0, 60])\n",
        "plt.legend(loc = 'upper left')\n",
        "plt.xlabel('Вид занятости', fontsize = 16)\n",
        "plt.ylabel('Количество наблюдений', fontsize = 16)\n",
        "plt.title('Зависимость выдачи кредита от вида занятости', fontsize = 16)"
      ],
      "metadata": {
        "colab": {
          "base_uri": "https://localhost:8080/",
          "height": 498
        },
        "id": "OOt-CpA799lK",
        "outputId": "602a2140-5382-40f7-d21b-1018d84adc69"
      },
      "execution_count": null,
      "outputs": [
        {
          "output_type": "execute_result",
          "data": {
            "text/plain": [
              "Text(0.5, 1.0, 'Зависимость выдачи кредита от вида занятости')"
            ]
          },
          "metadata": {},
          "execution_count": 38
        },
        {
          "output_type": "display_data",
          "data": {
            "text/plain": [
              "<Figure size 640x480 with 1 Axes>"
            ],
            "image/png": "[encoded data removed]"
          },
          "metadata": {}
        }
      ]
    },
    {
      "cell_type": "code",
      "source": [
        "plt.hist(analysis_df.loc[analysis_df['Статус'] == 'Отказ', 'education_id'], label = 'Неодобренные')\n",
        "plt.hist(analysis_df.loc[(analysis_df['Статус'] == 'Выдано') |(analysis_df['Статус'] == \"Предварительно одобрено\"), 'education_id'], label = 'Одобренные')\n",
        "\n",
        "plt.ylim([0, 60])\n",
        "plt.legend(loc = 'upper left')\n",
        "plt.xlabel('Уровень образования', fontsize = 16)\n",
        "plt.ylabel('Количество наблюдений', fontsize = 16)\n",
        "plt.title('Зависимость выдачи кредита от уровня образования', fontsize = 16)"
      ],
      "metadata": {
        "colab": {
          "base_uri": "https://localhost:8080/",
          "height": 499
        },
        "id": "jdmX8PNSBxzH",
        "outputId": "1a9689f2-2472-46cc-c062-c8a9886ac292"
      },
      "execution_count": null,
      "outputs": [
        {
          "output_type": "execute_result",
          "data": {
            "text/plain": [
              "Text(0.5, 1.0, 'Зависимость выдачи кредита от уровня образования')"
            ]
          },
          "metadata": {},
          "execution_count": 39
        },
        {
          "output_type": "display_data",
          "data": {
            "text/plain": [
              "<Figure size 640x480 with 1 Axes>"
            ],
            "image/png": "[encoded data removed]"
          },
          "metadata": {}
        }
      ]
    },
    {
      "cell_type": "code",
      "source": [
        "plt.hist(analysis_df['amount'], bins = 5, color = 'purple')\n",
        "\n",
        "plt.xscale('linear')\n",
        "plt.xlabel('Сумма кредита', fontsize = 16)\n",
        "plt.ylabel('Количество заявок', fontsize = 16)\n",
        "plt.title('Распределение величины суммы кредита', fontsize = 16)"
      ],
      "metadata": {
        "colab": {
          "base_uri": "https://localhost:8080/",
          "height": 498
        },
        "id": "Y4AnEhKTC0Vn",
        "outputId": "9a7ad2a7-f7f4-45cb-e3d3-d0c2ad10a32c"
      },
      "execution_count": null,
      "outputs": [
        {
          "output_type": "execute_result",
          "data": {
            "text/plain": [
              "Text(0.5, 1.0, 'Распределение величины суммы кредита')"
            ]
          },
          "metadata": {},
          "execution_count": 40
        },
        {
          "output_type": "display_data",
          "data": {
            "text/plain": [
              "<Figure size 640x480 with 1 Axes>"
            ],
            "image/png": "[encoded data removed]"
          },
          "metadata": {}
        }
      ]
    },
    {
      "cell_type": "markdown",
      "source": [
        "## Подводя итог, можно сказать, что кредиты пользуются наибольшим спросом среди людей 30-50 лет с постоянным местом работы и среднеспециальным образованием на сумму до 400 000 рублей. Исходя из этого, можно представить образ целевого клиента, поэтому было бы целесообразно проводить рекламную кампанию, настроенную на такую аудиторию. **С большей вероятностью типичный кредитполучатель будет проживать в небольших городах и берет кредит на потребительские расходы - это может быть покупка машины, участка, бытовой техники, кредит на учебу.**"
      ],
      "metadata": {
        "id": "oG6Dx5NJW_Hy"
      }
    },
    {
      "cell_type": "code",
      "source": [
        "analysis_df.type_of_employment.unique()"
      ],
      "metadata": {
        "colab": {
          "base_uri": "https://localhost:8080/"
        },
        "id": "FdsG8MPpl2jh",
        "outputId": "ca255ebb-3f09-4516-e9e0-65e391da2207"
      },
      "execution_count": null,
      "outputs": [
        {
          "output_type": "execute_result",
          "data": {
            "text/plain": [
              "array(['unemployed', 'employ', 'own-business', 'pensioner'], dtype=object)"
            ]
          },
          "metadata": {},
          "execution_count": 41
        }
      ]
    },
    {
      "cell_type": "code",
      "source": [
        "#employ_dict = {'unemployed' : 0, 'pensioner': 1, 'own-business': 2, 'employ' : 3}\n",
        "#analysis_df['type_of_employment'] = analysis_df['type_of_employment'].apply(lambda x: employ_dict[x])"
      ],
      "metadata": {
        "id": "E_WHsjo_n2Gx"
      },
      "execution_count": null,
      "outputs": []
    },
    {
      "cell_type": "code",
      "source": [
        "analysis_df = pd.get_dummies(analysis_df, columns = ['type_of_employment'])\n"
      ],
      "metadata": {
        "id": "_j66BqZ7eDw7"
      },
      "execution_count": null,
      "outputs": []
    },
    {
      "cell_type": "code",
      "source": [
        "analysis_df"
      ],
      "metadata": {
        "colab": {
          "base_uri": "https://localhost:8080/",
          "height": 557
        },
        "id": "Q3dvEhhpeQVK",
        "outputId": "0a47d80b-466e-4753-a9de-5a0c890375ce"
      },
      "execution_count": null,
      "outputs": [
        {
          "output_type": "execute_result",
          "data": {
            "text/plain": [
              "                      Статус   amount credit_term_id education_id  \\\n",
              "0                      Отказ   200000             36           40   \n",
              "1                      Отказ   150000             36           30   \n",
              "2                      Отказ  5000000             84           30   \n",
              "3    Предварительно одобрено   200000             60           30   \n",
              "4                      Отказ   300000             36           30   \n",
              "..                       ...      ...            ...          ...   \n",
              "498      Обработка завершена   400000             24           30   \n",
              "499  Предварительно одобрено   200000             36           30   \n",
              "500           Заявка принята   300000             24           30   \n",
              "501                    Отказ   300000             36           50   \n",
              "502           Заявка принята   300000             36           50   \n",
              "\n",
              "    date_of_birth gender registration_address_city                   city  \\\n",
              "0        09021998      М                    Самара      Самарская_область   \n",
              "1        18111967      М                  Волжский  Волгоградская_область   \n",
              "2        18051978      М                     Пермь          Пермский_край   \n",
              "3        13051996      Ж                 Мекен-Юрт                village   \n",
              "4        25101985      Ж                    Мелеуз           Башкортостан   \n",
              "..            ...    ...                       ...                    ...   \n",
              "498      09061994      Ж                    Абакан                Хакасия   \n",
              "499      31011971      М                   Наумово                village   \n",
              "500      03061976      Ж               Владивосток        Приморский_край   \n",
              "501      04111977      М                    Пришиб                village   \n",
              "502      26101998      М                   Грозный                  Чечня   \n",
              "\n",
              "     village  Адыгея  ...  Челябинская_область  Чечня  Чувашия  \\\n",
              "0        0.0     0.0  ...                  0.0    0.0      0.0   \n",
              "1        0.0     0.0  ...                  0.0    0.0      0.0   \n",
              "2        0.0     0.0  ...                  0.0    0.0      0.0   \n",
              "3        1.0     0.0  ...                  0.0    0.0      0.0   \n",
              "4        0.0     0.0  ...                  0.0    0.0      0.0   \n",
              "..       ...     ...  ...                  ...    ...      ...   \n",
              "498      0.0     0.0  ...                  0.0    0.0      0.0   \n",
              "499      1.0     0.0  ...                  0.0    0.0      0.0   \n",
              "500      0.0     0.0  ...                  0.0    0.0      0.0   \n",
              "501      1.0     0.0  ...                  0.0    0.0      0.0   \n",
              "502      0.0     0.0  ...                  0.0    1.0      0.0   \n",
              "\n",
              "     Ямало-Ненецкий_АО  Ярославская_область  years_old  \\\n",
              "0                  0.0                  0.0       25.0   \n",
              "1                  0.0                  0.0       56.0   \n",
              "2                  0.0                  0.0       45.0   \n",
              "3                  0.0                  0.0       27.0   \n",
              "4                  0.0                  0.0       38.0   \n",
              "..                 ...                  ...        ...   \n",
              "498                0.0                  0.0       29.0   \n",
              "499                0.0                  0.0       52.0   \n",
              "500                0.0                  0.0       47.0   \n",
              "501                0.0                  0.0       46.0   \n",
              "502                0.0                  0.0       25.0   \n",
              "\n",
              "     type_of_employment_employ  type_of_employment_own-business  \\\n",
              "0                            0                                0   \n",
              "1                            1                                0   \n",
              "2                            1                                0   \n",
              "3                            1                                0   \n",
              "4                            1                                0   \n",
              "..                         ...                              ...   \n",
              "498                          1                                0   \n",
              "499                          1                                0   \n",
              "500                          1                                0   \n",
              "501                          1                                0   \n",
              "502                          1                                0   \n",
              "\n",
              "     type_of_employment_pensioner  type_of_employment_unemployed  \n",
              "0                               0                              1  \n",
              "1                               0                              0  \n",
              "2                               0                              0  \n",
              "3                               0                              0  \n",
              "4                               0                              0  \n",
              "..                            ...                            ...  \n",
              "498                             0                              0  \n",
              "499                             0                              0  \n",
              "500                             0                              0  \n",
              "501                             0                              0  \n",
              "502                             0                              0  \n",
              "\n",
              "[503 rows x 70 columns]"
            ],
            "text/html": [
              "\n",
              "  <div id=\"df-ea943b59-e9af-4479-9edf-bcabcf468a5b\">\n",
              "    <div class=\"colab-df-container\">\n",
              "      <div>\n",
              "<style scoped>\n",
              "    .dataframe tbody tr th:only-of-type {\n",
              "        vertical-align: middle;\n",
              "    }\n",
              "\n",
              "    .dataframe tbody tr th {\n",
              "        vertical-align: top;\n",
              "    }\n",
              "\n",
              "    .dataframe thead th {\n",
              "        text-align: right;\n",
              "    }\n",
              "</style>\n",
              "<table border=\"1\" class=\"dataframe\">\n",
              "  <thead>\n",
              "    <tr style=\"text-align: right;\">\n",
              "      <th></th>\n",
              "      <th>Статус</th>\n",
              "      <th>amount</th>\n",
              "      <th>credit_term_id</th>\n",
              "      <th>education_id</th>\n",
              "      <th>date_of_birth</th>\n",
              "      <th>gender</th>\n",
              "      <th>registration_address_city</th>\n",
              "      <th>city</th>\n",
              "      <th>village</th>\n",
              "      <th>Адыгея</th>\n",
              "      <th>...</th>\n",
              "      <th>Челябинская_область</th>\n",
              "      <th>Чечня</th>\n",
              "      <th>Чувашия</th>\n",
              "      <th>Ямало-Ненецкий_АО</th>\n",
              "      <th>Ярославская_область</th>\n",
              "      <th>years_old</th>\n",
              "      <th>type_of_employment_employ</th>\n",
              "      <th>type_of_employment_own-business</th>\n",
              "      <th>type_of_employment_pensioner</th>\n",
              "      <th>type_of_employment_unemployed</th>\n",
              "    </tr>\n",
              "  </thead>\n",
              "  <tbody>\n",
              "    <tr>\n",
              "      <th>0</th>\n",
              "      <td>Отказ</td>\n",
              "      <td>200000</td>\n",
              "      <td>36</td>\n",
              "      <td>40</td>\n",
              "      <td>09021998</td>\n",
              "      <td>М</td>\n",
              "      <td>Самара</td>\n",
              "      <td>Самарская_область</td>\n",
              "      <td>0.0</td>\n",
              "      <td>0.0</td>\n",
              "      <td>...</td>\n",
              "      <td>0.0</td>\n",
              "      <td>0.0</td>\n",
              "      <td>0.0</td>\n",
              "      <td>0.0</td>\n",
              "      <td>0.0</td>\n",
              "      <td>25.0</td>\n",
              "      <td>0</td>\n",
              "      <td>0</td>\n",
              "      <td>0</td>\n",
              "      <td>1</td>\n",
              "    </tr>\n",
              "    <tr>\n",
              "      <th>1</th>\n",
              "      <td>Отказ</td>\n",
              "      <td>150000</td>\n",
              "      <td>36</td>\n",
              "      <td>30</td>\n",
              "      <td>18111967</td>\n",
              "      <td>М</td>\n",
              "      <td>Волжский</td>\n",
              "      <td>Волгоградская_область</td>\n",
              "      <td>0.0</td>\n",
              "      <td>0.0</td>\n",
              "      <td>...</td>\n",
              "      <td>0.0</td>\n",
              "      <td>0.0</td>\n",
              "      <td>0.0</td>\n",
              "      <td>0.0</td>\n",
              "      <td>0.0</td>\n",
              "      <td>56.0</td>\n",
              "      <td>1</td>\n",
              "      <td>0</td>\n",
              "      <td>0</td>\n",
              "      <td>0</td>\n",
              "    </tr>\n",
              "    <tr>\n",
              "      <th>2</th>\n",
              "      <td>Отказ</td>\n",
              "      <td>5000000</td>\n",
              "      <td>84</td>\n",
              "      <td>30</td>\n",
              "      <td>18051978</td>\n",
              "      <td>М</td>\n",
              "      <td>Пермь</td>\n",
              "      <td>Пермский_край</td>\n",
              "      <td>0.0</td>\n",
              "      <td>0.0</td>\n",
              "      <td>...</td>\n",
              "      <td>0.0</td>\n",
              "      <td>0.0</td>\n",
              "      <td>0.0</td>\n",
              "      <td>0.0</td>\n",
              "      <td>0.0</td>\n",
              "      <td>45.0</td>\n",
              "      <td>1</td>\n",
              "      <td>0</td>\n",
              "      <td>0</td>\n",
              "      <td>0</td>\n",
              "    </tr>\n",
              "    <tr>\n",
              "      <th>3</th>\n",
              "      <td>Предварительно одобрено</td>\n",
              "      <td>200000</td>\n",
              "      <td>60</td>\n",
              "      <td>30</td>\n",
              "      <td>13051996</td>\n",
              "      <td>Ж</td>\n",
              "      <td>Мекен-Юрт</td>\n",
              "      <td>village</td>\n",
              "      <td>1.0</td>\n",
              "      <td>0.0</td>\n",
              "      <td>...</td>\n",
              "      <td>0.0</td>\n",
              "      <td>0.0</td>\n",
              "      <td>0.0</td>\n",
              "      <td>0.0</td>\n",
              "      <td>0.0</td>\n",
              "      <td>27.0</td>\n",
              "      <td>1</td>\n",
              "      <td>0</td>\n",
              "      <td>0</td>\n",
              "      <td>0</td>\n",
              "    </tr>\n",
              "    <tr>\n",
              "      <th>4</th>\n",
              "      <td>Отказ</td>\n",
              "      <td>300000</td>\n",
              "      <td>36</td>\n",
              "      <td>30</td>\n",
              "      <td>25101985</td>\n",
              "      <td>Ж</td>\n",
              "      <td>Мелеуз</td>\n",
              "      <td>Башкортостан</td>\n",
              "      <td>0.0</td>\n",
              "      <td>0.0</td>\n",
              "      <td>...</td>\n",
              "      <td>0.0</td>\n",
              "      <td>0.0</td>\n",
              "      <td>0.0</td>\n",
              "      <td>0.0</td>\n",
              "      <td>0.0</td>\n",
              "      <td>38.0</td>\n",
              "      <td>1</td>\n",
              "      <td>0</td>\n",
              "      <td>0</td>\n",
              "      <td>0</td>\n",
              "    </tr>\n",
              "    <tr>\n",
              "      <th>...</th>\n",
              "      <td>...</td>\n",
              "      <td>...</td>\n",
              "      <td>...</td>\n",
              "      <td>...</td>\n",
              "      <td>...</td>\n",
              "      <td>...</td>\n",
              "      <td>...</td>\n",
              "      <td>...</td>\n",
              "      <td>...</td>\n",
              "      <td>...</td>\n",
              "      <td>...</td>\n",
              "      <td>...</td>\n",
              "      <td>...</td>\n",
              "      <td>...</td>\n",
              "      <td>...</td>\n",
              "      <td>...</td>\n",
              "      <td>...</td>\n",
              "      <td>...</td>\n",
              "      <td>...</td>\n",
              "      <td>...</td>\n",
              "      <td>...</td>\n",
              "    </tr>\n",
              "    <tr>\n",
              "      <th>498</th>\n",
              "      <td>Обработка завершена</td>\n",
              "      <td>400000</td>\n",
              "      <td>24</td>\n",
              "      <td>30</td>\n",
              "      <td>09061994</td>\n",
              "      <td>Ж</td>\n",
              "      <td>Абакан</td>\n",
              "      <td>Хакасия</td>\n",
              "      <td>0.0</td>\n",
              "      <td>0.0</td>\n",
              "      <td>...</td>\n",
              "      <td>0.0</td>\n",
              "      <td>0.0</td>\n",
              "      <td>0.0</td>\n",
              "      <td>0.0</td>\n",
              "      <td>0.0</td>\n",
              "      <td>29.0</td>\n",
              "      <td>1</td>\n",
              "      <td>0</td>\n",
              "      <td>0</td>\n",
              "      <td>0</td>\n",
              "    </tr>\n",
              "    <tr>\n",
              "      <th>499</th>\n",
              "      <td>Предварительно одобрено</td>\n",
              "      <td>200000</td>\n",
              "      <td>36</td>\n",
              "      <td>30</td>\n",
              "      <td>31011971</td>\n",
              "      <td>М</td>\n",
              "      <td>Наумово</td>\n",
              "      <td>village</td>\n",
              "      <td>1.0</td>\n",
              "      <td>0.0</td>\n",
              "      <td>...</td>\n",
              "      <td>0.0</td>\n",
              "      <td>0.0</td>\n",
              "      <td>0.0</td>\n",
              "      <td>0.0</td>\n",
              "      <td>0.0</td>\n",
              "      <td>52.0</td>\n",
              "      <td>1</td>\n",
              "      <td>0</td>\n",
              "      <td>0</td>\n",
              "      <td>0</td>\n",
              "    </tr>\n",
              "    <tr>\n",
              "      <th>500</th>\n",
              "      <td>Заявка принята</td>\n",
              "      <td>300000</td>\n",
              "      <td>24</td>\n",
              "      <td>30</td>\n",
              "      <td>03061976</td>\n",
              "      <td>Ж</td>\n",
              "      <td>Владивосток</td>\n",
              "      <td>Приморский_край</td>\n",
              "      <td>0.0</td>\n",
              "      <td>0.0</td>\n",
              "      <td>...</td>\n",
              "      <td>0.0</td>\n",
              "      <td>0.0</td>\n",
              "      <td>0.0</td>\n",
              "      <td>0.0</td>\n",
              "      <td>0.0</td>\n",
              "      <td>47.0</td>\n",
              "      <td>1</td>\n",
              "      <td>0</td>\n",
              "      <td>0</td>\n",
              "      <td>0</td>\n",
              "    </tr>\n",
              "    <tr>\n",
              "      <th>501</th>\n",
              "      <td>Отказ</td>\n",
              "      <td>300000</td>\n",
              "      <td>36</td>\n",
              "      <td>50</td>\n",
              "      <td>04111977</td>\n",
              "      <td>М</td>\n",
              "      <td>Пришиб</td>\n",
              "      <td>village</td>\n",
              "      <td>1.0</td>\n",
              "      <td>0.0</td>\n",
              "      <td>...</td>\n",
              "      <td>0.0</td>\n",
              "      <td>0.0</td>\n",
              "      <td>0.0</td>\n",
              "      <td>0.0</td>\n",
              "      <td>0.0</td>\n",
              "      <td>46.0</td>\n",
              "      <td>1</td>\n",
              "      <td>0</td>\n",
              "      <td>0</td>\n",
              "      <td>0</td>\n",
              "    </tr>\n",
              "    <tr>\n",
              "      <th>502</th>\n",
              "      <td>Заявка принята</td>\n",
              "      <td>300000</td>\n",
              "      <td>36</td>\n",
              "      <td>50</td>\n",
              "      <td>26101998</td>\n",
              "      <td>М</td>\n",
              "      <td>Грозный</td>\n",
              "      <td>Чечня</td>\n",
              "      <td>0.0</td>\n",
              "      <td>0.0</td>\n",
              "      <td>...</td>\n",
              "      <td>0.0</td>\n",
              "      <td>1.0</td>\n",
              "      <td>0.0</td>\n",
              "      <td>0.0</td>\n",
              "      <td>0.0</td>\n",
              "      <td>25.0</td>\n",
              "      <td>1</td>\n",
              "      <td>0</td>\n",
              "      <td>0</td>\n",
              "      <td>0</td>\n",
              "    </tr>\n",
              "  </tbody>\n",
              "</table>\n",
              "<p>503 rows × 70 columns</p>\n",
              "</div>\n",
              "      <button class=\"colab-df-convert\" onclick=\"convertToInteractive('df-ea943b59-e9af-4479-9edf-bcabcf468a5b')\"\n",
              "              title=\"Convert this dataframe to an interactive table.\"\n",
              "              style=\"display:none;\">\n",
              "        \n",
              "  <svg xmlns=\"http://www.w3.org/2000/svg\" height=\"24px\"viewBox=\"0 0 24 24\"\n",
              "       width=\"24px\">\n",
              "    <path d=\"M0 0h24v24H0V0z\" fill=\"none\"/>\n",
              "    <path d=\"M18.56 5.44l.94 2.06.94-2.06 2.06-.94-2.06-.94-.94-2.06-.94 2.06-2.06.94zm-11 1L8.5 8.5l.94-2.06 2.06-.94-2.06-.94L8.5 2.5l-.94 2.06-2.06.94zm10 10l.94 2.06.94-2.06 2.06-.94-2.06-.94-.94-2.06-.94 2.06-2.06.94z\"/><path d=\"M17.41 7.96l-1.37-1.37c-.4-.4-.92-.59-1.43-.59-.52 0-1.04.2-1.43.59L10.3 9.45l-7.72 7.72c-.78.78-.78 2.05 0 2.83L4 21.41c.39.39.9.59 1.41.59.51 0 1.02-.2 1.41-.59l7.78-7.78 2.81-2.81c.8-.78.8-2.07 0-2.86zM5.41 20L4 18.59l7.72-7.72 1.47 1.35L5.41 20z\"/>\n",
              "  </svg>\n",
              "      </button>\n",
              "      \n",
              "  <style>\n",
              "    .colab-df-container {\n",
              "      display:flex;\n",
              "      flex-wrap:wrap;\n",
              "      gap: 12px;\n",
              "    }\n",
              "\n",
              "    .colab-df-convert {\n",
              "      background-color: #E8F0FE;\n",
              "      border: none;\n",
              "      border-radius: 50%;\n",
              "      cursor: pointer;\n",
              "      display: none;\n",
              "      fill: #1967D2;\n",
              "      height: 32px;\n",
              "      padding: 0 0 0 0;\n",
              "      width: 32px;\n",
              "    }\n",
              "\n",
              "    .colab-df-convert:hover {\n",
              "      background-color: #E2EBFA;\n",
              "      box-shadow: 0px 1px 2px rgba(60, 64, 67, 0.3), 0px 1px 3px 1px rgba(60, 64, 67, 0.15);\n",
              "      fill: #174EA6;\n",
              "    }\n",
              "\n",
              "    [theme=dark] .colab-df-convert {\n",
              "      background-color: #3B4455;\n",
              "      fill: #D2E3FC;\n",
              "    }\n",
              "\n",
              "    [theme=dark] .colab-df-convert:hover {\n",
              "      background-color: #434B5C;\n",
              "      box-shadow: 0px 1px 3px 1px rgba(0, 0, 0, 0.15);\n",
              "      filter: drop-shadow(0px 1px 2px rgba(0, 0, 0, 0.3));\n",
              "      fill: #FFFFFF;\n",
              "    }\n",
              "  </style>\n",
              "\n",
              "      <script>\n",
              "        const buttonEl =\n",
              "          document.querySelector('#df-ea943b59-e9af-4479-9edf-bcabcf468a5b button.colab-df-convert');\n",
              "        buttonEl.style.display =\n",
              "          google.colab.kernel.accessAllowed ? 'block' : 'none';\n",
              "\n",
              "        async function convertToInteractive(key) {\n",
              "          const element = document.querySelector('#df-ea943b59-e9af-4479-9edf-bcabcf468a5b');\n",
              "          const dataTable =\n",
              "            await google.colab.kernel.invokeFunction('convertToInteractive',\n",
              "                                                     [key], {});\n",
              "          if (!dataTable) return;\n",
              "\n",
              "          const docLinkHtml = 'Like what you see? Visit the ' +\n",
              "            '<a target=\"_blank\" href=https://colab.research.google.com/notebooks/data_table.ipynb>data table notebook</a>'\n",
              "            + ' to learn more about interactive tables.';\n",
              "          element.innerHTML = '';\n",
              "          dataTable['output_type'] = 'display_data';\n",
              "          await google.colab.output.renderOutput(dataTable, element);\n",
              "          const docLink = document.createElement('div');\n",
              "          docLink.innerHTML = docLinkHtml;\n",
              "          element.appendChild(docLink);\n",
              "        }\n",
              "      </script>\n",
              "    </div>\n",
              "  </div>\n",
              "  "
            ]
          },
          "metadata": {},
          "execution_count": 44
        }
      ]
    },
    {
      "cell_type": "code",
      "source": [
        "gend_dict = {'Ж' : 0, 'М': 1}\n",
        "analysis_df['gender'] = analysis_df['gender'].apply(lambda x: gend_dict[x])\n"
      ],
      "metadata": {
        "id": "dpFegeTInv6E"
      },
      "execution_count": null,
      "outputs": []
    },
    {
      "cell_type": "code",
      "source": [
        "analysis_df.columns"
      ],
      "metadata": {
        "colab": {
          "base_uri": "https://localhost:8080/"
        },
        "id": "N0pfcHVUeZDl",
        "outputId": "75ae9fa4-5f13-4349-8aaf-a636738d58fc"
      },
      "execution_count": null,
      "outputs": [
        {
          "output_type": "execute_result",
          "data": {
            "text/plain": [
              "Index(['Статус', 'amount', 'credit_term_id', 'education_id', 'date_of_birth',\n",
              "       'gender', 'registration_address_city', 'city', 'village', 'Адыгея',\n",
              "       'Алтайский_край', 'Астраханская_область', 'Башкортостан',\n",
              "       'Белгородская_область', 'Бурятия', 'Владимирская_область',\n",
              "       'Волгоградская_область', 'Вологодская_область', 'Забайкальский_край',\n",
              "       'Ивановская_область', 'Иркутская_область', 'Калининградская_область',\n",
              "       'Калужская_область', 'Карачаево-Черкесия', 'Карелия',\n",
              "       'Краснодарский_край', 'Курская_область', 'Липецкая_область', 'Марий_Эл',\n",
              "       'Москва', 'Московская_область', 'Нижегородская_область',\n",
              "       'Новгородская_область', 'Новосибирская_область', 'Омская_область',\n",
              "       'Оренбургская_область', 'Орловская_область', 'Пензенская_область',\n",
              "       'Пермский_край', 'Приморский_край', 'Псковская_область',\n",
              "       'Ростовская_область', 'Рязанская_область', 'Самарская_область',\n",
              "       'Санкт-Петербург', 'Саратовская_область', 'Свердловская_область',\n",
              "       'Севастополь', 'Северная_Осетия', 'Ставропольский_край',\n",
              "       'Тамбовская_область', 'Татарстан', 'Тульская_область', 'Тыва',\n",
              "       'Тюменская_область', 'Удмуртия', 'Ульяновская_область',\n",
              "       'Хабаровский_край', 'Хакасия', 'Ханты-Мансийский_АО',\n",
              "       'Челябинская_область', 'Чечня', 'Чувашия', 'Ямало-Ненецкий_АО',\n",
              "       'Ярославская_область', 'years_old', 'type_of_employment_employ',\n",
              "       'type_of_employment_own-business', 'type_of_employment_pensioner',\n",
              "       'type_of_employment_unemployed'],\n",
              "      dtype='object')"
            ]
          },
          "metadata": {},
          "execution_count": 46
        }
      ]
    },
    {
      "cell_type": "code",
      "source": [
        "analysis_df = analysis_df.drop(columns = ['date_of_birth', 'registration_address_city', 'city'])\n"
      ],
      "metadata": {
        "id": "xNvRycBGoFlr"
      },
      "execution_count": null,
      "outputs": []
    },
    {
      "cell_type": "code",
      "source": [
        "analysis_df"
      ],
      "metadata": {
        "colab": {
          "base_uri": "https://localhost:8080/",
          "height": 557
        },
        "id": "6Q79wTkmeo_h",
        "outputId": "0ed12552-a9ec-4e05-9747-916e8d0ae06d"
      },
      "execution_count": null,
      "outputs": [
        {
          "output_type": "execute_result",
          "data": {
            "text/plain": [
              "                      Статус   amount credit_term_id education_id  gender  \\\n",
              "0                      Отказ   200000             36           40       1   \n",
              "1                      Отказ   150000             36           30       1   \n",
              "2                      Отказ  5000000             84           30       1   \n",
              "3    Предварительно одобрено   200000             60           30       0   \n",
              "4                      Отказ   300000             36           30       0   \n",
              "..                       ...      ...            ...          ...     ...   \n",
              "498      Обработка завершена   400000             24           30       0   \n",
              "499  Предварительно одобрено   200000             36           30       1   \n",
              "500           Заявка принята   300000             24           30       0   \n",
              "501                    Отказ   300000             36           50       1   \n",
              "502           Заявка принята   300000             36           50       1   \n",
              "\n",
              "     village  Адыгея  Алтайский_край  Астраханская_область  Башкортостан  ...  \\\n",
              "0        0.0     0.0             0.0                   0.0           0.0  ...   \n",
              "1        0.0     0.0             0.0                   0.0           0.0  ...   \n",
              "2        0.0     0.0             0.0                   0.0           0.0  ...   \n",
              "3        1.0     0.0             0.0                   0.0           0.0  ...   \n",
              "4        0.0     0.0             0.0                   0.0           1.0  ...   \n",
              "..       ...     ...             ...                   ...           ...  ...   \n",
              "498      0.0     0.0             0.0                   0.0           0.0  ...   \n",
              "499      1.0     0.0             0.0                   0.0           0.0  ...   \n",
              "500      0.0     0.0             0.0                   0.0           0.0  ...   \n",
              "501      1.0     0.0             0.0                   0.0           0.0  ...   \n",
              "502      0.0     0.0             0.0                   0.0           0.0  ...   \n",
              "\n",
              "     Челябинская_область  Чечня  Чувашия  Ямало-Ненецкий_АО  \\\n",
              "0                    0.0    0.0      0.0                0.0   \n",
              "1                    0.0    0.0      0.0                0.0   \n",
              "2                    0.0    0.0      0.0                0.0   \n",
              "3                    0.0    0.0      0.0                0.0   \n",
              "4                    0.0    0.0      0.0                0.0   \n",
              "..                   ...    ...      ...                ...   \n",
              "498                  0.0    0.0      0.0                0.0   \n",
              "499                  0.0    0.0      0.0                0.0   \n",
              "500                  0.0    0.0      0.0                0.0   \n",
              "501                  0.0    0.0      0.0                0.0   \n",
              "502                  0.0    1.0      0.0                0.0   \n",
              "\n",
              "     Ярославская_область  years_old  type_of_employment_employ  \\\n",
              "0                    0.0       25.0                          0   \n",
              "1                    0.0       56.0                          1   \n",
              "2                    0.0       45.0                          1   \n",
              "3                    0.0       27.0                          1   \n",
              "4                    0.0       38.0                          1   \n",
              "..                   ...        ...                        ...   \n",
              "498                  0.0       29.0                          1   \n",
              "499                  0.0       52.0                          1   \n",
              "500                  0.0       47.0                          1   \n",
              "501                  0.0       46.0                          1   \n",
              "502                  0.0       25.0                          1   \n",
              "\n",
              "     type_of_employment_own-business  type_of_employment_pensioner  \\\n",
              "0                                  0                             0   \n",
              "1                                  0                             0   \n",
              "2                                  0                             0   \n",
              "3                                  0                             0   \n",
              "4                                  0                             0   \n",
              "..                               ...                           ...   \n",
              "498                                0                             0   \n",
              "499                                0                             0   \n",
              "500                                0                             0   \n",
              "501                                0                             0   \n",
              "502                                0                             0   \n",
              "\n",
              "     type_of_employment_unemployed  \n",
              "0                                1  \n",
              "1                                0  \n",
              "2                                0  \n",
              "3                                0  \n",
              "4                                0  \n",
              "..                             ...  \n",
              "498                              0  \n",
              "499                              0  \n",
              "500                              0  \n",
              "501                              0  \n",
              "502                              0  \n",
              "\n",
              "[503 rows x 67 columns]"
            ],
            "text/html": [
              "\n",
              "  <div id=\"df-c1b0aa8c-6180-417b-bc89-f53cd74db1c3\">\n",
              "    <div class=\"colab-df-container\">\n",
              "      <div>\n",
              "<style scoped>\n",
              "    .dataframe tbody tr th:only-of-type {\n",
              "        vertical-align: middle;\n",
              "    }\n",
              "\n",
              "    .dataframe tbody tr th {\n",
              "        vertical-align: top;\n",
              "    }\n",
              "\n",
              "    .dataframe thead th {\n",
              "        text-align: right;\n",
              "    }\n",
              "</style>\n",
              "<table border=\"1\" class=\"dataframe\">\n",
              "  <thead>\n",
              "    <tr style=\"text-align: right;\">\n",
              "      <th></th>\n",
              "      <th>Статус</th>\n",
              "      <th>amount</th>\n",
              "      <th>credit_term_id</th>\n",
              "      <th>education_id</th>\n",
              "      <th>gender</th>\n",
              "      <th>village</th>\n",
              "      <th>Адыгея</th>\n",
              "      <th>Алтайский_край</th>\n",
              "      <th>Астраханская_область</th>\n",
              "      <th>Башкортостан</th>\n",
              "      <th>...</th>\n",
              "      <th>Челябинская_область</th>\n",
              "      <th>Чечня</th>\n",
              "      <th>Чувашия</th>\n",
              "      <th>Ямало-Ненецкий_АО</th>\n",
              "      <th>Ярославская_область</th>\n",
              "      <th>years_old</th>\n",
              "      <th>type_of_employment_employ</th>\n",
              "      <th>type_of_employment_own-business</th>\n",
              "      <th>type_of_employment_pensioner</th>\n",
              "      <th>type_of_employment_unemployed</th>\n",
              "    </tr>\n",
              "  </thead>\n",
              "  <tbody>\n",
              "    <tr>\n",
              "      <th>0</th>\n",
              "      <td>Отказ</td>\n",
              "      <td>200000</td>\n",
              "      <td>36</td>\n",
              "      <td>40</td>\n",
              "      <td>1</td>\n",
              "      <td>0.0</td>\n",
              "      <td>0.0</td>\n",
              "      <td>0.0</td>\n",
              "      <td>0.0</td>\n",
              "      <td>0.0</td>\n",
              "      <td>...</td>\n",
              "      <td>0.0</td>\n",
              "      <td>0.0</td>\n",
              "      <td>0.0</td>\n",
              "      <td>0.0</td>\n",
              "      <td>0.0</td>\n",
              "      <td>25.0</td>\n",
              "      <td>0</td>\n",
              "      <td>0</td>\n",
              "      <td>0</td>\n",
              "      <td>1</td>\n",
              "    </tr>\n",
              "    <tr>\n",
              "      <th>1</th>\n",
              "      <td>Отказ</td>\n",
              "      <td>150000</td>\n",
              "      <td>36</td>\n",
              "      <td>30</td>\n",
              "      <td>1</td>\n",
              "      <td>0.0</td>\n",
              "      <td>0.0</td>\n",
              "      <td>0.0</td>\n",
              "      <td>0.0</td>\n",
              "      <td>0.0</td>\n",
              "      <td>...</td>\n",
              "      <td>0.0</td>\n",
              "      <td>0.0</td>\n",
              "      <td>0.0</td>\n",
              "      <td>0.0</td>\n",
              "      <td>0.0</td>\n",
              "      <td>56.0</td>\n",
              "      <td>1</td>\n",
              "      <td>0</td>\n",
              "      <td>0</td>\n",
              "      <td>0</td>\n",
              "    </tr>\n",
              "    <tr>\n",
              "      <th>2</th>\n",
              "      <td>Отказ</td>\n",
              "      <td>5000000</td>\n",
              "      <td>84</td>\n",
              "      <td>30</td>\n",
              "      <td>1</td>\n",
              "      <td>0.0</td>\n",
              "      <td>0.0</td>\n",
              "      <td>0.0</td>\n",
              "      <td>0.0</td>\n",
              "      <td>0.0</td>\n",
              "      <td>...</td>\n",
              "      <td>0.0</td>\n",
              "      <td>0.0</td>\n",
              "      <td>0.0</td>\n",
              "      <td>0.0</td>\n",
              "      <td>0.0</td>\n",
              "      <td>45.0</td>\n",
              "      <td>1</td>\n",
              "      <td>0</td>\n",
              "      <td>0</td>\n",
              "      <td>0</td>\n",
              "    </tr>\n",
              "    <tr>\n",
              "      <th>3</th>\n",
              "      <td>Предварительно одобрено</td>\n",
              "      <td>200000</td>\n",
              "      <td>60</td>\n",
              "      <td>30</td>\n",
              "      <td>0</td>\n",
              "      <td>1.0</td>\n",
              "      <td>0.0</td>\n",
              "      <td>0.0</td>\n",
              "      <td>0.0</td>\n",
              "      <td>0.0</td>\n",
              "      <td>...</td>\n",
              "      <td>0.0</td>\n",
              "      <td>0.0</td>\n",
              "      <td>0.0</td>\n",
              "      <td>0.0</td>\n",
              "      <td>0.0</td>\n",
              "      <td>27.0</td>\n",
              "      <td>1</td>\n",
              "      <td>0</td>\n",
              "      <td>0</td>\n",
              "      <td>0</td>\n",
              "    </tr>\n",
              "    <tr>\n",
              "      <th>4</th>\n",
              "      <td>Отказ</td>\n",
              "      <td>300000</td>\n",
              "      <td>36</td>\n",
              "      <td>30</td>\n",
              "      <td>0</td>\n",
              "      <td>0.0</td>\n",
              "      <td>0.0</td>\n",
              "      <td>0.0</td>\n",
              "      <td>0.0</td>\n",
              "      <td>1.0</td>\n",
              "      <td>...</td>\n",
              "      <td>0.0</td>\n",
              "      <td>0.0</td>\n",
              "      <td>0.0</td>\n",
              "      <td>0.0</td>\n",
              "      <td>0.0</td>\n",
              "      <td>38.0</td>\n",
              "      <td>1</td>\n",
              "      <td>0</td>\n",
              "      <td>0</td>\n",
              "      <td>0</td>\n",
              "    </tr>\n",
              "    <tr>\n",
              "      <th>...</th>\n",
              "      <td>...</td>\n",
              "      <td>...</td>\n",
              "      <td>...</td>\n",
              "      <td>...</td>\n",
              "      <td>...</td>\n",
              "      <td>...</td>\n",
              "      <td>...</td>\n",
              "      <td>...</td>\n",
              "      <td>...</td>\n",
              "      <td>...</td>\n",
              "      <td>...</td>\n",
              "      <td>...</td>\n",
              "      <td>...</td>\n",
              "      <td>...</td>\n",
              "      <td>...</td>\n",
              "      <td>...</td>\n",
              "      <td>...</td>\n",
              "      <td>...</td>\n",
              "      <td>...</td>\n",
              "      <td>...</td>\n",
              "      <td>...</td>\n",
              "    </tr>\n",
              "    <tr>\n",
              "      <th>498</th>\n",
              "      <td>Обработка завершена</td>\n",
              "      <td>400000</td>\n",
              "      <td>24</td>\n",
              "      <td>30</td>\n",
              "      <td>0</td>\n",
              "      <td>0.0</td>\n",
              "      <td>0.0</td>\n",
              "      <td>0.0</td>\n",
              "      <td>0.0</td>\n",
              "      <td>0.0</td>\n",
              "      <td>...</td>\n",
              "      <td>0.0</td>\n",
              "      <td>0.0</td>\n",
              "      <td>0.0</td>\n",
              "      <td>0.0</td>\n",
              "      <td>0.0</td>\n",
              "      <td>29.0</td>\n",
              "      <td>1</td>\n",
              "      <td>0</td>\n",
              "      <td>0</td>\n",
              "      <td>0</td>\n",
              "    </tr>\n",
              "    <tr>\n",
              "      <th>499</th>\n",
              "      <td>Предварительно одобрено</td>\n",
              "      <td>200000</td>\n",
              "      <td>36</td>\n",
              "      <td>30</td>\n",
              "      <td>1</td>\n",
              "      <td>1.0</td>\n",
              "      <td>0.0</td>\n",
              "      <td>0.0</td>\n",
              "      <td>0.0</td>\n",
              "      <td>0.0</td>\n",
              "      <td>...</td>\n",
              "      <td>0.0</td>\n",
              "      <td>0.0</td>\n",
              "      <td>0.0</td>\n",
              "      <td>0.0</td>\n",
              "      <td>0.0</td>\n",
              "      <td>52.0</td>\n",
              "      <td>1</td>\n",
              "      <td>0</td>\n",
              "      <td>0</td>\n",
              "      <td>0</td>\n",
              "    </tr>\n",
              "    <tr>\n",
              "      <th>500</th>\n",
              "      <td>Заявка принята</td>\n",
              "      <td>300000</td>\n",
              "      <td>24</td>\n",
              "      <td>30</td>\n",
              "      <td>0</td>\n",
              "      <td>0.0</td>\n",
              "      <td>0.0</td>\n",
              "      <td>0.0</td>\n",
              "      <td>0.0</td>\n",
              "      <td>0.0</td>\n",
              "      <td>...</td>\n",
              "      <td>0.0</td>\n",
              "      <td>0.0</td>\n",
              "      <td>0.0</td>\n",
              "      <td>0.0</td>\n",
              "      <td>0.0</td>\n",
              "      <td>47.0</td>\n",
              "      <td>1</td>\n",
              "      <td>0</td>\n",
              "      <td>0</td>\n",
              "      <td>0</td>\n",
              "    </tr>\n",
              "    <tr>\n",
              "      <th>501</th>\n",
              "      <td>Отказ</td>\n",
              "      <td>300000</td>\n",
              "      <td>36</td>\n",
              "      <td>50</td>\n",
              "      <td>1</td>\n",
              "      <td>1.0</td>\n",
              "      <td>0.0</td>\n",
              "      <td>0.0</td>\n",
              "      <td>0.0</td>\n",
              "      <td>0.0</td>\n",
              "      <td>...</td>\n",
              "      <td>0.0</td>\n",
              "      <td>0.0</td>\n",
              "      <td>0.0</td>\n",
              "      <td>0.0</td>\n",
              "      <td>0.0</td>\n",
              "      <td>46.0</td>\n",
              "      <td>1</td>\n",
              "      <td>0</td>\n",
              "      <td>0</td>\n",
              "      <td>0</td>\n",
              "    </tr>\n",
              "    <tr>\n",
              "      <th>502</th>\n",
              "      <td>Заявка принята</td>\n",
              "      <td>300000</td>\n",
              "      <td>36</td>\n",
              "      <td>50</td>\n",
              "      <td>1</td>\n",
              "      <td>0.0</td>\n",
              "      <td>0.0</td>\n",
              "      <td>0.0</td>\n",
              "      <td>0.0</td>\n",
              "      <td>0.0</td>\n",
              "      <td>...</td>\n",
              "      <td>0.0</td>\n",
              "      <td>1.0</td>\n",
              "      <td>0.0</td>\n",
              "      <td>0.0</td>\n",
              "      <td>0.0</td>\n",
              "      <td>25.0</td>\n",
              "      <td>1</td>\n",
              "      <td>0</td>\n",
              "      <td>0</td>\n",
              "      <td>0</td>\n",
              "    </tr>\n",
              "  </tbody>\n",
              "</table>\n",
              "<p>503 rows × 67 columns</p>\n",
              "</div>\n",
              "      <button class=\"colab-df-convert\" onclick=\"convertToInteractive('df-c1b0aa8c-6180-417b-bc89-f53cd74db1c3')\"\n",
              "              title=\"Convert this dataframe to an interactive table.\"\n",
              "              style=\"display:none;\">\n",
              "        \n",
              "  <svg xmlns=\"http://www.w3.org/2000/svg\" height=\"24px\"viewBox=\"0 0 24 24\"\n",
              "       width=\"24px\">\n",
              "    <path d=\"M0 0h24v24H0V0z\" fill=\"none\"/>\n",
              "    <path d=\"M18.56 5.44l.94 2.06.94-2.06 2.06-.94-2.06-.94-.94-2.06-.94 2.06-2.06.94zm-11 1L8.5 8.5l.94-2.06 2.06-.94-2.06-.94L8.5 2.5l-.94 2.06-2.06.94zm10 10l.94 2.06.94-2.06 2.06-.94-2.06-.94-.94-2.06-.94 2.06-2.06.94z\"/><path d=\"M17.41 7.96l-1.37-1.37c-.4-.4-.92-.59-1.43-.59-.52 0-1.04.2-1.43.59L10.3 9.45l-7.72 7.72c-.78.78-.78 2.05 0 2.83L4 21.41c.39.39.9.59 1.41.59.51 0 1.02-.2 1.41-.59l7.78-7.78 2.81-2.81c.8-.78.8-2.07 0-2.86zM5.41 20L4 18.59l7.72-7.72 1.47 1.35L5.41 20z\"/>\n",
              "  </svg>\n",
              "      </button>\n",
              "      \n",
              "  <style>\n",
              "    .colab-df-container {\n",
              "      display:flex;\n",
              "      flex-wrap:wrap;\n",
              "      gap: 12px;\n",
              "    }\n",
              "\n",
              "    .colab-df-convert {\n",
              "      background-color: #E8F0FE;\n",
              "      border: none;\n",
              "      border-radius: 50%;\n",
              "      cursor: pointer;\n",
              "      display: none;\n",
              "      fill: #1967D2;\n",
              "      height: 32px;\n",
              "      padding: 0 0 0 0;\n",
              "      width: 32px;\n",
              "    }\n",
              "\n",
              "    .colab-df-convert:hover {\n",
              "      background-color: #E2EBFA;\n",
              "      box-shadow: 0px 1px 2px rgba(60, 64, 67, 0.3), 0px 1px 3px 1px rgba(60, 64, 67, 0.15);\n",
              "      fill: #174EA6;\n",
              "    }\n",
              "\n",
              "    [theme=dark] .colab-df-convert {\n",
              "      background-color: #3B4455;\n",
              "      fill: #D2E3FC;\n",
              "    }\n",
              "\n",
              "    [theme=dark] .colab-df-convert:hover {\n",
              "      background-color: #434B5C;\n",
              "      box-shadow: 0px 1px 3px 1px rgba(0, 0, 0, 0.15);\n",
              "      filter: drop-shadow(0px 1px 2px rgba(0, 0, 0, 0.3));\n",
              "      fill: #FFFFFF;\n",
              "    }\n",
              "  </style>\n",
              "\n",
              "      <script>\n",
              "        const buttonEl =\n",
              "          document.querySelector('#df-c1b0aa8c-6180-417b-bc89-f53cd74db1c3 button.colab-df-convert');\n",
              "        buttonEl.style.display =\n",
              "          google.colab.kernel.accessAllowed ? 'block' : 'none';\n",
              "\n",
              "        async function convertToInteractive(key) {\n",
              "          const element = document.querySelector('#df-c1b0aa8c-6180-417b-bc89-f53cd74db1c3');\n",
              "          const dataTable =\n",
              "            await google.colab.kernel.invokeFunction('convertToInteractive',\n",
              "                                                     [key], {});\n",
              "          if (!dataTable) return;\n",
              "\n",
              "          const docLinkHtml = 'Like what you see? Visit the ' +\n",
              "            '<a target=\"_blank\" href=https://colab.research.google.com/notebooks/data_table.ipynb>data table notebook</a>'\n",
              "            + ' to learn more about interactive tables.';\n",
              "          element.innerHTML = '';\n",
              "          dataTable['output_type'] = 'display_data';\n",
              "          await google.colab.output.renderOutput(dataTable, element);\n",
              "          const docLink = document.createElement('div');\n",
              "          docLink.innerHTML = docLinkHtml;\n",
              "          element.appendChild(docLink);\n",
              "        }\n",
              "      </script>\n",
              "    </div>\n",
              "  </div>\n",
              "  "
            ]
          },
          "metadata": {},
          "execution_count": 48
        }
      ]
    },
    {
      "cell_type": "code",
      "source": [
        "analysis_df.loc[analysis_df['Статус']=='Выдано']"
      ],
      "metadata": {
        "colab": {
          "base_uri": "https://localhost:8080/",
          "height": 191
        },
        "id": "pQ2CIjSX82_J",
        "outputId": "c4b69866-a71c-4ee2-fe66-be4597161bf0"
      },
      "execution_count": null,
      "outputs": [
        {
          "output_type": "execute_result",
          "data": {
            "text/plain": [
              "    Статус   amount credit_term_id education_id  gender  village  Адыгея  \\\n",
              "22  Выдано  3700000             24           30       0      0.0     0.0   \n",
              "\n",
              "    Алтайский_край  Астраханская_область  Башкортостан  ...  \\\n",
              "22             0.0                   0.0           0.0  ...   \n",
              "\n",
              "    Челябинская_область  Чечня  Чувашия  Ямало-Ненецкий_АО  \\\n",
              "22                  0.0    0.0      0.0                0.0   \n",
              "\n",
              "    Ярославская_область  years_old  type_of_employment_employ  \\\n",
              "22                  0.0       41.0                          1   \n",
              "\n",
              "    type_of_employment_own-business  type_of_employment_pensioner  \\\n",
              "22                                0                             0   \n",
              "\n",
              "    type_of_employment_unemployed  \n",
              "22                              0  \n",
              "\n",
              "[1 rows x 67 columns]"
            ],
            "text/html": [
              "\n",
              "  <div id=\"df-6d56c4b5-ed43-4978-9401-948c732279de\">\n",
              "    <div class=\"colab-df-container\">\n",
              "      <div>\n",
              "<style scoped>\n",
              "    .dataframe tbody tr th:only-of-type {\n",
              "        vertical-align: middle;\n",
              "    }\n",
              "\n",
              "    .dataframe tbody tr th {\n",
              "        vertical-align: top;\n",
              "    }\n",
              "\n",
              "    .dataframe thead th {\n",
              "        text-align: right;\n",
              "    }\n",
              "</style>\n",
              "<table border=\"1\" class=\"dataframe\">\n",
              "  <thead>\n",
              "    <tr style=\"text-align: right;\">\n",
              "      <th></th>\n",
              "      <th>Статус</th>\n",
              "      <th>amount</th>\n",
              "      <th>credit_term_id</th>\n",
              "      <th>education_id</th>\n",
              "      <th>gender</th>\n",
              "      <th>village</th>\n",
              "      <th>Адыгея</th>\n",
              "      <th>Алтайский_край</th>\n",
              "      <th>Астраханская_область</th>\n",
              "      <th>Башкортостан</th>\n",
              "      <th>...</th>\n",
              "      <th>Челябинская_область</th>\n",
              "      <th>Чечня</th>\n",
              "      <th>Чувашия</th>\n",
              "      <th>Ямало-Ненецкий_АО</th>\n",
              "      <th>Ярославская_область</th>\n",
              "      <th>years_old</th>\n",
              "      <th>type_of_employment_employ</th>\n",
              "      <th>type_of_employment_own-business</th>\n",
              "      <th>type_of_employment_pensioner</th>\n",
              "      <th>type_of_employment_unemployed</th>\n",
              "    </tr>\n",
              "  </thead>\n",
              "  <tbody>\n",
              "    <tr>\n",
              "      <th>22</th>\n",
              "      <td>Выдано</td>\n",
              "      <td>3700000</td>\n",
              "      <td>24</td>\n",
              "      <td>30</td>\n",
              "      <td>0</td>\n",
              "      <td>0.0</td>\n",
              "      <td>0.0</td>\n",
              "      <td>0.0</td>\n",
              "      <td>0.0</td>\n",
              "      <td>0.0</td>\n",
              "      <td>...</td>\n",
              "      <td>0.0</td>\n",
              "      <td>0.0</td>\n",
              "      <td>0.0</td>\n",
              "      <td>0.0</td>\n",
              "      <td>0.0</td>\n",
              "      <td>41.0</td>\n",
              "      <td>1</td>\n",
              "      <td>0</td>\n",
              "      <td>0</td>\n",
              "      <td>0</td>\n",
              "    </tr>\n",
              "  </tbody>\n",
              "</table>\n",
              "<p>1 rows × 67 columns</p>\n",
              "</div>\n",
              "      <button class=\"colab-df-convert\" onclick=\"convertToInteractive('df-6d56c4b5-ed43-4978-9401-948c732279de')\"\n",
              "              title=\"Convert this dataframe to an interactive table.\"\n",
              "              style=\"display:none;\">\n",
              "        \n",
              "  <svg xmlns=\"http://www.w3.org/2000/svg\" height=\"24px\"viewBox=\"0 0 24 24\"\n",
              "       width=\"24px\">\n",
              "    <path d=\"M0 0h24v24H0V0z\" fill=\"none\"/>\n",
              "    <path d=\"M18.56 5.44l.94 2.06.94-2.06 2.06-.94-2.06-.94-.94-2.06-.94 2.06-2.06.94zm-11 1L8.5 8.5l.94-2.06 2.06-.94-2.06-.94L8.5 2.5l-.94 2.06-2.06.94zm10 10l.94 2.06.94-2.06 2.06-.94-2.06-.94-.94-2.06-.94 2.06-2.06.94z\"/><path d=\"M17.41 7.96l-1.37-1.37c-.4-.4-.92-.59-1.43-.59-.52 0-1.04.2-1.43.59L10.3 9.45l-7.72 7.72c-.78.78-.78 2.05 0 2.83L4 21.41c.39.39.9.59 1.41.59.51 0 1.02-.2 1.41-.59l7.78-7.78 2.81-2.81c.8-.78.8-2.07 0-2.86zM5.41 20L4 18.59l7.72-7.72 1.47 1.35L5.41 20z\"/>\n",
              "  </svg>\n",
              "      </button>\n",
              "      \n",
              "  <style>\n",
              "    .colab-df-container {\n",
              "      display:flex;\n",
              "      flex-wrap:wrap;\n",
              "      gap: 12px;\n",
              "    }\n",
              "\n",
              "    .colab-df-convert {\n",
              "      background-color: #E8F0FE;\n",
              "      border: none;\n",
              "      border-radius: 50%;\n",
              "      cursor: pointer;\n",
              "      display: none;\n",
              "      fill: #1967D2;\n",
              "      height: 32px;\n",
              "      padding: 0 0 0 0;\n",
              "      width: 32px;\n",
              "    }\n",
              "\n",
              "    .colab-df-convert:hover {\n",
              "      background-color: #E2EBFA;\n",
              "      box-shadow: 0px 1px 2px rgba(60, 64, 67, 0.3), 0px 1px 3px 1px rgba(60, 64, 67, 0.15);\n",
              "      fill: #174EA6;\n",
              "    }\n",
              "\n",
              "    [theme=dark] .colab-df-convert {\n",
              "      background-color: #3B4455;\n",
              "      fill: #D2E3FC;\n",
              "    }\n",
              "\n",
              "    [theme=dark] .colab-df-convert:hover {\n",
              "      background-color: #434B5C;\n",
              "      box-shadow: 0px 1px 3px 1px rgba(0, 0, 0, 0.15);\n",
              "      filter: drop-shadow(0px 1px 2px rgba(0, 0, 0, 0.3));\n",
              "      fill: #FFFFFF;\n",
              "    }\n",
              "  </style>\n",
              "\n",
              "      <script>\n",
              "        const buttonEl =\n",
              "          document.querySelector('#df-6d56c4b5-ed43-4978-9401-948c732279de button.colab-df-convert');\n",
              "        buttonEl.style.display =\n",
              "          google.colab.kernel.accessAllowed ? 'block' : 'none';\n",
              "\n",
              "        async function convertToInteractive(key) {\n",
              "          const element = document.querySelector('#df-6d56c4b5-ed43-4978-9401-948c732279de');\n",
              "          const dataTable =\n",
              "            await google.colab.kernel.invokeFunction('convertToInteractive',\n",
              "                                                     [key], {});\n",
              "          if (!dataTable) return;\n",
              "\n",
              "          const docLinkHtml = 'Like what you see? Visit the ' +\n",
              "            '<a target=\"_blank\" href=https://colab.research.google.com/notebooks/data_table.ipynb>data table notebook</a>'\n",
              "            + ' to learn more about interactive tables.';\n",
              "          element.innerHTML = '';\n",
              "          dataTable['output_type'] = 'display_data';\n",
              "          await google.colab.output.renderOutput(dataTable, element);\n",
              "          const docLink = document.createElement('div');\n",
              "          docLink.innerHTML = docLinkHtml;\n",
              "          element.appendChild(docLink);\n",
              "        }\n",
              "      </script>\n",
              "    </div>\n",
              "  </div>\n",
              "  "
            ]
          },
          "metadata": {},
          "execution_count": 49
        }
      ]
    },
    {
      "cell_type": "markdown",
      "source": [
        "Переменную статуса выберем бинарную 0 - в случае отказа, 1 - в случае одобрения и выдачи кредита\n",
        "Так, одобрение - это статусы \"Предварительно одобрено\" и \"Выдано, Отказ - \"Отказ, а статус \"Заявка принята\" и \"Обработка завершена\" будут тестовыми выборками"
      ],
      "metadata": {
        "id": "xsLy18OzoYe2"
      }
    },
    {
      "cell_type": "code",
      "source": [
        "analysis_df['Статус'].unique()"
      ],
      "metadata": {
        "colab": {
          "base_uri": "https://localhost:8080/"
        },
        "id": "lLyEmwLpe4F1",
        "outputId": "a60167ea-f168-43fb-e570-a7453dd5e9ab"
      },
      "execution_count": null,
      "outputs": [
        {
          "output_type": "execute_result",
          "data": {
            "text/plain": [
              "array(['Отказ', 'Предварительно одобрено', 'Обработка завершена',\n",
              "       'Выдано', 'Заявка принята'], dtype=object)"
            ]
          },
          "metadata": {},
          "execution_count": 50
        }
      ]
    },
    {
      "cell_type": "code",
      "source": [
        "X_test = analysis_df.loc[(analysis_df['Статус']=='Заявка принята') | (analysis_df['Статус']=='Обработка завершена')].copy()\n",
        "X_test = X_test.drop(columns = 'Статус', axis=1)\n",
        "X_test.head()"
      ],
      "metadata": {
        "colab": {
          "base_uri": "https://localhost:8080/",
          "height": 317
        },
        "id": "FmrJto4j6mjY",
        "outputId": "21bcbdca-3e9e-4adc-b5b3-907875a96092"
      },
      "execution_count": null,
      "outputs": [
        {
          "output_type": "execute_result",
          "data": {
            "text/plain": [
              "     amount credit_term_id education_id  gender  village  Адыгея  \\\n",
              "10   250000             36           50       1      0.0     0.0   \n",
              "31  2500000             24           30       0      0.0     0.0   \n",
              "43   300000             24           30       0      0.0     0.0   \n",
              "58   320000             24           30       0      0.0     0.0   \n",
              "85   300000             36           30       1      1.0     0.0   \n",
              "\n",
              "    Алтайский_край  Астраханская_область  Башкортостан  Белгородская_область  \\\n",
              "10             0.0                   0.0           0.0                   0.0   \n",
              "31             0.0                   0.0           0.0                   0.0   \n",
              "43             0.0                   0.0           0.0                   0.0   \n",
              "58             0.0                   0.0           0.0                   0.0   \n",
              "85             0.0                   0.0           0.0                   0.0   \n",
              "\n",
              "    ...  Челябинская_область  Чечня  Чувашия  Ямало-Ненецкий_АО  \\\n",
              "10  ...                  0.0    0.0      0.0                0.0   \n",
              "31  ...                  0.0    0.0      0.0                0.0   \n",
              "43  ...                  0.0    0.0      0.0                0.0   \n",
              "58  ...                  0.0    0.0      0.0                0.0   \n",
              "85  ...                  0.0    0.0      0.0                0.0   \n",
              "\n",
              "    Ярославская_область  years_old  type_of_employment_employ  \\\n",
              "10                  0.0       24.0                          1   \n",
              "31                  0.0       46.0                          1   \n",
              "43                  0.0       29.0                          1   \n",
              "58                  0.0       44.0                          1   \n",
              "85                  0.0       56.0                          1   \n",
              "\n",
              "    type_of_employment_own-business  type_of_employment_pensioner  \\\n",
              "10                                0                             0   \n",
              "31                                0                             0   \n",
              "43                                0                             0   \n",
              "58                                0                             0   \n",
              "85                                0                             0   \n",
              "\n",
              "    type_of_employment_unemployed  \n",
              "10                              0  \n",
              "31                              0  \n",
              "43                              0  \n",
              "58                              0  \n",
              "85                              0  \n",
              "\n",
              "[5 rows x 66 columns]"
            ],
            "text/html": [
              "\n",
              "  <div id=\"df-f430029e-68c2-4b15-b40a-fe94bfd438a3\">\n",
              "    <div class=\"colab-df-container\">\n",
              "      <div>\n",
              "<style scoped>\n",
              "    .dataframe tbody tr th:only-of-type {\n",
              "        vertical-align: middle;\n",
              "    }\n",
              "\n",
              "    .dataframe tbody tr th {\n",
              "        vertical-align: top;\n",
              "    }\n",
              "\n",
              "    .dataframe thead th {\n",
              "        text-align: right;\n",
              "    }\n",
              "</style>\n",
              "<table border=\"1\" class=\"dataframe\">\n",
              "  <thead>\n",
              "    <tr style=\"text-align: right;\">\n",
              "      <th></th>\n",
              "      <th>amount</th>\n",
              "      <th>credit_term_id</th>\n",
              "      <th>education_id</th>\n",
              "      <th>gender</th>\n",
              "      <th>village</th>\n",
              "      <th>Адыгея</th>\n",
              "      <th>Алтайский_край</th>\n",
              "      <th>Астраханская_область</th>\n",
              "      <th>Башкортостан</th>\n",
              "      <th>Белгородская_область</th>\n",
              "      <th>...</th>\n",
              "      <th>Челябинская_область</th>\n",
              "      <th>Чечня</th>\n",
              "      <th>Чувашия</th>\n",
              "      <th>Ямало-Ненецкий_АО</th>\n",
              "      <th>Ярославская_область</th>\n",
              "      <th>years_old</th>\n",
              "      <th>type_of_employment_employ</th>\n",
              "      <th>type_of_employment_own-business</th>\n",
              "      <th>type_of_employment_pensioner</th>\n",
              "      <th>type_of_employment_unemployed</th>\n",
              "    </tr>\n",
              "  </thead>\n",
              "  <tbody>\n",
              "    <tr>\n",
              "      <th>10</th>\n",
              "      <td>250000</td>\n",
              "      <td>36</td>\n",
              "      <td>50</td>\n",
              "      <td>1</td>\n",
              "      <td>0.0</td>\n",
              "      <td>0.0</td>\n",
              "      <td>0.0</td>\n",
              "      <td>0.0</td>\n",
              "      <td>0.0</td>\n",
              "      <td>0.0</td>\n",
              "      <td>...</td>\n",
              "      <td>0.0</td>\n",
              "      <td>0.0</td>\n",
              "      <td>0.0</td>\n",
              "      <td>0.0</td>\n",
              "      <td>0.0</td>\n",
              "      <td>24.0</td>\n",
              "      <td>1</td>\n",
              "      <td>0</td>\n",
              "      <td>0</td>\n",
              "      <td>0</td>\n",
              "    </tr>\n",
              "    <tr>\n",
              "      <th>31</th>\n",
              "      <td>2500000</td>\n",
              "      <td>24</td>\n",
              "      <td>30</td>\n",
              "      <td>0</td>\n",
              "      <td>0.0</td>\n",
              "      <td>0.0</td>\n",
              "      <td>0.0</td>\n",
              "      <td>0.0</td>\n",
              "      <td>0.0</td>\n",
              "      <td>0.0</td>\n",
              "      <td>...</td>\n",
              "      <td>0.0</td>\n",
              "      <td>0.0</td>\n",
              "      <td>0.0</td>\n",
              "      <td>0.0</td>\n",
              "      <td>0.0</td>\n",
              "      <td>46.0</td>\n",
              "      <td>1</td>\n",
              "      <td>0</td>\n",
              "      <td>0</td>\n",
              "      <td>0</td>\n",
              "    </tr>\n",
              "    <tr>\n",
              "      <th>43</th>\n",
              "      <td>300000</td>\n",
              "      <td>24</td>\n",
              "      <td>30</td>\n",
              "      <td>0</td>\n",
              "      <td>0.0</td>\n",
              "      <td>0.0</td>\n",
              "      <td>0.0</td>\n",
              "      <td>0.0</td>\n",
              "      <td>0.0</td>\n",
              "      <td>0.0</td>\n",
              "      <td>...</td>\n",
              "      <td>0.0</td>\n",
              "      <td>0.0</td>\n",
              "      <td>0.0</td>\n",
              "      <td>0.0</td>\n",
              "      <td>0.0</td>\n",
              "      <td>29.0</td>\n",
              "      <td>1</td>\n",
              "      <td>0</td>\n",
              "      <td>0</td>\n",
              "      <td>0</td>\n",
              "    </tr>\n",
              "    <tr>\n",
              "      <th>58</th>\n",
              "      <td>320000</td>\n",
              "      <td>24</td>\n",
              "      <td>30</td>\n",
              "      <td>0</td>\n",
              "      <td>0.0</td>\n",
              "      <td>0.0</td>\n",
              "      <td>0.0</td>\n",
              "      <td>0.0</td>\n",
              "      <td>0.0</td>\n",
              "      <td>0.0</td>\n",
              "      <td>...</td>\n",
              "      <td>0.0</td>\n",
              "      <td>0.0</td>\n",
              "      <td>0.0</td>\n",
              "      <td>0.0</td>\n",
              "      <td>0.0</td>\n",
              "      <td>44.0</td>\n",
              "      <td>1</td>\n",
              "      <td>0</td>\n",
              "      <td>0</td>\n",
              "      <td>0</td>\n",
              "    </tr>\n",
              "    <tr>\n",
              "      <th>85</th>\n",
              "      <td>300000</td>\n",
              "      <td>36</td>\n",
              "      <td>30</td>\n",
              "      <td>1</td>\n",
              "      <td>1.0</td>\n",
              "      <td>0.0</td>\n",
              "      <td>0.0</td>\n",
              "      <td>0.0</td>\n",
              "      <td>0.0</td>\n",
              "      <td>0.0</td>\n",
              "      <td>...</td>\n",
              "      <td>0.0</td>\n",
              "      <td>0.0</td>\n",
              "      <td>0.0</td>\n",
              "      <td>0.0</td>\n",
              "      <td>0.0</td>\n",
              "      <td>56.0</td>\n",
              "      <td>1</td>\n",
              "      <td>0</td>\n",
              "      <td>0</td>\n",
              "      <td>0</td>\n",
              "    </tr>\n",
              "  </tbody>\n",
              "</table>\n",
              "<p>5 rows × 66 columns</p>\n",
              "</div>\n",
              "      <button class=\"colab-df-convert\" onclick=\"convertToInteractive('df-f430029e-68c2-4b15-b40a-fe94bfd438a3')\"\n",
              "              title=\"Convert this dataframe to an interactive table.\"\n",
              "              style=\"display:none;\">\n",
              "        \n",
              "  <svg xmlns=\"http://www.w3.org/2000/svg\" height=\"24px\"viewBox=\"0 0 24 24\"\n",
              "       width=\"24px\">\n",
              "    <path d=\"M0 0h24v24H0V0z\" fill=\"none\"/>\n",
              "    <path d=\"M18.56 5.44l.94 2.06.94-2.06 2.06-.94-2.06-.94-.94-2.06-.94 2.06-2.06.94zm-11 1L8.5 8.5l.94-2.06 2.06-.94-2.06-.94L8.5 2.5l-.94 2.06-2.06.94zm10 10l.94 2.06.94-2.06 2.06-.94-2.06-.94-.94-2.06-.94 2.06-2.06.94z\"/><path d=\"M17.41 7.96l-1.37-1.37c-.4-.4-.92-.59-1.43-.59-.52 0-1.04.2-1.43.59L10.3 9.45l-7.72 7.72c-.78.78-.78 2.05 0 2.83L4 21.41c.39.39.9.59 1.41.59.51 0 1.02-.2 1.41-.59l7.78-7.78 2.81-2.81c.8-.78.8-2.07 0-2.86zM5.41 20L4 18.59l7.72-7.72 1.47 1.35L5.41 20z\"/>\n",
              "  </svg>\n",
              "      </button>\n",
              "      \n",
              "  <style>\n",
              "    .colab-df-container {\n",
              "      display:flex;\n",
              "      flex-wrap:wrap;\n",
              "      gap: 12px;\n",
              "    }\n",
              "\n",
              "    .colab-df-convert {\n",
              "      background-color: #E8F0FE;\n",
              "      border: none;\n",
              "      border-radius: 50%;\n",
              "      cursor: pointer;\n",
              "      display: none;\n",
              "      fill: #1967D2;\n",
              "      height: 32px;\n",
              "      padding: 0 0 0 0;\n",
              "      width: 32px;\n",
              "    }\n",
              "\n",
              "    .colab-df-convert:hover {\n",
              "      background-color: #E2EBFA;\n",
              "      box-shadow: 0px 1px 2px rgba(60, 64, 67, 0.3), 0px 1px 3px 1px rgba(60, 64, 67, 0.15);\n",
              "      fill: #174EA6;\n",
              "    }\n",
              "\n",
              "    [theme=dark] .colab-df-convert {\n",
              "      background-color: #3B4455;\n",
              "      fill: #D2E3FC;\n",
              "    }\n",
              "\n",
              "    [theme=dark] .colab-df-convert:hover {\n",
              "      background-color: #434B5C;\n",
              "      box-shadow: 0px 1px 3px 1px rgba(0, 0, 0, 0.15);\n",
              "      filter: drop-shadow(0px 1px 2px rgba(0, 0, 0, 0.3));\n",
              "      fill: #FFFFFF;\n",
              "    }\n",
              "  </style>\n",
              "\n",
              "      <script>\n",
              "        const buttonEl =\n",
              "          document.querySelector('#df-f430029e-68c2-4b15-b40a-fe94bfd438a3 button.colab-df-convert');\n",
              "        buttonEl.style.display =\n",
              "          google.colab.kernel.accessAllowed ? 'block' : 'none';\n",
              "\n",
              "        async function convertToInteractive(key) {\n",
              "          const element = document.querySelector('#df-f430029e-68c2-4b15-b40a-fe94bfd438a3');\n",
              "          const dataTable =\n",
              "            await google.colab.kernel.invokeFunction('convertToInteractive',\n",
              "                                                     [key], {});\n",
              "          if (!dataTable) return;\n",
              "\n",
              "          const docLinkHtml = 'Like what you see? Visit the ' +\n",
              "            '<a target=\"_blank\" href=https://colab.research.google.com/notebooks/data_table.ipynb>data table notebook</a>'\n",
              "            + ' to learn more about interactive tables.';\n",
              "          element.innerHTML = '';\n",
              "          dataTable['output_type'] = 'display_data';\n",
              "          await google.colab.output.renderOutput(dataTable, element);\n",
              "          const docLink = document.createElement('div');\n",
              "          docLink.innerHTML = docLinkHtml;\n",
              "          element.appendChild(docLink);\n",
              "        }\n",
              "      </script>\n",
              "    </div>\n",
              "  </div>\n",
              "  "
            ]
          },
          "metadata": {},
          "execution_count": 51
        }
      ]
    },
    {
      "cell_type": "code",
      "source": [
        "X_train = analysis_df.loc[(analysis_df['Статус'] == 'Отказ') | (analysis_df['Статус'] == 'Предварительно одобрено') | (analysis_df['Статус'] == 'Выдано')]\n",
        "status_dict = {'Отказ' : 0, 'Предварительно одобрено' : 1,  'Выдано' : 1}\n",
        "X_train['status'] = X_train['Статус'].apply(lambda x: status_dict[x])\n",
        "y_train = X_train['status'].copy()\n",
        "X_train = X_train.drop(columns = ['status', 'Статус'], axis=1)"
      ],
      "metadata": {
        "id": "fta8cfNaowLn",
        "colab": {
          "base_uri": "https://localhost:8080/"
        },
        "outputId": "bf6a816f-3067-4079-bcbd-21db85db8e10"
      },
      "execution_count": null,
      "outputs": [
        {
          "output_type": "stream",
          "name": "stderr",
          "text": [
            "<ipython-input-52-1d99c0aa369a>:3: SettingWithCopyWarning: \n",
            "A value is trying to be set on a copy of a slice from a DataFrame.\n",
            "Try using .loc[row_indexer,col_indexer] = value instead\n",
            "\n",
            "See the caveats in the documentation: https://pandas.pydata.org/pandas-docs/stable/user_guide/indexing.html#returning-a-view-versus-a-copy\n",
            "  X_train['status'] = X_train['Статус'].apply(lambda x: status_dict[x])\n"
          ]
        }
      ]
    },
    {
      "cell_type": "markdown",
      "source": [
        "Далее построим модель классификации заявок, используя возможности логистической регрессии"
      ],
      "metadata": {
        "id": "f9Zi0VAfxFIu"
      }
    },
    {
      "cell_type": "code",
      "source": [
        "X_train = X_train.astype('int64')\n",
        "y_train = y_train.astype('int64')\n",
        "X_test = X_test.astype('int64')"
      ],
      "metadata": {
        "id": "_LcuNpRlAAl1"
      },
      "execution_count": null,
      "outputs": []
    },
    {
      "cell_type": "code",
      "source": [
        "X_train"
      ],
      "metadata": {
        "colab": {
          "base_uri": "https://localhost:8080/",
          "height": 505
        },
        "id": "BjmZw2xJB9I7",
        "outputId": "b12abba4-1797-4fc3-e498-26eab43afb32"
      },
      "execution_count": null,
      "outputs": [
        {
          "output_type": "execute_result",
          "data": {
            "text/plain": [
              "      amount  credit_term_id  education_id  gender  village  Адыгея  \\\n",
              "0     200000              36            40       1        0       0   \n",
              "1     150000              36            30       1        0       0   \n",
              "2    5000000              84            30       1        0       0   \n",
              "3     200000              60            30       0        1       0   \n",
              "4     300000              36            30       0        0       0   \n",
              "..       ...             ...           ...     ...      ...     ...   \n",
              "495   510000              24            30       0        0       0   \n",
              "496   300000              24            30       1        0       0   \n",
              "497  2000000              24            30       1        0       0   \n",
              "499   200000              36            30       1        1       0   \n",
              "501   300000              36            50       1        1       0   \n",
              "\n",
              "     Алтайский_край  Астраханская_область  Башкортостан  Белгородская_область  \\\n",
              "0                 0                     0             0                     0   \n",
              "1                 0                     0             0                     0   \n",
              "2                 0                     0             0                     0   \n",
              "3                 0                     0             0                     0   \n",
              "4                 0                     0             1                     0   \n",
              "..              ...                   ...           ...                   ...   \n",
              "495               0                     0             0                     0   \n",
              "496               0                     0             0                     0   \n",
              "497               0                     0             0                     0   \n",
              "499               0                     0             0                     0   \n",
              "501               0                     0             0                     0   \n",
              "\n",
              "     ...  Челябинская_область  Чечня  Чувашия  Ямало-Ненецкий_АО  \\\n",
              "0    ...                    0      0        0                  0   \n",
              "1    ...                    0      0        0                  0   \n",
              "2    ...                    0      0        0                  0   \n",
              "3    ...                    0      0        0                  0   \n",
              "4    ...                    0      0        0                  0   \n",
              "..   ...                  ...    ...      ...                ...   \n",
              "495  ...                    0      0        0                  0   \n",
              "496  ...                    0      0        0                  0   \n",
              "497  ...                    0      0        0                  0   \n",
              "499  ...                    0      0        0                  0   \n",
              "501  ...                    0      0        0                  0   \n",
              "\n",
              "     Ярославская_область  years_old  type_of_employment_employ  \\\n",
              "0                      0         25                          0   \n",
              "1                      0         56                          1   \n",
              "2                      0         45                          1   \n",
              "3                      0         27                          1   \n",
              "4                      0         38                          1   \n",
              "..                   ...        ...                        ...   \n",
              "495                    0         36                          1   \n",
              "496                    0         46                          1   \n",
              "497                    0         46                          1   \n",
              "499                    0         52                          1   \n",
              "501                    0         46                          1   \n",
              "\n",
              "     type_of_employment_own-business  type_of_employment_pensioner  \\\n",
              "0                                  0                             0   \n",
              "1                                  0                             0   \n",
              "2                                  0                             0   \n",
              "3                                  0                             0   \n",
              "4                                  0                             0   \n",
              "..                               ...                           ...   \n",
              "495                                0                             0   \n",
              "496                                0                             0   \n",
              "497                                0                             0   \n",
              "499                                0                             0   \n",
              "501                                0                             0   \n",
              "\n",
              "     type_of_employment_unemployed  \n",
              "0                                1  \n",
              "1                                0  \n",
              "2                                0  \n",
              "3                                0  \n",
              "4                                0  \n",
              "..                             ...  \n",
              "495                              0  \n",
              "496                              0  \n",
              "497                              0  \n",
              "499                              0  \n",
              "501                              0  \n",
              "\n",
              "[468 rows x 66 columns]"
            ],
            "text/html": [
              "\n",
              "  <div id=\"df-a3c7da1d-bab3-4644-83fe-73403cdca01c\">\n",
              "    <div class=\"colab-df-container\">\n",
              "      <div>\n",
              "<style scoped>\n",
              "    .dataframe tbody tr th:only-of-type {\n",
              "        vertical-align: middle;\n",
              "    }\n",
              "\n",
              "    .dataframe tbody tr th {\n",
              "        vertical-align: top;\n",
              "    }\n",
              "\n",
              "    .dataframe thead th {\n",
              "        text-align: right;\n",
              "    }\n",
              "</style>\n",
              "<table border=\"1\" class=\"dataframe\">\n",
              "  <thead>\n",
              "    <tr style=\"text-align: right;\">\n",
              "      <th></th>\n",
              "      <th>amount</th>\n",
              "      <th>credit_term_id</th>\n",
              "      <th>education_id</th>\n",
              "      <th>gender</th>\n",
              "      <th>village</th>\n",
              "      <th>Адыгея</th>\n",
              "      <th>Алтайский_край</th>\n",
              "      <th>Астраханская_область</th>\n",
              "      <th>Башкортостан</th>\n",
              "      <th>Белгородская_область</th>\n",
              "      <th>...</th>\n",
              "      <th>Челябинская_область</th>\n",
              "      <th>Чечня</th>\n",
              "      <th>Чувашия</th>\n",
              "      <th>Ямало-Ненецкий_АО</th>\n",
              "      <th>Ярославская_область</th>\n",
              "      <th>years_old</th>\n",
              "      <th>type_of_employment_employ</th>\n",
              "      <th>type_of_employment_own-business</th>\n",
              "      <th>type_of_employment_pensioner</th>\n",
              "      <th>type_of_employment_unemployed</th>\n",
              "    </tr>\n",
              "  </thead>\n",
              "  <tbody>\n",
              "    <tr>\n",
              "      <th>0</th>\n",
              "      <td>200000</td>\n",
              "      <td>36</td>\n",
              "      <td>40</td>\n",
              "      <td>1</td>\n",
              "      <td>0</td>\n",
              "      <td>0</td>\n",
              "      <td>0</td>\n",
              "      <td>0</td>\n",
              "      <td>0</td>\n",
              "      <td>0</td>\n",
              "      <td>...</td>\n",
              "      <td>0</td>\n",
              "      <td>0</td>\n",
              "      <td>0</td>\n",
              "      <td>0</td>\n",
              "      <td>0</td>\n",
              "      <td>25</td>\n",
              "      <td>0</td>\n",
              "      <td>0</td>\n",
              "      <td>0</td>\n",
              "      <td>1</td>\n",
              "    </tr>\n",
              "    <tr>\n",
              "      <th>1</th>\n",
              "      <td>150000</td>\n",
              "      <td>36</td>\n",
              "      <td>30</td>\n",
              "      <td>1</td>\n",
              "      <td>0</td>\n",
              "      <td>0</td>\n",
              "      <td>0</td>\n",
              "      <td>0</td>\n",
              "      <td>0</td>\n",
              "      <td>0</td>\n",
              "      <td>...</td>\n",
              "      <td>0</td>\n",
              "      <td>0</td>\n",
              "      <td>0</td>\n",
              "      <td>0</td>\n",
              "      <td>0</td>\n",
              "      <td>56</td>\n",
              "      <td>1</td>\n",
              "      <td>0</td>\n",
              "      <td>0</td>\n",
              "      <td>0</td>\n",
              "    </tr>\n",
              "    <tr>\n",
              "      <th>2</th>\n",
              "      <td>5000000</td>\n",
              "      <td>84</td>\n",
              "      <td>30</td>\n",
              "      <td>1</td>\n",
              "      <td>0</td>\n",
              "      <td>0</td>\n",
              "      <td>0</td>\n",
              "      <td>0</td>\n",
              "      <td>0</td>\n",
              "      <td>0</td>\n",
              "      <td>...</td>\n",
              "      <td>0</td>\n",
              "      <td>0</td>\n",
              "      <td>0</td>\n",
              "      <td>0</td>\n",
              "      <td>0</td>\n",
              "      <td>45</td>\n",
              "      <td>1</td>\n",
              "      <td>0</td>\n",
              "      <td>0</td>\n",
              "      <td>0</td>\n",
              "    </tr>\n",
              "    <tr>\n",
              "      <th>3</th>\n",
              "      <td>200000</td>\n",
              "      <td>60</td>\n",
              "      <td>30</td>\n",
              "      <td>0</td>\n",
              "      <td>1</td>\n",
              "      <td>0</td>\n",
              "      <td>0</td>\n",
              "      <td>0</td>\n",
              "      <td>0</td>\n",
              "      <td>0</td>\n",
              "      <td>...</td>\n",
              "      <td>0</td>\n",
              "      <td>0</td>\n",
              "      <td>0</td>\n",
              "      <td>0</td>\n",
              "      <td>0</td>\n",
              "      <td>27</td>\n",
              "      <td>1</td>\n",
              "      <td>0</td>\n",
              "      <td>0</td>\n",
              "      <td>0</td>\n",
              "    </tr>\n",
              "    <tr>\n",
              "      <th>4</th>\n",
              "      <td>300000</td>\n",
              "      <td>36</td>\n",
              "      <td>30</td>\n",
              "      <td>0</td>\n",
              "      <td>0</td>\n",
              "      <td>0</td>\n",
              "      <td>0</td>\n",
              "      <td>0</td>\n",
              "      <td>1</td>\n",
              "      <td>0</td>\n",
              "      <td>...</td>\n",
              "      <td>0</td>\n",
              "      <td>0</td>\n",
              "      <td>0</td>\n",
              "      <td>0</td>\n",
              "      <td>0</td>\n",
              "      <td>38</td>\n",
              "      <td>1</td>\n",
              "      <td>0</td>\n",
              "      <td>0</td>\n",
              "      <td>0</td>\n",
              "    </tr>\n",
              "    <tr>\n",
              "      <th>...</th>\n",
              "      <td>...</td>\n",
              "      <td>...</td>\n",
              "      <td>...</td>\n",
              "      <td>...</td>\n",
              "      <td>...</td>\n",
              "      <td>...</td>\n",
              "      <td>...</td>\n",
              "      <td>...</td>\n",
              "      <td>...</td>\n",
              "      <td>...</td>\n",
              "      <td>...</td>\n",
              "      <td>...</td>\n",
              "      <td>...</td>\n",
              "      <td>...</td>\n",
              "      <td>...</td>\n",
              "      <td>...</td>\n",
              "      <td>...</td>\n",
              "      <td>...</td>\n",
              "      <td>...</td>\n",
              "      <td>...</td>\n",
              "      <td>...</td>\n",
              "    </tr>\n",
              "    <tr>\n",
              "      <th>495</th>\n",
              "      <td>510000</td>\n",
              "      <td>24</td>\n",
              "      <td>30</td>\n",
              "      <td>0</td>\n",
              "      <td>0</td>\n",
              "      <td>0</td>\n",
              "      <td>0</td>\n",
              "      <td>0</td>\n",
              "      <td>0</td>\n",
              "      <td>0</td>\n",
              "      <td>...</td>\n",
              "      <td>0</td>\n",
              "      <td>0</td>\n",
              "      <td>0</td>\n",
              "      <td>0</td>\n",
              "      <td>0</td>\n",
              "      <td>36</td>\n",
              "      <td>1</td>\n",
              "      <td>0</td>\n",
              "      <td>0</td>\n",
              "      <td>0</td>\n",
              "    </tr>\n",
              "    <tr>\n",
              "      <th>496</th>\n",
              "      <td>300000</td>\n",
              "      <td>24</td>\n",
              "      <td>30</td>\n",
              "      <td>1</td>\n",
              "      <td>0</td>\n",
              "      <td>0</td>\n",
              "      <td>0</td>\n",
              "      <td>0</td>\n",
              "      <td>0</td>\n",
              "      <td>0</td>\n",
              "      <td>...</td>\n",
              "      <td>0</td>\n",
              "      <td>0</td>\n",
              "      <td>0</td>\n",
              "      <td>0</td>\n",
              "      <td>0</td>\n",
              "      <td>46</td>\n",
              "      <td>1</td>\n",
              "      <td>0</td>\n",
              "      <td>0</td>\n",
              "      <td>0</td>\n",
              "    </tr>\n",
              "    <tr>\n",
              "      <th>497</th>\n",
              "      <td>2000000</td>\n",
              "      <td>24</td>\n",
              "      <td>30</td>\n",
              "      <td>1</td>\n",
              "      <td>0</td>\n",
              "      <td>0</td>\n",
              "      <td>0</td>\n",
              "      <td>0</td>\n",
              "      <td>0</td>\n",
              "      <td>0</td>\n",
              "      <td>...</td>\n",
              "      <td>0</td>\n",
              "      <td>0</td>\n",
              "      <td>0</td>\n",
              "      <td>0</td>\n",
              "      <td>0</td>\n",
              "      <td>46</td>\n",
              "      <td>1</td>\n",
              "      <td>0</td>\n",
              "      <td>0</td>\n",
              "      <td>0</td>\n",
              "    </tr>\n",
              "    <tr>\n",
              "      <th>499</th>\n",
              "      <td>200000</td>\n",
              "      <td>36</td>\n",
              "      <td>30</td>\n",
              "      <td>1</td>\n",
              "      <td>1</td>\n",
              "      <td>0</td>\n",
              "      <td>0</td>\n",
              "      <td>0</td>\n",
              "      <td>0</td>\n",
              "      <td>0</td>\n",
              "      <td>...</td>\n",
              "      <td>0</td>\n",
              "      <td>0</td>\n",
              "      <td>0</td>\n",
              "      <td>0</td>\n",
              "      <td>0</td>\n",
              "      <td>52</td>\n",
              "      <td>1</td>\n",
              "      <td>0</td>\n",
              "      <td>0</td>\n",
              "      <td>0</td>\n",
              "    </tr>\n",
              "    <tr>\n",
              "      <th>501</th>\n",
              "      <td>300000</td>\n",
              "      <td>36</td>\n",
              "      <td>50</td>\n",
              "      <td>1</td>\n",
              "      <td>1</td>\n",
              "      <td>0</td>\n",
              "      <td>0</td>\n",
              "      <td>0</td>\n",
              "      <td>0</td>\n",
              "      <td>0</td>\n",
              "      <td>...</td>\n",
              "      <td>0</td>\n",
              "      <td>0</td>\n",
              "      <td>0</td>\n",
              "      <td>0</td>\n",
              "      <td>0</td>\n",
              "      <td>46</td>\n",
              "      <td>1</td>\n",
              "      <td>0</td>\n",
              "      <td>0</td>\n",
              "      <td>0</td>\n",
              "    </tr>\n",
              "  </tbody>\n",
              "</table>\n",
              "<p>468 rows × 66 columns</p>\n",
              "</div>\n",
              "      <button class=\"colab-df-convert\" onclick=\"convertToInteractive('df-a3c7da1d-bab3-4644-83fe-73403cdca01c')\"\n",
              "              title=\"Convert this dataframe to an interactive table.\"\n",
              "              style=\"display:none;\">\n",
              "        \n",
              "  <svg xmlns=\"http://www.w3.org/2000/svg\" height=\"24px\"viewBox=\"0 0 24 24\"\n",
              "       width=\"24px\">\n",
              "    <path d=\"M0 0h24v24H0V0z\" fill=\"none\"/>\n",
              "    <path d=\"M18.56 5.44l.94 2.06.94-2.06 2.06-.94-2.06-.94-.94-2.06-.94 2.06-2.06.94zm-11 1L8.5 8.5l.94-2.06 2.06-.94-2.06-.94L8.5 2.5l-.94 2.06-2.06.94zm10 10l.94 2.06.94-2.06 2.06-.94-2.06-.94-.94-2.06-.94 2.06-2.06.94z\"/><path d=\"M17.41 7.96l-1.37-1.37c-.4-.4-.92-.59-1.43-.59-.52 0-1.04.2-1.43.59L10.3 9.45l-7.72 7.72c-.78.78-.78 2.05 0 2.83L4 21.41c.39.39.9.59 1.41.59.51 0 1.02-.2 1.41-.59l7.78-7.78 2.81-2.81c.8-.78.8-2.07 0-2.86zM5.41 20L4 18.59l7.72-7.72 1.47 1.35L5.41 20z\"/>\n",
              "  </svg>\n",
              "      </button>\n",
              "      \n",
              "  <style>\n",
              "    .colab-df-container {\n",
              "      display:flex;\n",
              "      flex-wrap:wrap;\n",
              "      gap: 12px;\n",
              "    }\n",
              "\n",
              "    .colab-df-convert {\n",
              "      background-color: #E8F0FE;\n",
              "      border: none;\n",
              "      border-radius: 50%;\n",
              "      cursor: pointer;\n",
              "      display: none;\n",
              "      fill: #1967D2;\n",
              "      height: 32px;\n",
              "      padding: 0 0 0 0;\n",
              "      width: 32px;\n",
              "    }\n",
              "\n",
              "    .colab-df-convert:hover {\n",
              "      background-color: #E2EBFA;\n",
              "      box-shadow: 0px 1px 2px rgba(60, 64, 67, 0.3), 0px 1px 3px 1px rgba(60, 64, 67, 0.15);\n",
              "      fill: #174EA6;\n",
              "    }\n",
              "\n",
              "    [theme=dark] .colab-df-convert {\n",
              "      background-color: #3B4455;\n",
              "      fill: #D2E3FC;\n",
              "    }\n",
              "\n",
              "    [theme=dark] .colab-df-convert:hover {\n",
              "      background-color: #434B5C;\n",
              "      box-shadow: 0px 1px 3px 1px rgba(0, 0, 0, 0.15);\n",
              "      filter: drop-shadow(0px 1px 2px rgba(0, 0, 0, 0.3));\n",
              "      fill: #FFFFFF;\n",
              "    }\n",
              "  </style>\n",
              "\n",
              "      <script>\n",
              "        const buttonEl =\n",
              "          document.querySelector('#df-a3c7da1d-bab3-4644-83fe-73403cdca01c button.colab-df-convert');\n",
              "        buttonEl.style.display =\n",
              "          google.colab.kernel.accessAllowed ? 'block' : 'none';\n",
              "\n",
              "        async function convertToInteractive(key) {\n",
              "          const element = document.querySelector('#df-a3c7da1d-bab3-4644-83fe-73403cdca01c');\n",
              "          const dataTable =\n",
              "            await google.colab.kernel.invokeFunction('convertToInteractive',\n",
              "                                                     [key], {});\n",
              "          if (!dataTable) return;\n",
              "\n",
              "          const docLinkHtml = 'Like what you see? Visit the ' +\n",
              "            '<a target=\"_blank\" href=https://colab.research.google.com/notebooks/data_table.ipynb>data table notebook</a>'\n",
              "            + ' to learn more about interactive tables.';\n",
              "          element.innerHTML = '';\n",
              "          dataTable['output_type'] = 'display_data';\n",
              "          await google.colab.output.renderOutput(dataTable, element);\n",
              "          const docLink = document.createElement('div');\n",
              "          docLink.innerHTML = docLinkHtml;\n",
              "          element.appendChild(docLink);\n",
              "        }\n",
              "      </script>\n",
              "    </div>\n",
              "  </div>\n",
              "  "
            ]
          },
          "metadata": {},
          "execution_count": 54
        }
      ]
    },
    {
      "cell_type": "markdown",
      "source": [
        "Исходя из графика корреляций, предпочтительная будет модель с 9 признаками\n"
      ],
      "metadata": {
        "id": "F0lfdxWxBK9i"
      }
    },
    {
      "cell_type": "code",
      "source": [
        "X_train_5_feat= X_train.copy()[['amount', 'credit_term_id', 'education_id', 'gender', 'years_old']]\n",
        "X_train_9_feat = X_train.copy()[['amount', 'credit_term_id', 'education_id', 'gender', 'years_old', 'type_of_employment_employ',\n",
        "       'type_of_employment_own-business', 'type_of_employment_pensioner',\n",
        "       'type_of_employment_unemployed']]\n",
        "X_train_full = X_train.copy()\n",
        "\n",
        "data_train_5_feat = X_train_5_feat.copy().join(y_train)\n",
        "data_train_9_feat = X_train_9_feat.copy().join(y_train)\n",
        "data_train_full = X_train_full.copy().join(y_train)\n",
        "\n",
        "plt.figure(figsize=(10,10))\n",
        "sns.heatmap(data_train_9_feat.corr())"
      ],
      "metadata": {
        "colab": {
          "base_uri": "https://localhost:8080/",
          "height": 1000
        },
        "id": "p2Fu5ryez7Q2",
        "outputId": "551e5dd8-676a-4bbc-be14-c97e5e4ad6d8"
      },
      "execution_count": null,
      "outputs": [
        {
          "output_type": "execute_result",
          "data": {
            "text/plain": [
              "<Axes: >"
            ]
          },
          "metadata": {},
          "execution_count": 55
        },
        {
          "output_type": "display_data",
          "data": {
            "text/plain": [
              "<Figure size 1000x1000 with 2 Axes>"
            ],
            "image/png": "[encoded data removed]"
          },
          "metadata": {}
        }
      ]
    },
    {
      "cell_type": "markdown",
      "source": [
        "# Проверим баланс классов и при необходимости их сбалансируем"
      ],
      "metadata": {
        "id": "lU8ieK0H0HbL"
      }
    },
    {
      "cell_type": "code",
      "source": [
        " rat = len(data_train_9_feat.status)/sum(data_train_9_feat.status)"
      ],
      "metadata": {
        "id": "jL5ghPnayHBp"
      },
      "execution_count": null,
      "outputs": []
    },
    {
      "cell_type": "code",
      "source": [
        "balanced_data = pd.concat([data_train_9_feat.loc[data_train_9_feat.status==0], data_train_9_feat.loc[data_train_9_feat.status==1].loc[data_train_9_feat.loc[data_train_9_feat.status==1].index.repeat(rat)]] )"
      ],
      "metadata": {
        "id": "t49GEkdYym6x"
      },
      "execution_count": null,
      "outputs": []
    },
    {
      "cell_type": "code",
      "source": [
        "balanced_data.status.value_counts()"
      ],
      "metadata": {
        "colab": {
          "base_uri": "https://localhost:8080/"
        },
        "id": "MvAVv8u_zz4F",
        "outputId": "e8058648-732e-48eb-d414-9fc90c47a781"
      },
      "execution_count": null,
      "outputs": [
        {
          "output_type": "execute_result",
          "data": {
            "text/plain": [
              "1    440\n",
              "0    413\n",
              "Name: status, dtype: int64"
            ]
          },
          "metadata": {},
          "execution_count": 58
        }
      ]
    },
    {
      "cell_type": "code",
      "source": [
        "balanced_data = balanced_data.sample(frac=1).reset_index(drop=True)"
      ],
      "metadata": {
        "id": "OzSrY73lHGIm"
      },
      "execution_count": null,
      "outputs": []
    },
    {
      "cell_type": "code",
      "source": [
        "X_train_9_feat = balanced_data.copy().drop(columns = 'status', axis=1)\n",
        "y_train = balanced_data.copy()[['status']]"
      ],
      "metadata": {
        "id": "tBepTPWo0EqI"
      },
      "execution_count": null,
      "outputs": []
    },
    {
      "cell_type": "markdown",
      "source": [
        "Разделим тренировочную выборку еще на тренировочную и тестовую, чтобы максимизировать качество модели, а после предсказать на реаьлных данных X_test\n"
      ],
      "metadata": {
        "id": "K9EwPyM8ChSL"
      }
    },
    {
      "cell_type": "code",
      "source": [
        "from sklearn.model_selection import train_test_split\n",
        "X_tr, X_ts, y_tr, y_ts = train_test_split(X_train_9_feat, y_train, test_size = 0.4)"
      ],
      "metadata": {
        "id": "ga0_iCUYCtV-"
      },
      "execution_count": null,
      "outputs": []
    },
    {
      "cell_type": "code",
      "source": [
        "#from sklearn.preprocessing import StandardScaler\n",
        "#ss = StandardScaler()\n",
        "#X_tr_sc = X_tr.copy()\n",
        "#X_ts_sc = X_ts.copy()\n",
        "#X_tr_sc[['amount','credit_term_id',\t'education_id', 'years_old']] = ss.fit_transform(X_tr_sc[['amount','credit_term_id',\t'education_id', 'years_old']])\n",
        "#X_ts_sc[['amount','credit_term_id',\t'education_id', 'years_old']] = ss.transform(X_ts_sc[['amount','credit_term_id',\t'education_id', 'years_old']])\n",
        "#y_tr = np.array(y_tr)"
      ],
      "metadata": {
        "id": "MK9dL3HsEqwS"
      },
      "execution_count": null,
      "outputs": []
    },
    {
      "cell_type": "markdown",
      "source": [
        "# Построим модель классификации заявок, используя возможности \"Случайного леса\""
      ],
      "metadata": {
        "id": "lbtpI9IPPTte"
      }
    },
    {
      "cell_type": "code",
      "source": [
        "from sklearn.ensemble import RandomForestClassifier\n",
        "model1 = RandomForestClassifier()\n",
        "model1.fit(X_tr, y_tr)\n",
        "y_pred1 = model1.predict(X_ts)"
      ],
      "metadata": {
        "id": "0ozMbiEfOBHv",
        "colab": {
          "base_uri": "https://localhost:8080/"
        },
        "outputId": "105586c8-efa8-4bae-c6f6-2a1a208ecffa"
      },
      "execution_count": null,
      "outputs": [
        {
          "output_type": "stream",
          "name": "stderr",
          "text": [
            "<ipython-input-63-fcfd8bc9496d>:3: DataConversionWarning: A column-vector y was passed when a 1d array was expected. Please change the shape of y to (n_samples,), for example using ravel().\n",
            "  model1.fit(X_tr, y_tr)\n"
          ]
        }
      ]
    },
    {
      "cell_type": "code",
      "source": [
        "y_pred1"
      ],
      "metadata": {
        "colab": {
          "base_uri": "https://localhost:8080/"
        },
        "id": "ZS5lDt_mBZD2",
        "outputId": "ee8953fb-f0ad-427b-de03-8be1f3144753"
      },
      "execution_count": null,
      "outputs": [
        {
          "output_type": "execute_result",
          "data": {
            "text/plain": [
              "array([1, 1, 0, 0, 1, 1, 0, 1, 0, 0, 1, 1, 1, 1, 0, 1, 0, 0, 0, 0, 1, 0,\n",
              "       1, 1, 1, 0, 0, 1, 1, 1, 1, 1, 1, 1, 1, 1, 1, 0, 0, 1, 1, 1, 1, 0,\n",
              "       0, 1, 0, 1, 1, 0, 0, 1, 0, 0, 0, 1, 1, 1, 1, 0, 0, 0, 1, 1, 0, 0,\n",
              "       1, 1, 0, 1, 1, 1, 0, 1, 1, 0, 1, 0, 0, 0, 0, 1, 0, 1, 0, 0, 1, 0,\n",
              "       1, 0, 1, 1, 1, 0, 1, 0, 0, 0, 0, 1, 1, 1, 1, 0, 0, 1, 1, 0, 1, 1,\n",
              "       0, 0, 1, 1, 0, 0, 1, 1, 1, 0, 0, 1, 1, 1, 0, 1, 1, 1, 0, 1, 1, 0,\n",
              "       1, 1, 1, 0, 0, 1, 0, 1, 1, 0, 1, 0, 1, 1, 1, 1, 1, 1, 1, 1, 0, 0,\n",
              "       0, 1, 0, 1, 1, 1, 0, 1, 1, 1, 1, 1, 1, 0, 1, 0, 1, 1, 1, 1, 1, 1,\n",
              "       1, 1, 1, 1, 1, 1, 0, 0, 1, 1, 0, 0, 0, 1, 1, 1, 1, 0, 1, 1, 1, 0,\n",
              "       1, 0, 0, 0, 1, 1, 0, 1, 1, 1, 0, 0, 1, 0, 1, 1, 0, 1, 1, 0, 1, 1,\n",
              "       1, 1, 0, 0, 0, 1, 1, 0, 0, 0, 1, 0, 1, 1, 0, 1, 1, 1, 1, 0, 1, 1,\n",
              "       1, 1, 1, 1, 1, 0, 1, 1, 0, 0, 1, 1, 1, 1, 1, 1, 0, 0, 0, 1, 1, 1,\n",
              "       0, 1, 0, 0, 1, 0, 1, 0, 0, 1, 1, 0, 0, 1, 1, 0, 0, 1, 0, 0, 0, 0,\n",
              "       0, 0, 1, 1, 1, 1, 1, 1, 1, 1, 1, 1, 1, 0, 0, 0, 1, 0, 0, 1, 1, 1,\n",
              "       1, 1, 1, 1, 0, 1, 1, 0, 1, 1, 1, 1, 0, 1, 0, 1, 1, 1, 1, 0, 0, 0,\n",
              "       1, 0, 0, 1, 0, 1, 1, 1, 0, 1, 0, 0])"
            ]
          },
          "metadata": {},
          "execution_count": 64
        }
      ]
    },
    {
      "cell_type": "code",
      "source": [
        "from sklearn.metrics import precision_score, accuracy_score, recall_score\n",
        "accuracy_score(y_ts, y_pred1), precision_score(y_ts, y_pred1), recall_score(y_ts, y_pred1)"
      ],
      "metadata": {
        "colab": {
          "base_uri": "https://localhost:8080/"
        },
        "id": "x1VUSESkMHnx",
        "outputId": "b183e32b-91fc-41e2-dce4-2d3298820ff6"
      },
      "execution_count": null,
      "outputs": [
        {
          "output_type": "execute_result",
          "data": {
            "text/plain": [
              "(0.9210526315789473, 0.8701923076923077, 1.0)"
            ]
          },
          "metadata": {},
          "execution_count": 65
        }
      ]
    },
    {
      "cell_type": "code",
      "source": [
        "# from sklearn.decomposition import PCA\n",
        "# pca_test = PCA(n_components=9)\n",
        "# pca_test.fit(X_tr)\n",
        "# sns.set(style='whitegrid')\n",
        "# plt.plot(np.cumsum(pca_test.explained_variance_ratio_))\n",
        "# plt.xlabel('number of components')\n",
        "# plt.ylabel('cumulative explained variance')\n",
        "# plt.axvline(linewidth=4, color='r', linestyle = '--', x=10, ymin=0, ymax=1)\n",
        "# display(plt.show())\n",
        "# evr = pca_test.explained_variance_ratio_\n",
        "# cvr = np.cumsum(pca_test.explained_variance_ratio_)\n",
        "# pca_df = pd.DataFrame()\n",
        "# pca_df['Cumulative Variance Ratio'] = cvr\n",
        "# pca_df['Explained Variance Ratio'] = evr\n",
        "# display(pca_df.head(10))"
      ],
      "metadata": {
        "id": "W-6Ehw3VF5TX"
      },
      "execution_count": null,
      "outputs": []
    },
    {
      "cell_type": "code",
      "source": [
        "from sklearn.model_selection import GridSearchCV\n",
        "n_estimators = [5,10, 20, 30]\n",
        "max_depth = [5, 10]\n",
        "min_samples_split = [4,5, 10, 15]\n",
        "min_samples_leaf = [4,5, 10, 15]\n",
        "param_grid = {'n_estimators': n_estimators,\n",
        "               'max_depth': max_depth,\n",
        "               'min_samples_split': min_samples_split,\n",
        "               'min_samples_leaf': min_samples_leaf,\n",
        "              'criterion' : ['gini', 'entropy', 'log_loss']}\n",
        "gs = GridSearchCV(model1, param_grid, cv = 5, verbose = 1, n_jobs=-1)\n",
        "gs.fit(X_tr, y_tr)"
      ],
      "metadata": {
        "colab": {
          "base_uri": "https://localhost:8080/",
          "height": 192
        },
        "id": "oQrXNOnPG7VQ",
        "outputId": "2c9b7cc3-0855-4035-9e49-d48eefc3b9d1"
      },
      "execution_count": null,
      "outputs": [
        {
          "output_type": "stream",
          "name": "stdout",
          "text": [
            "Fitting 5 folds for each of 384 candidates, totalling 1920 fits\n"
          ]
        },
        {
          "output_type": "stream",
          "name": "stderr",
          "text": [
            "/usr/local/lib/python3.10/dist-packages/sklearn/model_selection/_search.py:909: DataConversionWarning: A column-vector y was passed when a 1d array was expected. Please change the shape of y to (n_samples,), for example using ravel().\n",
            "  self.best_estimator_.fit(X, y, **fit_params)\n"
          ]
        },
        {
          "output_type": "execute_result",
          "data": {
            "text/plain": [
              "GridSearchCV(cv=5, estimator=RandomForestClassifier(), n_jobs=-1,\n",
              "             param_grid={'criterion': ['gini', 'entropy', 'log_loss'],\n",
              "                         'max_depth': [5, 10],\n",
              "                         'min_samples_leaf': [4, 5, 10, 15],\n",
              "                         'min_samples_split': [4, 5, 10, 15],\n",
              "                         'n_estimators': [5, 10, 20, 30]},\n",
              "             verbose=1)"
            ],
            "text/html": [
              "<style>#sk-container-id-1 {color: black;background-color: white;}#sk-container-id-1 pre{padding: 0;}#sk-container-id-1 div.sk-toggleable {background-color: white;}#sk-container-id-1 label.sk-toggleable__label {cursor: pointer;display: block;width: 100%;margin-bottom: 0;padding: 0.3em;box-sizing: border-box;text-align: center;}#sk-container-id-1 label.sk-toggleable__label-arrow:before {content: \"▸\";float: left;margin-right: 0.25em;color: #696969;}#sk-container-id-1 label.sk-toggleable__label-arrow:hover:before {color: black;}#sk-container-id-1 div.sk-estimator:hover label.sk-toggleable__label-arrow:before {color: black;}#sk-container-id-1 div.sk-toggleable__content {max-height: 0;max-width: 0;overflow: hidden;text-align: left;background-color: #f0f8ff;}#sk-container-id-1 div.sk-toggleable__content pre {margin: 0.2em;color: black;border-radius: 0.25em;background-color: #f0f8ff;}#sk-container-id-1 input.sk-toggleable__control:checked~div.sk-toggleable__content {max-height: 200px;max-width: 100%;overflow: auto;}#sk-container-id-1 input.sk-toggleable__control:checked~label.sk-toggleable__label-arrow:before {content: \"▾\";}#sk-container-id-1 div.sk-estimator input.sk-toggleable__control:checked~label.sk-toggleable__label {background-color: #d4ebff;}#sk-container-id-1 div.sk-label input.sk-toggleable__control:checked~label.sk-toggleable__label {background-color: #d4ebff;}#sk-container-id-1 input.sk-hidden--visually {border: 0;clip: rect(1px 1px 1px 1px);clip: rect(1px, 1px, 1px, 1px);height: 1px;margin: -1px;overflow: hidden;padding: 0;position: absolute;width: 1px;}#sk-container-id-1 div.sk-estimator {font-family: monospace;background-color: #f0f8ff;border: 1px dotted black;border-radius: 0.25em;box-sizing: border-box;margin-bottom: 0.5em;}#sk-container-id-1 div.sk-estimator:hover {background-color: #d4ebff;}#sk-container-id-1 div.sk-parallel-item::after {content: \"\";width: 100%;border-bottom: 1px solid gray;flex-grow: 1;}#sk-container-id-1 div.sk-label:hover label.sk-toggleable__label {background-color: #d4ebff;}#sk-container-id-1 div.sk-serial::before {content: \"\";position: absolute;border-left: 1px solid gray;box-sizing: border-box;top: 0;bottom: 0;left: 50%;z-index: 0;}#sk-container-id-1 div.sk-serial {display: flex;flex-direction: column;align-items: center;background-color: white;padding-right: 0.2em;padding-left: 0.2em;position: relative;}#sk-container-id-1 div.sk-item {position: relative;z-index: 1;}#sk-container-id-1 div.sk-parallel {display: flex;align-items: stretch;justify-content: center;background-color: white;position: relative;}#sk-container-id-1 div.sk-item::before, #sk-container-id-1 div.sk-parallel-item::before {content: \"\";position: absolute;border-left: 1px solid gray;box-sizing: border-box;top: 0;bottom: 0;left: 50%;z-index: -1;}#sk-container-id-1 div.sk-parallel-item {display: flex;flex-direction: column;z-index: 1;position: relative;background-color: white;}#sk-container-id-1 div.sk-parallel-item:first-child::after {align-self: flex-end;width: 50%;}#sk-container-id-1 div.sk-parallel-item:last-child::after {align-self: flex-start;width: 50%;}#sk-container-id-1 div.sk-parallel-item:only-child::after {width: 0;}#sk-container-id-1 div.sk-dashed-wrapped {border: 1px dashed gray;margin: 0 0.4em 0.5em 0.4em;box-sizing: border-box;padding-bottom: 0.4em;background-color: white;}#sk-container-id-1 div.sk-label label {font-family: monospace;font-weight: bold;display: inline-block;line-height: 1.2em;}#sk-container-id-1 div.sk-label-container {text-align: center;}#sk-container-id-1 div.sk-container {/* jupyter's `normalize.less` sets `[hidden] { display: none; }` but bootstrap.min.css set `[hidden] { display: none !important; }` so we also need the `!important` here to be able to override the default hidden behavior on the sphinx rendered scikit-learn.org. See: https://github.com/scikit-learn/scikit-learn/issues/21755 */display: inline-block !important;position: relative;}#sk-container-id-1 div.sk-text-repr-fallback {display: none;}</style><div id=\"sk-container-id-1\" class=\"sk-top-container\"><div class=\"sk-text-repr-fallback\"><pre>GridSearchCV(cv=5, estimator=RandomForestClassifier(), n_jobs=-1,\n",
              "             param_grid={&#x27;criterion&#x27;: [&#x27;gini&#x27;, &#x27;entropy&#x27;, &#x27;log_loss&#x27;],\n",
              "                         &#x27;max_depth&#x27;: [5, 10],\n",
              "                         &#x27;min_samples_leaf&#x27;: [4, 5, 10, 15],\n",
              "                         &#x27;min_samples_split&#x27;: [4, 5, 10, 15],\n",
              "                         &#x27;n_estimators&#x27;: [5, 10, 20, 30]},\n",
              "             verbose=1)</pre><b>In a Jupyter environment, please rerun this cell to show the HTML representation or trust the notebook. <br />On GitHub, the HTML representation is unable to render, please try loading this page with nbviewer.org.</b></div><div class=\"sk-container\" hidden><div class=\"sk-item sk-dashed-wrapped\"><div class=\"sk-label-container\"><div class=\"sk-label sk-toggleable\"><input class=\"sk-toggleable__control sk-hidden--visually\" id=\"sk-estimator-id-1\" type=\"checkbox\" ><label for=\"sk-estimator-id-1\" class=\"sk-toggleable__label sk-toggleable__label-arrow\">GridSearchCV</label><div class=\"sk-toggleable__content\"><pre>GridSearchCV(cv=5, estimator=RandomForestClassifier(), n_jobs=-1,\n",
              "             param_grid={&#x27;criterion&#x27;: [&#x27;gini&#x27;, &#x27;entropy&#x27;, &#x27;log_loss&#x27;],\n",
              "                         &#x27;max_depth&#x27;: [5, 10],\n",
              "                         &#x27;min_samples_leaf&#x27;: [4, 5, 10, 15],\n",
              "                         &#x27;min_samples_split&#x27;: [4, 5, 10, 15],\n",
              "                         &#x27;n_estimators&#x27;: [5, 10, 20, 30]},\n",
              "             verbose=1)</pre></div></div></div><div class=\"sk-parallel\"><div class=\"sk-parallel-item\"><div class=\"sk-item\"><div class=\"sk-label-container\"><div class=\"sk-label sk-toggleable\"><input class=\"sk-toggleable__control sk-hidden--visually\" id=\"sk-estimator-id-2\" type=\"checkbox\" ><label for=\"sk-estimator-id-2\" class=\"sk-toggleable__label sk-toggleable__label-arrow\">estimator: RandomForestClassifier</label><div class=\"sk-toggleable__content\"><pre>RandomForestClassifier()</pre></div></div></div><div class=\"sk-serial\"><div class=\"sk-item\"><div class=\"sk-estimator sk-toggleable\"><input class=\"sk-toggleable__control sk-hidden--visually\" id=\"sk-estimator-id-3\" type=\"checkbox\" ><label for=\"sk-estimator-id-3\" class=\"sk-toggleable__label sk-toggleable__label-arrow\">RandomForestClassifier</label><div class=\"sk-toggleable__content\"><pre>RandomForestClassifier()</pre></div></div></div></div></div></div></div></div></div></div>"
            ]
          },
          "metadata": {},
          "execution_count": 67
        }
      ]
    },
    {
      "cell_type": "code",
      "source": [
        "gs.best_params_"
      ],
      "metadata": {
        "colab": {
          "base_uri": "https://localhost:8080/"
        },
        "id": "UlOd4-b4J4NB",
        "outputId": "1a207370-b4b1-49ae-a67d-18a78e407ff6"
      },
      "execution_count": null,
      "outputs": [
        {
          "output_type": "execute_result",
          "data": {
            "text/plain": [
              "{'criterion': 'log_loss',\n",
              " 'max_depth': 10,\n",
              " 'min_samples_leaf': 4,\n",
              " 'min_samples_split': 5,\n",
              " 'n_estimators': 20}"
            ]
          },
          "metadata": {},
          "execution_count": 68
        }
      ]
    },
    {
      "cell_type": "code",
      "source": [
        "ypr = gs.predict(X_ts)"
      ],
      "metadata": {
        "id": "Ol7MFZd0Je1-"
      },
      "execution_count": null,
      "outputs": []
    },
    {
      "cell_type": "code",
      "source": [
        "precision_score(y_ts, ypr)"
      ],
      "metadata": {
        "colab": {
          "base_uri": "https://localhost:8080/"
        },
        "id": "w664HktyKfi_",
        "outputId": "ad50781a-74bf-4975-e8d7-d453cd70ac0f"
      },
      "execution_count": null,
      "outputs": [
        {
          "output_type": "execute_result",
          "data": {
            "text/plain": [
              "0.7924528301886793"
            ]
          },
          "metadata": {},
          "execution_count": 70
        }
      ]
    },
    {
      "cell_type": "markdown",
      "source": [
        "**Модель model1 случайного леса дала хорошие показатели точности и полноты, которые можно применять в предсказании решения выдачи кредита получателю**"
      ],
      "metadata": {
        "id": "q16TM3ukEW3j"
      }
    }
  ]
}